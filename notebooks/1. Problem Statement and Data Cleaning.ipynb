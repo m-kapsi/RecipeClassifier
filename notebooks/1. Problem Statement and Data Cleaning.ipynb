{
 "cells": [
  {
   "cell_type": "markdown",
   "metadata": {},
   "source": [
    "# Capstone Project: Recipe Analysis and Classification for Meal Kit Services"
   ]
  },
  {
   "cell_type": "markdown",
   "metadata": {},
   "source": [
    "# Part 1: Problem Statement & Data Cleaning"
   ]
  },
  {
   "cell_type": "markdown",
   "metadata": {},
   "source": [
    "## Problem Statement"
   ]
  },
  {
   "cell_type": "markdown",
   "metadata": {},
   "source": [
    "The goal of this project is to use Natural Language Processing to gain insights on recipes across different cuisines. Specifically, this project aims to:\n",
    "1. Analyze ingredients to gain insights on the similarities and differences between global cuisines \n",
    "2. Use multiclass classification algorithms to predict the cuisine of a dish based on the ingredients\n",
    "3. Provide recomendations for recipes based on available ingredients"
   ]
  },
  {
   "cell_type": "markdown",
   "metadata": {},
   "source": [
    "### Contents:\n",
    "1. [Background](#1.-Background)\n",
    "2. [Data Import](#2.-Data-Import)\n",
    "3. [Data Cleaning](#3.-Data-Cleaning)"
   ]
  },
  {
   "cell_type": "markdown",
   "metadata": {},
   "source": [
    "## 1. Background"
   ]
  },
  {
   "cell_type": "markdown",
   "metadata": {},
   "source": [
    "Meal Kit services are growing increasingly popular, especially in a pandemic situation where many restaurants are closed, a significant number of people are working from home and therefore eating at home, and many people still do not have the time to shop groceries and plan meals for themselves regularly.\n",
    "\n",
    "Meal Kit services differ from meal delivery systems like Deliveroo or FoodPanda, where meals are prepared by restaurants, or grocery delivery systems like RedMart, where ingredients are delivered a la carte in bulk. A Meal Kit service is an intersection of the two - delivering recipe-specific ingredients of just the right portions. \n",
    "\n",
    "Meal Kit services help consumers emjoy the benefits of a home cooked meal, without any of the hassle of planning meals, buying groceries, or worrying about food wastage. Helping all kinds of customers find something tasty and exciting to cook is important for any meal kit service to succeed. \n",
    "\n",
    "Data science and analytics can be leveraged to help improve customers' cooking and eating experiences by improving and creating new recipes. These recipes can be used to create menus that target different customer segments based on culture and dietery preference, and satisfy diverse consumer needs that balance taste, nutrition, and dietery restrictions.\n",
    "\n",
    "There are many applications of data science to help increase the success of a meal kit service:\n",
    "1. Analyzing user feedback for sentiment analysis to identify the best and worse performing recipes\n",
    "2. Building a personalized recommendation system using user ratings on specific recipes to recommend new recipes to these users\n",
    "3. Analyzing recipe ingredients to understand what ingredients are popular among all recipes which can be useful for raw ingredient procurement\n",
    "4. Gaining insights into the geographical eating habits and preferences through understanding the differences in ingredients or food preperation techniques across different cuisines\n",
    "5. Analyzing the nutritional content of recipes to satisfy customer's daily macronutrient goals\n",
    "6. Creating new, experimental recipes that can be tested and improved to offer customers unique experiences\n",
    "\n",
    "HomeChef is a start up meal kit service. HomeChef's current business model involves two plans: 1/ A basic plan for novice home cooks where users select recipes every week and are provided pre-measured ingredients for those recipes, and 2/ a flex plan for home cooks who are ready for a challenge and would like to purchase their own ingredients a la carte from HomeChef's marketplace. For the flex plan, HomeChef will offer suggestions for cuisines, recipes, or other ingredients consumers may want to purchase based on their current selection.\n",
    "\n",
    "As a start up, they are still expanding their customer base and looking to use Natural Language Processing to gain insights on recipes across different cuisines. \n",
    "\n",
    "The primary goals for HomeChef's data science team are:\n",
    "1. Gain insights on the similarities and differences between global cuisines in order to provide consumers with the most appropriate ingredients and recipes\n",
    "2. Predict a cuisine and offer popular recipe suggestions based on ingredients selected"
   ]
  },
  {
   "cell_type": "markdown",
   "metadata": {},
   "source": [
    "## 2. Data Import"
   ]
  },
  {
   "cell_type": "code",
   "execution_count": 1,
   "metadata": {},
   "outputs": [],
   "source": [
    "# import libraries\n",
    "import pandas as pd\n",
    "import json\n",
    "import os\n",
    "import numpy as np\n",
    "import matplotlib.pyplot as plt\n",
    "%matplotlib inline\n",
    "import regex as re\n",
    "import missingno as msno\n",
    "from IPython.display import display\n",
    "import string\n",
    "import inflect\n",
    "import nltk\n",
    "from ast import literal_eval\n",
    "import pickle\n",
    "from stemming.porter2 import stem\n",
    "\n",
    "import warnings\n",
    "warnings.filterwarnings('ignore')"
   ]
  },
  {
   "cell_type": "code",
   "execution_count": 2,
   "metadata": {},
   "outputs": [],
   "source": [
    "# import function to store relevant data from json to dataframe\n",
    "import sys  \n",
    "sys.path.insert(0, '../src')\n",
    "\n",
    "import load_data"
   ]
  },
  {
   "cell_type": "code",
   "execution_count": null,
   "metadata": {},
   "outputs": [],
   "source": [
    "data = load_data.load_data()"
   ]
  },
  {
   "cell_type": "code",
   "execution_count": null,
   "metadata": {},
   "outputs": [],
   "source": [
    "# save raw data\n",
    "data.to_csv('../data/interim/raw.csv', index = False)"
   ]
  },
  {
   "cell_type": "markdown",
   "metadata": {},
   "source": [
    "## 3. Data Cleaning"
   ]
  },
  {
   "cell_type": "code",
   "execution_count": 3,
   "metadata": {},
   "outputs": [],
   "source": [
    "# import raw data\n",
    "\n",
    "data = pd.read_csv('../data/interim/raw.csv')"
   ]
  },
  {
   "cell_type": "code",
   "execution_count": 4,
   "metadata": {},
   "outputs": [
    {
     "name": "stdout",
     "output_type": "stream",
     "text": [
      "Number of recipes: 16580 recipes\n"
     ]
    }
   ],
   "source": [
    "# drop duplicate recipes\n",
    "data.drop_duplicates(['id'])\n",
    "print('Number of recipes: {} recipes'.format(len(data)))"
   ]
  },
  {
   "cell_type": "code",
   "execution_count": 5,
   "metadata": {},
   "outputs": [
    {
     "data": {
      "text/html": [
       "<div>\n",
       "<style scoped>\n",
       "    .dataframe tbody tr th:only-of-type {\n",
       "        vertical-align: middle;\n",
       "    }\n",
       "\n",
       "    .dataframe tbody tr th {\n",
       "        vertical-align: top;\n",
       "    }\n",
       "\n",
       "    .dataframe thead th {\n",
       "        text-align: right;\n",
       "    }\n",
       "</style>\n",
       "<table border=\"1\" class=\"dataframe\">\n",
       "  <thead>\n",
       "    <tr style=\"text-align: right;\">\n",
       "      <th></th>\n",
       "      <th>totalTime</th>\n",
       "      <th>name</th>\n",
       "      <th>prepTime</th>\n",
       "      <th>id</th>\n",
       "      <th>ingredientLines</th>\n",
       "      <th>totalTimeInSeconds</th>\n",
       "      <th>flavors</th>\n",
       "      <th>rating</th>\n",
       "      <th>course</th>\n",
       "      <th>cuisine</th>\n",
       "      <th>FAT_KCAL</th>\n",
       "      <th>CHOCDF</th>\n",
       "      <th>PROCNT</th>\n",
       "      <th>FAT</th>\n",
       "      <th>source</th>\n",
       "    </tr>\n",
       "  </thead>\n",
       "  <tbody>\n",
       "    <tr>\n",
       "      <th>0</th>\n",
       "      <td>7 hr 30 min</td>\n",
       "      <td>TAKEOUT STYLE CHINESE SPARE RIBS (TAKE 2)</td>\n",
       "      <td>6 Hr</td>\n",
       "      <td>TAKEOUT-STYLE-CHINESE-SPARE-RIBS-_TAKE-2_-771701</td>\n",
       "      <td>['5 cloves freshly minced garlic', '1 tablespo...</td>\n",
       "      <td>27000.0</td>\n",
       "      <td>{'Bitter': 0.8333, 'Meaty': 0.6667, 'Piquant':...</td>\n",
       "      <td>4</td>\n",
       "      <td>['Main Dishes']</td>\n",
       "      <td>['Chinese']</td>\n",
       "      <td>170.0</td>\n",
       "      <td>39.67</td>\n",
       "      <td>20.02</td>\n",
       "      <td>18.81</td>\n",
       "      <td>http://thewoksoflife.com/2014/03/takeout-style...</td>\n",
       "    </tr>\n",
       "    <tr>\n",
       "      <th>1</th>\n",
       "      <td>2 hr 15 min</td>\n",
       "      <td>Corned Beef and Vegetables</td>\n",
       "      <td>15 Min</td>\n",
       "      <td>Corned-Beef-and-Vegetables-1907240</td>\n",
       "      <td>['1 whole corned beef brisket (6 to 8 pounds),...</td>\n",
       "      <td>8100.0</td>\n",
       "      <td>{'Bitter': 0.1667, 'Meaty': 0.1667, 'Piquant':...</td>\n",
       "      <td>4</td>\n",
       "      <td>['Main Dishes']</td>\n",
       "      <td>['Irish']</td>\n",
       "      <td>200.0</td>\n",
       "      <td>75.54</td>\n",
       "      <td>72.33</td>\n",
       "      <td>21.87</td>\n",
       "      <td>http://www.goingmywayz.com/corned-beef-vegetab...</td>\n",
       "    </tr>\n",
       "    <tr>\n",
       "      <th>2</th>\n",
       "      <td>40 min</td>\n",
       "      <td>Kung Pao Chicken</td>\n",
       "      <td>NaN</td>\n",
       "      <td>Kung-Pao-Chicken-1096839</td>\n",
       "      <td>['1 tablespoon soy sauce', '2 teaspoons Chines...</td>\n",
       "      <td>2400.0</td>\n",
       "      <td>{'Bitter': 0.1667, 'Meaty': 0.1667, 'Piquant':...</td>\n",
       "      <td>3</td>\n",
       "      <td>['Main Dishes']</td>\n",
       "      <td>['Chinese', 'Asian']</td>\n",
       "      <td>140.0</td>\n",
       "      <td>8.14</td>\n",
       "      <td>26.70</td>\n",
       "      <td>15.91</td>\n",
       "      <td>http://www.epicurious.com/recipes/food/views/k...</td>\n",
       "    </tr>\n",
       "    <tr>\n",
       "      <th>3</th>\n",
       "      <td>1 hr 50 min</td>\n",
       "      <td>Pulpo Gallego, Spanish Octopus with Paprika</td>\n",
       "      <td>20 Min</td>\n",
       "      <td>Pulpo-Gallego_-Spanish-Octopus-with-Paprika-21...</td>\n",
       "      <td>['2 to 3 pounds octopus', '1 bunch of parsley'...</td>\n",
       "      <td>6600.0</td>\n",
       "      <td>{'Bitter': 0.8333, 'Meaty': 0.3333, 'Piquant':...</td>\n",
       "      <td>4</td>\n",
       "      <td>['Main Dishes']</td>\n",
       "      <td>['Spanish']</td>\n",
       "      <td>190.0</td>\n",
       "      <td>10.38</td>\n",
       "      <td>35.21</td>\n",
       "      <td>20.67</td>\n",
       "      <td>https://honest-food.net/pulpo-gallego-recipe-o...</td>\n",
       "    </tr>\n",
       "    <tr>\n",
       "      <th>4</th>\n",
       "      <td>2 hr 45 min</td>\n",
       "      <td>Pork Carnitas</td>\n",
       "      <td>NaN</td>\n",
       "      <td>Pork-Carnitas-590301</td>\n",
       "      <td>['4 pound boneless pork butt, fat trimmed and ...</td>\n",
       "      <td>9900.0</td>\n",
       "      <td>{'Bitter': 0.3333, 'Meaty': 0.6667, 'Piquant':...</td>\n",
       "      <td>4</td>\n",
       "      <td>['Main Dishes']</td>\n",
       "      <td>['Mexican']</td>\n",
       "      <td>120.0</td>\n",
       "      <td>2.82</td>\n",
       "      <td>19.51</td>\n",
       "      <td>12.51</td>\n",
       "      <td>http://www.mykitchenescapades.com/2012/11/pork...</td>\n",
       "    </tr>\n",
       "  </tbody>\n",
       "</table>\n",
       "</div>"
      ],
      "text/plain": [
       "     totalTime                                         name prepTime  \\\n",
       "0  7 hr 30 min    TAKEOUT STYLE CHINESE SPARE RIBS (TAKE 2)     6 Hr   \n",
       "1  2 hr 15 min                   Corned Beef and Vegetables   15 Min   \n",
       "2       40 min                             Kung Pao Chicken      NaN   \n",
       "3  1 hr 50 min  Pulpo Gallego, Spanish Octopus with Paprika   20 Min   \n",
       "4  2 hr 45 min                                Pork Carnitas      NaN   \n",
       "\n",
       "                                                  id  \\\n",
       "0   TAKEOUT-STYLE-CHINESE-SPARE-RIBS-_TAKE-2_-771701   \n",
       "1                 Corned-Beef-and-Vegetables-1907240   \n",
       "2                           Kung-Pao-Chicken-1096839   \n",
       "3  Pulpo-Gallego_-Spanish-Octopus-with-Paprika-21...   \n",
       "4                               Pork-Carnitas-590301   \n",
       "\n",
       "                                     ingredientLines  totalTimeInSeconds  \\\n",
       "0  ['5 cloves freshly minced garlic', '1 tablespo...             27000.0   \n",
       "1  ['1 whole corned beef brisket (6 to 8 pounds),...              8100.0   \n",
       "2  ['1 tablespoon soy sauce', '2 teaspoons Chines...              2400.0   \n",
       "3  ['2 to 3 pounds octopus', '1 bunch of parsley'...              6600.0   \n",
       "4  ['4 pound boneless pork butt, fat trimmed and ...              9900.0   \n",
       "\n",
       "                                             flavors  rating           course  \\\n",
       "0  {'Bitter': 0.8333, 'Meaty': 0.6667, 'Piquant':...       4  ['Main Dishes']   \n",
       "1  {'Bitter': 0.1667, 'Meaty': 0.1667, 'Piquant':...       4  ['Main Dishes']   \n",
       "2  {'Bitter': 0.1667, 'Meaty': 0.1667, 'Piquant':...       3  ['Main Dishes']   \n",
       "3  {'Bitter': 0.8333, 'Meaty': 0.3333, 'Piquant':...       4  ['Main Dishes']   \n",
       "4  {'Bitter': 0.3333, 'Meaty': 0.6667, 'Piquant':...       4  ['Main Dishes']   \n",
       "\n",
       "                cuisine  FAT_KCAL  CHOCDF  PROCNT    FAT  \\\n",
       "0           ['Chinese']     170.0   39.67   20.02  18.81   \n",
       "1             ['Irish']     200.0   75.54   72.33  21.87   \n",
       "2  ['Chinese', 'Asian']     140.0    8.14   26.70  15.91   \n",
       "3           ['Spanish']     190.0   10.38   35.21  20.67   \n",
       "4           ['Mexican']     120.0    2.82   19.51  12.51   \n",
       "\n",
       "                                              source  \n",
       "0  http://thewoksoflife.com/2014/03/takeout-style...  \n",
       "1  http://www.goingmywayz.com/corned-beef-vegetab...  \n",
       "2  http://www.epicurious.com/recipes/food/views/k...  \n",
       "3  https://honest-food.net/pulpo-gallego-recipe-o...  \n",
       "4  http://www.mykitchenescapades.com/2012/11/pork...  "
      ]
     },
     "execution_count": 5,
     "metadata": {},
     "output_type": "execute_result"
    }
   ],
   "source": [
    "# display first 5 rows\n",
    "data.head()"
   ]
  },
  {
   "cell_type": "code",
   "execution_count": 6,
   "metadata": {},
   "outputs": [
    {
     "name": "stdout",
     "output_type": "stream",
     "text": [
      "<class 'pandas.core.frame.DataFrame'>\n",
      "RangeIndex: 16580 entries, 0 to 16579\n",
      "Data columns (total 15 columns):\n",
      " #   Column              Non-Null Count  Dtype  \n",
      "---  ------              --------------  -----  \n",
      " 0   totalTime           16580 non-null  object \n",
      " 1   name                16580 non-null  object \n",
      " 2   prepTime            8012 non-null   object \n",
      " 3   id                  16580 non-null  object \n",
      " 4   ingredientLines     16580 non-null  object \n",
      " 5   totalTimeInSeconds  16580 non-null  float64\n",
      " 6   flavors             16580 non-null  object \n",
      " 7   rating              16580 non-null  int64  \n",
      " 8   course              16580 non-null  object \n",
      " 9   cuisine             16578 non-null  object \n",
      " 10  FAT_KCAL            14752 non-null  float64\n",
      " 11  CHOCDF              15012 non-null  float64\n",
      " 12  PROCNT              15021 non-null  float64\n",
      " 13  FAT                 14993 non-null  float64\n",
      " 14  source              16580 non-null  object \n",
      "dtypes: float64(5), int64(1), object(9)\n",
      "memory usage: 1.9+ MB\n"
     ]
    }
   ],
   "source": [
    "# data info\n",
    "data.info()"
   ]
  },
  {
   "cell_type": "code",
   "execution_count": 7,
   "metadata": {},
   "outputs": [
    {
     "data": {
      "image/png": "[encoded data removed]",
      "text/plain": [
       "<Figure size 1728x720 with 3 Axes>"
      ]
     },
     "metadata": {
      "needs_background": "light"
     },
     "output_type": "display_data"
    }
   ],
   "source": [
    "# check for missing values\n",
    "msno.bar(data) ;"
   ]
  },
  {
   "cell_type": "markdown",
   "metadata": {},
   "source": [
    "- Since we have total time in seconds and total time, I will drop prepTime\n",
    "- I need to handle the cuisine and course columns (data is lists), ingredientLines (I want to extract the ingredients without the amounts/additional information, name (standardize format), yield (convert this into integer)"
   ]
  },
  {
   "cell_type": "code",
   "execution_count": 8,
   "metadata": {},
   "outputs": [],
   "source": [
    "# drop prepTime\n",
    "data.drop('prepTime', axis = 1, inplace = True)"
   ]
  },
  {
   "cell_type": "markdown",
   "metadata": {},
   "source": [
    "### 3.1 Cuisine"
   ]
  },
  {
   "cell_type": "code",
   "execution_count": 9,
   "metadata": {},
   "outputs": [
    {
     "data": {
      "text/plain": [
       "0             ['Chinese']\n",
       "1               ['Irish']\n",
       "2    ['Chinese', 'Asian']\n",
       "3             ['Spanish']\n",
       "4             ['Mexican']\n",
       "Name: cuisine, dtype: object"
      ]
     },
     "execution_count": 9,
     "metadata": {},
     "output_type": "execute_result"
    }
   ],
   "source": [
    "data['cuisine'].head()"
   ]
  },
  {
   "cell_type": "code",
   "execution_count": 10,
   "metadata": {},
   "outputs": [
    {
     "data": {
      "text/html": [
       "<div>\n",
       "<style scoped>\n",
       "    .dataframe tbody tr th:only-of-type {\n",
       "        vertical-align: middle;\n",
       "    }\n",
       "\n",
       "    .dataframe tbody tr th {\n",
       "        vertical-align: top;\n",
       "    }\n",
       "\n",
       "    .dataframe thead th {\n",
       "        text-align: right;\n",
       "    }\n",
       "</style>\n",
       "<table border=\"1\" class=\"dataframe\">\n",
       "  <thead>\n",
       "    <tr style=\"text-align: right;\">\n",
       "      <th></th>\n",
       "      <th>totalTime</th>\n",
       "      <th>name</th>\n",
       "      <th>id</th>\n",
       "      <th>ingredientLines</th>\n",
       "      <th>totalTimeInSeconds</th>\n",
       "      <th>flavors</th>\n",
       "      <th>rating</th>\n",
       "      <th>course</th>\n",
       "      <th>cuisine</th>\n",
       "      <th>FAT_KCAL</th>\n",
       "      <th>CHOCDF</th>\n",
       "      <th>PROCNT</th>\n",
       "      <th>FAT</th>\n",
       "      <th>source</th>\n",
       "    </tr>\n",
       "  </thead>\n",
       "  <tbody>\n",
       "    <tr>\n",
       "      <th>283</th>\n",
       "      <td>1 hr</td>\n",
       "      <td>Coconut Curry Red Lentil Soup</td>\n",
       "      <td>Coconut-Curry-Red-Lentil-Soup-2075988</td>\n",
       "      <td>['1 cup red lentils', '3 cups vegetable broth'...</td>\n",
       "      <td>3600.0</td>\n",
       "      <td>{'Bitter': 0.5, 'Meaty': 0.1667, 'Piquant': 0....</td>\n",
       "      <td>4</td>\n",
       "      <td>['Soups', 'Main Dishes']</td>\n",
       "      <td>NaN</td>\n",
       "      <td>170.0</td>\n",
       "      <td>54.37</td>\n",
       "      <td>17.89</td>\n",
       "      <td>18.53</td>\n",
       "      <td>https://naturallyella.com/coconut-curry-red-le...</td>\n",
       "    </tr>\n",
       "    <tr>\n",
       "      <th>4441</th>\n",
       "      <td>8 hr 40 min</td>\n",
       "      <td>Slow Cooker Pork Carnitas</td>\n",
       "      <td>Slow-Cooker-Pork-Carnitas-2270910</td>\n",
       "      <td>['1 tablespoon chili powder', '2 teaspoons gro...</td>\n",
       "      <td>31200.0</td>\n",
       "      <td>{'Bitter': 0.6667, 'Meaty': 0.8333, 'Piquant':...</td>\n",
       "      <td>4</td>\n",
       "      <td>['Main Dishes']</td>\n",
       "      <td>NaN</td>\n",
       "      <td>140.0</td>\n",
       "      <td>14.22</td>\n",
       "      <td>46.68</td>\n",
       "      <td>16.18</td>\n",
       "      <td>https://damndelicious.net/2014/10/10/slow-cook...</td>\n",
       "    </tr>\n",
       "  </tbody>\n",
       "</table>\n",
       "</div>"
      ],
      "text/plain": [
       "        totalTime                           name  \\\n",
       "283          1 hr  Coconut Curry Red Lentil Soup   \n",
       "4441  8 hr 40 min      Slow Cooker Pork Carnitas   \n",
       "\n",
       "                                         id  \\\n",
       "283   Coconut-Curry-Red-Lentil-Soup-2075988   \n",
       "4441      Slow-Cooker-Pork-Carnitas-2270910   \n",
       "\n",
       "                                        ingredientLines  totalTimeInSeconds  \\\n",
       "283   ['1 cup red lentils', '3 cups vegetable broth'...              3600.0   \n",
       "4441  ['1 tablespoon chili powder', '2 teaspoons gro...             31200.0   \n",
       "\n",
       "                                                flavors  rating  \\\n",
       "283   {'Bitter': 0.5, 'Meaty': 0.1667, 'Piquant': 0....       4   \n",
       "4441  {'Bitter': 0.6667, 'Meaty': 0.8333, 'Piquant':...       4   \n",
       "\n",
       "                        course cuisine  FAT_KCAL  CHOCDF  PROCNT    FAT  \\\n",
       "283   ['Soups', 'Main Dishes']     NaN     170.0   54.37   17.89  18.53   \n",
       "4441           ['Main Dishes']     NaN     140.0   14.22   46.68  16.18   \n",
       "\n",
       "                                                 source  \n",
       "283   https://naturallyella.com/coconut-curry-red-le...  \n",
       "4441  https://damndelicious.net/2014/10/10/slow-cook...  "
      ]
     },
     "execution_count": 10,
     "metadata": {},
     "output_type": "execute_result"
    }
   ],
   "source": [
    "# check null values\n",
    "data[data[\"cuisine\"].isnull()]"
   ]
  },
  {
   "cell_type": "markdown",
   "metadata": {},
   "source": [
    "- From the recipe source: coconut curry red lentil soup is indian, and slow cooker pork carnitas is mexican"
   ]
  },
  {
   "cell_type": "code",
   "execution_count": 11,
   "metadata": {},
   "outputs": [],
   "source": [
    "# fill cuisine data\n",
    "data.at[283,'cuisine'] = \"['Indian']\"\n",
    "data.at[4441,'cuisine'] = \"['Mexican']\""
   ]
  },
  {
   "cell_type": "code",
   "execution_count": 12,
   "metadata": {},
   "outputs": [],
   "source": [
    "# evaluate string to list\n",
    "data[\"cuisine\"] = data[\"cuisine\"].apply(eval)"
   ]
  },
  {
   "cell_type": "code",
   "execution_count": 13,
   "metadata": {},
   "outputs": [
    {
     "data": {
      "text/plain": [
       "Asian                   2472\n",
       "Barbecue                1501\n",
       "Mexican                 1061\n",
       "Italian                 1039\n",
       "Chinese                 1025\n",
       "American                1019\n",
       "French                  1019\n",
       "Indian                  1015\n",
       "Spanish                 1011\n",
       "Moroccan                1002\n",
       "Japanese                1001\n",
       "English                 1000\n",
       "Greek                    999\n",
       "German                   997\n",
       "Thai                     996\n",
       "Irish                    849\n",
       "Hawaiian                 777\n",
       "Cuban                    729\n",
       "Hungarian                613\n",
       "Swedish                  543\n",
       "Mediterranean            507\n",
       "Kid-Friendly             499\n",
       "Portuguese               295\n",
       "Southwestern             268\n",
       "Southern & Soul Food     116\n",
       "Cajun & Creole            52\n",
       "Vietnamese                21\n",
       "Filipino                  15\n",
       "Turkish                   13\n",
       "Korean                    11\n",
       "Brazilian                  5\n",
       "Jamaican                   2\n",
       "Name: cuisine, dtype: int64"
      ]
     },
     "execution_count": 13,
     "metadata": {},
     "output_type": "execute_result"
    }
   ],
   "source": [
    "# check frequency of cuisine\n",
    "data['cuisine'].explode().value_counts()"
   ]
  },
  {
   "cell_type": "code",
   "execution_count": 14,
   "metadata": {},
   "outputs": [],
   "source": [
    "# Add feature to see rows with multiple cuisines\n",
    "data['number_of_cuisines'] = data['cuisine'].apply(lambda x: len(x))"
   ]
  },
  {
   "cell_type": "code",
   "execution_count": 15,
   "metadata": {},
   "outputs": [
    {
     "data": {
      "text/plain": [
       "Asian                   2470\n",
       "Barbecue                1501\n",
       "Chinese                  834\n",
       "Japanese                 800\n",
       "Thai                     794\n",
       "Greek                    625\n",
       "Mediterranean            507\n",
       "Kid-Friendly             498\n",
       "Mexican                  471\n",
       "American                 432\n",
       "Hawaiian                 293\n",
       "Southwestern             268\n",
       "Indian                   217\n",
       "English                  189\n",
       "Italian                  168\n",
       "Cuban                    157\n",
       "Moroccan                 127\n",
       "Irish                    126\n",
       "Spanish                  121\n",
       "Southern & Soul Food     116\n",
       "German                    90\n",
       "French                    87\n",
       "Portuguese                75\n",
       "Cajun & Creole            52\n",
       "Swedish                   33\n",
       "Hungarian                 28\n",
       "Vietnamese                21\n",
       "Filipino                  15\n",
       "Turkish                   13\n",
       "Korean                    11\n",
       "Brazilian                  5\n",
       "Jamaican                   2\n",
       "Name: cuisine, dtype: int64"
      ]
     },
     "execution_count": 15,
     "metadata": {},
     "output_type": "execute_result"
    }
   ],
   "source": [
    "# check frequency for rows with multiple cuisines per dish\n",
    "data[data['number_of_cuisines']>1]['cuisine'].explode().value_counts()"
   ]
  },
  {
   "cell_type": "markdown",
   "metadata": {},
   "source": [
    "- Out of 2472 appearances of \"Asian\", 2470 are tagged as some other cuisine as well\n",
    "- Out of 1501 appearances of \"Barbeque\", 1501 are tagged as some other cuisine as well\n",
    "- Out of 507 appearances of \"Mediterranean\", 507 are tagged as some other cuisine as well\n",
    "- Out of 499 appearances of \"Kid Friendly\", 498 are tagged as some other cuisine as well\n",
    "- I will remove these cuisines from the lists"
   ]
  },
  {
   "cell_type": "code",
   "execution_count": 16,
   "metadata": {},
   "outputs": [],
   "source": [
    "def remove_cuisine(string, df):\n",
    "    df.apply(lambda x: x.cuisine.remove(string) \n",
    "             if (x.number_of_cuisines > 1) & (string in set(x.cuisine)) else x, axis=1)"
   ]
  },
  {
   "cell_type": "code",
   "execution_count": 17,
   "metadata": {},
   "outputs": [],
   "source": [
    "remove_cuisine('Asian', data)\n",
    "remove_cuisine('Barbecue', data)\n",
    "remove_cuisine('Mediterranean', data)\n",
    "remove_cuisine('Kid-Friendly', data)"
   ]
  },
  {
   "cell_type": "code",
   "execution_count": 18,
   "metadata": {},
   "outputs": [
    {
     "data": {
      "text/html": [
       "<div>\n",
       "<style scoped>\n",
       "    .dataframe tbody tr th:only-of-type {\n",
       "        vertical-align: middle;\n",
       "    }\n",
       "\n",
       "    .dataframe tbody tr th {\n",
       "        vertical-align: top;\n",
       "    }\n",
       "\n",
       "    .dataframe thead th {\n",
       "        text-align: right;\n",
       "    }\n",
       "</style>\n",
       "<table border=\"1\" class=\"dataframe\">\n",
       "  <thead>\n",
       "    <tr style=\"text-align: right;\">\n",
       "      <th></th>\n",
       "      <th>totalTime</th>\n",
       "      <th>name</th>\n",
       "      <th>id</th>\n",
       "      <th>ingredientLines</th>\n",
       "      <th>totalTimeInSeconds</th>\n",
       "      <th>flavors</th>\n",
       "      <th>rating</th>\n",
       "      <th>course</th>\n",
       "      <th>cuisine</th>\n",
       "      <th>FAT_KCAL</th>\n",
       "      <th>CHOCDF</th>\n",
       "      <th>PROCNT</th>\n",
       "      <th>FAT</th>\n",
       "      <th>source</th>\n",
       "      <th>number_of_cuisines</th>\n",
       "    </tr>\n",
       "  </thead>\n",
       "  <tbody>\n",
       "    <tr>\n",
       "      <th>0</th>\n",
       "      <td>7 hr 30 min</td>\n",
       "      <td>TAKEOUT STYLE CHINESE SPARE RIBS (TAKE 2)</td>\n",
       "      <td>TAKEOUT-STYLE-CHINESE-SPARE-RIBS-_TAKE-2_-771701</td>\n",
       "      <td>['5 cloves freshly minced garlic', '1 tablespo...</td>\n",
       "      <td>27000.0</td>\n",
       "      <td>{'Bitter': 0.8333, 'Meaty': 0.6667, 'Piquant':...</td>\n",
       "      <td>4</td>\n",
       "      <td>['Main Dishes']</td>\n",
       "      <td>[Chinese]</td>\n",
       "      <td>170.0</td>\n",
       "      <td>39.67</td>\n",
       "      <td>20.02</td>\n",
       "      <td>18.81</td>\n",
       "      <td>http://thewoksoflife.com/2014/03/takeout-style...</td>\n",
       "      <td>1</td>\n",
       "    </tr>\n",
       "    <tr>\n",
       "      <th>1</th>\n",
       "      <td>2 hr 15 min</td>\n",
       "      <td>Corned Beef and Vegetables</td>\n",
       "      <td>Corned-Beef-and-Vegetables-1907240</td>\n",
       "      <td>['1 whole corned beef brisket (6 to 8 pounds),...</td>\n",
       "      <td>8100.0</td>\n",
       "      <td>{'Bitter': 0.1667, 'Meaty': 0.1667, 'Piquant':...</td>\n",
       "      <td>4</td>\n",
       "      <td>['Main Dishes']</td>\n",
       "      <td>[Irish]</td>\n",
       "      <td>200.0</td>\n",
       "      <td>75.54</td>\n",
       "      <td>72.33</td>\n",
       "      <td>21.87</td>\n",
       "      <td>http://www.goingmywayz.com/corned-beef-vegetab...</td>\n",
       "      <td>1</td>\n",
       "    </tr>\n",
       "    <tr>\n",
       "      <th>2</th>\n",
       "      <td>40 min</td>\n",
       "      <td>Kung Pao Chicken</td>\n",
       "      <td>Kung-Pao-Chicken-1096839</td>\n",
       "      <td>['1 tablespoon soy sauce', '2 teaspoons Chines...</td>\n",
       "      <td>2400.0</td>\n",
       "      <td>{'Bitter': 0.1667, 'Meaty': 0.1667, 'Piquant':...</td>\n",
       "      <td>3</td>\n",
       "      <td>['Main Dishes']</td>\n",
       "      <td>[Chinese]</td>\n",
       "      <td>140.0</td>\n",
       "      <td>8.14</td>\n",
       "      <td>26.70</td>\n",
       "      <td>15.91</td>\n",
       "      <td>http://www.epicurious.com/recipes/food/views/k...</td>\n",
       "      <td>2</td>\n",
       "    </tr>\n",
       "    <tr>\n",
       "      <th>3</th>\n",
       "      <td>1 hr 50 min</td>\n",
       "      <td>Pulpo Gallego, Spanish Octopus with Paprika</td>\n",
       "      <td>Pulpo-Gallego_-Spanish-Octopus-with-Paprika-21...</td>\n",
       "      <td>['2 to 3 pounds octopus', '1 bunch of parsley'...</td>\n",
       "      <td>6600.0</td>\n",
       "      <td>{'Bitter': 0.8333, 'Meaty': 0.3333, 'Piquant':...</td>\n",
       "      <td>4</td>\n",
       "      <td>['Main Dishes']</td>\n",
       "      <td>[Spanish]</td>\n",
       "      <td>190.0</td>\n",
       "      <td>10.38</td>\n",
       "      <td>35.21</td>\n",
       "      <td>20.67</td>\n",
       "      <td>https://honest-food.net/pulpo-gallego-recipe-o...</td>\n",
       "      <td>1</td>\n",
       "    </tr>\n",
       "    <tr>\n",
       "      <th>4</th>\n",
       "      <td>2 hr 45 min</td>\n",
       "      <td>Pork Carnitas</td>\n",
       "      <td>Pork-Carnitas-590301</td>\n",
       "      <td>['4 pound boneless pork butt, fat trimmed and ...</td>\n",
       "      <td>9900.0</td>\n",
       "      <td>{'Bitter': 0.3333, 'Meaty': 0.6667, 'Piquant':...</td>\n",
       "      <td>4</td>\n",
       "      <td>['Main Dishes']</td>\n",
       "      <td>[Mexican]</td>\n",
       "      <td>120.0</td>\n",
       "      <td>2.82</td>\n",
       "      <td>19.51</td>\n",
       "      <td>12.51</td>\n",
       "      <td>http://www.mykitchenescapades.com/2012/11/pork...</td>\n",
       "      <td>1</td>\n",
       "    </tr>\n",
       "  </tbody>\n",
       "</table>\n",
       "</div>"
      ],
      "text/plain": [
       "     totalTime                                         name  \\\n",
       "0  7 hr 30 min    TAKEOUT STYLE CHINESE SPARE RIBS (TAKE 2)   \n",
       "1  2 hr 15 min                   Corned Beef and Vegetables   \n",
       "2       40 min                             Kung Pao Chicken   \n",
       "3  1 hr 50 min  Pulpo Gallego, Spanish Octopus with Paprika   \n",
       "4  2 hr 45 min                                Pork Carnitas   \n",
       "\n",
       "                                                  id  \\\n",
       "0   TAKEOUT-STYLE-CHINESE-SPARE-RIBS-_TAKE-2_-771701   \n",
       "1                 Corned-Beef-and-Vegetables-1907240   \n",
       "2                           Kung-Pao-Chicken-1096839   \n",
       "3  Pulpo-Gallego_-Spanish-Octopus-with-Paprika-21...   \n",
       "4                               Pork-Carnitas-590301   \n",
       "\n",
       "                                     ingredientLines  totalTimeInSeconds  \\\n",
       "0  ['5 cloves freshly minced garlic', '1 tablespo...             27000.0   \n",
       "1  ['1 whole corned beef brisket (6 to 8 pounds),...              8100.0   \n",
       "2  ['1 tablespoon soy sauce', '2 teaspoons Chines...              2400.0   \n",
       "3  ['2 to 3 pounds octopus', '1 bunch of parsley'...              6600.0   \n",
       "4  ['4 pound boneless pork butt, fat trimmed and ...              9900.0   \n",
       "\n",
       "                                             flavors  rating           course  \\\n",
       "0  {'Bitter': 0.8333, 'Meaty': 0.6667, 'Piquant':...       4  ['Main Dishes']   \n",
       "1  {'Bitter': 0.1667, 'Meaty': 0.1667, 'Piquant':...       4  ['Main Dishes']   \n",
       "2  {'Bitter': 0.1667, 'Meaty': 0.1667, 'Piquant':...       3  ['Main Dishes']   \n",
       "3  {'Bitter': 0.8333, 'Meaty': 0.3333, 'Piquant':...       4  ['Main Dishes']   \n",
       "4  {'Bitter': 0.3333, 'Meaty': 0.6667, 'Piquant':...       4  ['Main Dishes']   \n",
       "\n",
       "     cuisine  FAT_KCAL  CHOCDF  PROCNT    FAT  \\\n",
       "0  [Chinese]     170.0   39.67   20.02  18.81   \n",
       "1    [Irish]     200.0   75.54   72.33  21.87   \n",
       "2  [Chinese]     140.0    8.14   26.70  15.91   \n",
       "3  [Spanish]     190.0   10.38   35.21  20.67   \n",
       "4  [Mexican]     120.0    2.82   19.51  12.51   \n",
       "\n",
       "                                              source  number_of_cuisines  \n",
       "0  http://thewoksoflife.com/2014/03/takeout-style...                   1  \n",
       "1  http://www.goingmywayz.com/corned-beef-vegetab...                   1  \n",
       "2  http://www.epicurious.com/recipes/food/views/k...                   2  \n",
       "3  https://honest-food.net/pulpo-gallego-recipe-o...                   1  \n",
       "4  http://www.mykitchenescapades.com/2012/11/pork...                   1  "
      ]
     },
     "execution_count": 18,
     "metadata": {},
     "output_type": "execute_result"
    }
   ],
   "source": [
    "data.head()"
   ]
  },
  {
   "cell_type": "code",
   "execution_count": 19,
   "metadata": {},
   "outputs": [
    {
     "data": {
      "text/plain": [
       "Mexican                 1061\n",
       "Italian                 1039\n",
       "Chinese                 1025\n",
       "French                  1019\n",
       "American                1019\n",
       "Indian                  1015\n",
       "Spanish                 1011\n",
       "Moroccan                1002\n",
       "Japanese                1001\n",
       "English                 1000\n",
       "Greek                    999\n",
       "German                   997\n",
       "Thai                     996\n",
       "Irish                    849\n",
       "Hawaiian                 777\n",
       "Cuban                    729\n",
       "Hungarian                613\n",
       "Swedish                  543\n",
       "Portuguese               295\n",
       "Southwestern             268\n",
       "Southern & Soul Food     116\n",
       "Cajun & Creole            52\n",
       "Vietnamese                21\n",
       "Filipino                  15\n",
       "Turkish                   13\n",
       "Korean                    11\n",
       "Brazilian                  5\n",
       "Jamaican                   2\n",
       "Asian                      2\n",
       "Kid-Friendly               1\n",
       "Name: cuisine, dtype: int64"
      ]
     },
     "execution_count": 19,
     "metadata": {},
     "output_type": "execute_result"
    }
   ],
   "source": [
    "# check frequency of cuisine\n",
    "data['cuisine'].explode().value_counts()"
   ]
  },
  {
   "cell_type": "code",
   "execution_count": 20,
   "metadata": {},
   "outputs": [
    {
     "data": {
      "text/plain": [
       "Mexican                 310\n",
       "Southwestern            268\n",
       "American                225\n",
       "English                 137\n",
       "Southern & Soul Food    116\n",
       "Irish                   103\n",
       "Spanish                  71\n",
       "Chinese                  60\n",
       "Cuban                    59\n",
       "Cajun & Creole           52\n",
       "Italian                  47\n",
       "Portuguese               45\n",
       "French                   44\n",
       "Japanese                 38\n",
       "Indian                   30\n",
       "Thai                     26\n",
       "Hawaiian                 25\n",
       "Vietnamese               21\n",
       "German                   18\n",
       "Moroccan                 18\n",
       "Filipino                 15\n",
       "Hungarian                14\n",
       "Turkish                  13\n",
       "Greek                    12\n",
       "Korean                   11\n",
       "Swedish                   5\n",
       "Brazilian                 5\n",
       "Jamaican                  2\n",
       "Name: cuisine, dtype: int64"
      ]
     },
     "execution_count": 20,
     "metadata": {},
     "output_type": "execute_result"
    }
   ],
   "source": [
    "# check frequency for rows with multiple cuisines per dish\n",
    "data['number_of_cuisines'] = data['cuisine'].apply(lambda x: len(x))\n",
    "data[data['number_of_cuisines']>1]['cuisine'].explode().value_counts()"
   ]
  },
  {
   "cell_type": "markdown",
   "metadata": {},
   "source": [
    "- \"Mexican\" is repeated 310 times and \"Southwestern\" is repeated 268 times\n",
    "- I will filter for all rows containing Southwestern and Mexican to see what other cuisines they are classified as"
   ]
  },
  {
   "cell_type": "code",
   "execution_count": 21,
   "metadata": {},
   "outputs": [
    {
     "data": {
      "text/plain": [
       "Southwestern    268\n",
       "Mexican         242\n",
       "American         23\n",
       "Cuban             8\n",
       "English           2\n",
       "Hawaiian          2\n",
       "Indian            1\n",
       "Thai              1\n",
       "Spanish           1\n",
       "Chinese           1\n",
       "Name: cuisine, dtype: int64"
      ]
     },
     "execution_count": 21,
     "metadata": {},
     "output_type": "execute_result"
    }
   ],
   "source": [
    "lst = ['Southwestern'] # filter Southwestern\n",
    "m = data['cuisine'].apply(lambda s: len(set(s) & set(lst)) > 0)\n",
    "data[m]['cuisine'].explode().value_counts()"
   ]
  },
  {
   "cell_type": "code",
   "execution_count": 22,
   "metadata": {},
   "outputs": [
    {
     "data": {
      "text/plain": [
       "Mexican         1061\n",
       "Southwestern     242\n",
       "Cuban             41\n",
       "American          16\n",
       "Spanish            8\n",
       "Hawaiian           7\n",
       "Italian            2\n",
       "Moroccan           2\n",
       "English            1\n",
       "Filipino           1\n",
       "Greek              1\n",
       "Irish              1\n",
       "Name: cuisine, dtype: int64"
      ]
     },
     "execution_count": 22,
     "metadata": {},
     "output_type": "execute_result"
    }
   ],
   "source": [
    "lst = ['Mexican'] # filter Mexican\n",
    "m = data['cuisine'].apply(lambda s: len(set(s) & set(lst)) > 0)\n",
    "data[m]['cuisine'].explode().value_counts()"
   ]
  },
  {
   "cell_type": "markdown",
   "metadata": {},
   "source": [
    "- 242 \"Southwestern\" dishes out of 268 are also \"Mexican\", while 242 out of 1061 \"Mexican\" dishes are also \"Southwestern\" -> I will remove Southwestern from the cuisine list"
   ]
  },
  {
   "cell_type": "code",
   "execution_count": 23,
   "metadata": {},
   "outputs": [],
   "source": [
    "remove_cuisine('Southwestern', data)"
   ]
  },
  {
   "cell_type": "code",
   "execution_count": 24,
   "metadata": {},
   "outputs": [
    {
     "data": {
      "text/plain": [
       "Mexican                 1061\n",
       "Italian                 1039\n",
       "Chinese                 1025\n",
       "American                1019\n",
       "French                  1019\n",
       "Indian                  1015\n",
       "Spanish                 1011\n",
       "Moroccan                1002\n",
       "Japanese                1001\n",
       "English                 1000\n",
       "Greek                    999\n",
       "German                   997\n",
       "Thai                     996\n",
       "Irish                    849\n",
       "Hawaiian                 777\n",
       "Cuban                    729\n",
       "Hungarian                613\n",
       "Swedish                  543\n",
       "Portuguese               295\n",
       "Southern & Soul Food     116\n",
       "Cajun & Creole            52\n",
       "Vietnamese                21\n",
       "Filipino                  15\n",
       "Turkish                   13\n",
       "Korean                    11\n",
       "Brazilian                  5\n",
       "Asian                      2\n",
       "Jamaican                   2\n",
       "Kid-Friendly               1\n",
       "Name: cuisine, dtype: int64"
      ]
     },
     "execution_count": 24,
     "metadata": {},
     "output_type": "execute_result"
    }
   ],
   "source": [
    "# check frequency of cuisines\n",
    "data['cuisine'].explode().value_counts()"
   ]
  },
  {
   "cell_type": "markdown",
   "metadata": {},
   "source": [
    "- I will drop cuisines with less that 500 recipes from the dataset"
   ]
  },
  {
   "cell_type": "code",
   "execution_count": 25,
   "metadata": {},
   "outputs": [],
   "source": [
    "# filter for cuisines with more than 500 recipes\n",
    "cuisine_list = data['cuisine'].explode().value_counts()\n",
    "cuisine_list = list(cuisine_list[cuisine_list>500].index)"
   ]
  },
  {
   "cell_type": "code",
   "execution_count": 26,
   "metadata": {},
   "outputs": [
    {
     "name": "stdout",
     "output_type": "stream",
     "text": [
      "Final list of cuisines: ['Mexican', 'Italian', 'Chinese', 'American', 'French', 'Indian', 'Spanish', 'Moroccan', 'Japanese', 'English', 'Greek', 'German', 'Thai', 'Irish', 'Hawaiian', 'Cuban', 'Hungarian', 'Swedish']\n"
     ]
    }
   ],
   "source": [
    "print('Final list of cuisines: {}'.format(list(cuisine_list)))"
   ]
  },
  {
   "cell_type": "code",
   "execution_count": 27,
   "metadata": {},
   "outputs": [
    {
     "data": {
      "text/plain": [
       "American                208\n",
       "English                 135\n",
       "Southern & Soul Food    116\n",
       "Irish                   103\n",
       "Mexican                  80\n",
       "Spanish                  70\n",
       "Chinese                  60\n",
       "Cuban                    57\n",
       "Cajun & Creole           52\n",
       "Italian                  47\n",
       "Portuguese               45\n",
       "French                   44\n",
       "Japanese                 38\n",
       "Indian                   29\n",
       "Thai                     26\n",
       "Hawaiian                 23\n",
       "Vietnamese               21\n",
       "Moroccan                 18\n",
       "German                   18\n",
       "Filipino                 15\n",
       "Hungarian                14\n",
       "Turkish                  13\n",
       "Greek                    12\n",
       "Korean                   11\n",
       "Swedish                   5\n",
       "Brazilian                 5\n",
       "Jamaican                  2\n",
       "Name: cuisine, dtype: int64"
      ]
     },
     "execution_count": 27,
     "metadata": {},
     "output_type": "execute_result"
    }
   ],
   "source": [
    "# check repeated cuisines\n",
    "data['number_of_cuisines'] = data['cuisine'].apply(lambda x: len(x))\n",
    "data[data['number_of_cuisines']>1]['cuisine'].explode().value_counts()"
   ]
  },
  {
   "cell_type": "code",
   "execution_count": 28,
   "metadata": {},
   "outputs": [],
   "source": [
    "# remove cuisines that are not in the final list of cuisines\n",
    "all_cuisines = set(data[data['number_of_cuisines']>1]['cuisine'].explode().value_counts().index)\n",
    "remove_lst = list(all_cuisines - set(cuisine_list))\n",
    "\n",
    "for i in remove_lst:\n",
    "    remove_cuisine(i, data)"
   ]
  },
  {
   "cell_type": "code",
   "execution_count": 29,
   "metadata": {},
   "outputs": [],
   "source": [
    "# drop rows that are not in the final list of cuisines\n",
    "mask = data['cuisine'].apply(lambda s: len(set(s) & set(cuisine_list)) > 0)\n",
    "data = data[mask]"
   ]
  },
  {
   "cell_type": "code",
   "execution_count": 30,
   "metadata": {},
   "outputs": [
    {
     "data": {
      "text/plain": [
       "English      134\n",
       "Irish        103\n",
       "Mexican       79\n",
       "American      67\n",
       "Cuban         53\n",
       "Italian       47\n",
       "French        43\n",
       "Chinese       42\n",
       "Japanese      32\n",
       "Spanish       26\n",
       "Indian        24\n",
       "Hawaiian      20\n",
       "German        17\n",
       "Moroccan      16\n",
       "Hungarian     14\n",
       "Thai          12\n",
       "Swedish        5\n",
       "Greek          2\n",
       "Name: cuisine, dtype: int64"
      ]
     },
     "execution_count": 30,
     "metadata": {},
     "output_type": "execute_result"
    }
   ],
   "source": [
    "# check for rows with multiple cuisines\n",
    "data['number_of_cuisines'] = data['cuisine'].apply(lambda x: len(x))\n",
    "data[data['number_of_cuisines']>1]['cuisine'].explode().value_counts()"
   ]
  },
  {
   "cell_type": "markdown",
   "metadata": {},
   "source": [
    "- I am going to consider everything remaining as fusion recipes => to make things simpler, I will remove all fusion recipes that belong to more than one of the main cuisines from my dataset"
   ]
  },
  {
   "cell_type": "code",
   "execution_count": 31,
   "metadata": {},
   "outputs": [
    {
     "data": {
      "text/plain": [
       "1    15959\n",
       "2      365\n",
       "3        2\n",
       "Name: number_of_cuisines, dtype: int64"
      ]
     },
     "execution_count": 31,
     "metadata": {},
     "output_type": "execute_result"
    }
   ],
   "source": [
    "data['number_of_cuisines'].value_counts()"
   ]
  },
  {
   "cell_type": "code",
   "execution_count": 32,
   "metadata": {},
   "outputs": [],
   "source": [
    "data = data[data['number_of_cuisines'] < 2]"
   ]
  },
  {
   "cell_type": "code",
   "execution_count": 33,
   "metadata": {},
   "outputs": [
    {
     "data": {
      "text/plain": [
       "(15959, 15)"
      ]
     },
     "execution_count": 33,
     "metadata": {},
     "output_type": "execute_result"
    }
   ],
   "source": [
    "data.shape"
   ]
  },
  {
   "cell_type": "code",
   "execution_count": 34,
   "metadata": {},
   "outputs": [
    {
     "data": {
      "text/plain": [
       "Greek        997\n",
       "Italian      992\n",
       "Indian       991\n",
       "Moroccan     986\n",
       "Spanish      985\n",
       "Thai         984\n",
       "Chinese      983\n",
       "Mexican      982\n",
       "German       980\n",
       "French       976\n",
       "Japanese     969\n",
       "American     952\n",
       "English      866\n",
       "Hawaiian     757\n",
       "Irish        746\n",
       "Cuban        676\n",
       "Hungarian    599\n",
       "Swedish      538\n",
       "Name: cuisine, dtype: int64"
      ]
     },
     "execution_count": 34,
     "metadata": {},
     "output_type": "execute_result"
    }
   ],
   "source": [
    "# check frequency of cuisines\n",
    "data['cuisine'].explode().value_counts()"
   ]
  },
  {
   "cell_type": "code",
   "execution_count": 35,
   "metadata": {},
   "outputs": [],
   "source": [
    "# convert cuisine from a list to a string\n",
    "data['cuisine'] = data['cuisine'].str.join(',')"
   ]
  },
  {
   "cell_type": "code",
   "execution_count": 36,
   "metadata": {},
   "outputs": [],
   "source": [
    "# drop number of cuisines column (since all rows only have 1 cuisine now)\n",
    "data.drop('number_of_cuisines', axis =1, inplace = True)"
   ]
  },
  {
   "cell_type": "markdown",
   "metadata": {},
   "source": [
    "### 3.2 Course"
   ]
  },
  {
   "cell_type": "code",
   "execution_count": 37,
   "metadata": {},
   "outputs": [
    {
     "data": {
      "text/plain": [
       "0    ['Main Dishes']\n",
       "1    ['Main Dishes']\n",
       "2    ['Main Dishes']\n",
       "3    ['Main Dishes']\n",
       "4    ['Main Dishes']\n",
       "Name: course, dtype: object"
      ]
     },
     "execution_count": 37,
     "metadata": {},
     "output_type": "execute_result"
    }
   ],
   "source": [
    "# check first 5 rows\n",
    "data['course'].head()"
   ]
  },
  {
   "cell_type": "code",
   "execution_count": 38,
   "metadata": {},
   "outputs": [
    {
     "data": {
      "text/plain": [
       "0"
      ]
     },
     "execution_count": 38,
     "metadata": {},
     "output_type": "execute_result"
    }
   ],
   "source": [
    "#check null values\n",
    "data['course'].isnull().sum()"
   ]
  },
  {
   "cell_type": "code",
   "execution_count": 39,
   "metadata": {},
   "outputs": [],
   "source": [
    "# evaluate string to list\n",
    "data['course'] = data['course'].apply(eval)"
   ]
  },
  {
   "cell_type": "code",
   "execution_count": 40,
   "metadata": {},
   "outputs": [
    {
     "data": {
      "text/plain": [
       "Main Dishes              15959\n",
       "Lunch                     1723\n",
       "Soups                      534\n",
       "Appetizers                 285\n",
       "Salads                     185\n",
       "Breakfast and Brunch       148\n",
       "Side Dishes                113\n",
       "Snacks                      29\n",
       "Breads                      18\n",
       "Condiments and Sauces       14\n",
       "Desserts                    13\n",
       "Name: course, dtype: int64"
      ]
     },
     "execution_count": 40,
     "metadata": {},
     "output_type": "execute_result"
    }
   ],
   "source": [
    "# check frequency of course\n",
    "data['course'].explode().value_counts()"
   ]
  },
  {
   "cell_type": "code",
   "execution_count": 41,
   "metadata": {},
   "outputs": [
    {
     "data": {
      "text/plain": [
       "Main Dishes              2865\n",
       "Lunch                    1723\n",
       "Soups                     534\n",
       "Appetizers                285\n",
       "Salads                    185\n",
       "Breakfast and Brunch      148\n",
       "Side Dishes               113\n",
       "Snacks                     29\n",
       "Breads                     18\n",
       "Condiments and Sauces      14\n",
       "Desserts                   13\n",
       "Name: course, dtype: int64"
      ]
     },
     "execution_count": 41,
     "metadata": {},
     "output_type": "execute_result"
    }
   ],
   "source": [
    "# check frequency for rows with multiple courses per dish\n",
    "data['number_of_courses'] = data['course'].apply(lambda x: len(x))\n",
    "data[data['number_of_courses']>1]['course'].explode().value_counts()"
   ]
  },
  {
   "cell_type": "code",
   "execution_count": 42,
   "metadata": {},
   "outputs": [
    {
     "data": {
      "text/html": [
       "<div>\n",
       "<style scoped>\n",
       "    .dataframe tbody tr th:only-of-type {\n",
       "        vertical-align: middle;\n",
       "    }\n",
       "\n",
       "    .dataframe tbody tr th {\n",
       "        vertical-align: top;\n",
       "    }\n",
       "\n",
       "    .dataframe thead th {\n",
       "        text-align: right;\n",
       "    }\n",
       "</style>\n",
       "<table border=\"1\" class=\"dataframe\">\n",
       "  <thead>\n",
       "    <tr style=\"text-align: right;\">\n",
       "      <th></th>\n",
       "      <th>totalTime</th>\n",
       "      <th>name</th>\n",
       "      <th>id</th>\n",
       "      <th>ingredientLines</th>\n",
       "      <th>totalTimeInSeconds</th>\n",
       "      <th>flavors</th>\n",
       "      <th>rating</th>\n",
       "      <th>course</th>\n",
       "      <th>cuisine</th>\n",
       "      <th>FAT_KCAL</th>\n",
       "      <th>CHOCDF</th>\n",
       "      <th>PROCNT</th>\n",
       "      <th>FAT</th>\n",
       "      <th>source</th>\n",
       "      <th>number_of_courses</th>\n",
       "    </tr>\n",
       "  </thead>\n",
       "  <tbody>\n",
       "    <tr>\n",
       "      <th>0</th>\n",
       "      <td>7 hr 30 min</td>\n",
       "      <td>TAKEOUT STYLE CHINESE SPARE RIBS (TAKE 2)</td>\n",
       "      <td>TAKEOUT-STYLE-CHINESE-SPARE-RIBS-_TAKE-2_-771701</td>\n",
       "      <td>['5 cloves freshly minced garlic', '1 tablespo...</td>\n",
       "      <td>27000.0</td>\n",
       "      <td>{'Bitter': 0.8333, 'Meaty': 0.6667, 'Piquant':...</td>\n",
       "      <td>4</td>\n",
       "      <td>[Main Dishes]</td>\n",
       "      <td>Chinese</td>\n",
       "      <td>170.0</td>\n",
       "      <td>39.67</td>\n",
       "      <td>20.02</td>\n",
       "      <td>18.81</td>\n",
       "      <td>http://thewoksoflife.com/2014/03/takeout-style...</td>\n",
       "      <td>1</td>\n",
       "    </tr>\n",
       "    <tr>\n",
       "      <th>1</th>\n",
       "      <td>2 hr 15 min</td>\n",
       "      <td>Corned Beef and Vegetables</td>\n",
       "      <td>Corned-Beef-and-Vegetables-1907240</td>\n",
       "      <td>['1 whole corned beef brisket (6 to 8 pounds),...</td>\n",
       "      <td>8100.0</td>\n",
       "      <td>{'Bitter': 0.1667, 'Meaty': 0.1667, 'Piquant':...</td>\n",
       "      <td>4</td>\n",
       "      <td>[Main Dishes]</td>\n",
       "      <td>Irish</td>\n",
       "      <td>200.0</td>\n",
       "      <td>75.54</td>\n",
       "      <td>72.33</td>\n",
       "      <td>21.87</td>\n",
       "      <td>http://www.goingmywayz.com/corned-beef-vegetab...</td>\n",
       "      <td>1</td>\n",
       "    </tr>\n",
       "    <tr>\n",
       "      <th>2</th>\n",
       "      <td>40 min</td>\n",
       "      <td>Kung Pao Chicken</td>\n",
       "      <td>Kung-Pao-Chicken-1096839</td>\n",
       "      <td>['1 tablespoon soy sauce', '2 teaspoons Chines...</td>\n",
       "      <td>2400.0</td>\n",
       "      <td>{'Bitter': 0.1667, 'Meaty': 0.1667, 'Piquant':...</td>\n",
       "      <td>3</td>\n",
       "      <td>[Main Dishes]</td>\n",
       "      <td>Chinese</td>\n",
       "      <td>140.0</td>\n",
       "      <td>8.14</td>\n",
       "      <td>26.70</td>\n",
       "      <td>15.91</td>\n",
       "      <td>http://www.epicurious.com/recipes/food/views/k...</td>\n",
       "      <td>1</td>\n",
       "    </tr>\n",
       "    <tr>\n",
       "      <th>3</th>\n",
       "      <td>1 hr 50 min</td>\n",
       "      <td>Pulpo Gallego, Spanish Octopus with Paprika</td>\n",
       "      <td>Pulpo-Gallego_-Spanish-Octopus-with-Paprika-21...</td>\n",
       "      <td>['2 to 3 pounds octopus', '1 bunch of parsley'...</td>\n",
       "      <td>6600.0</td>\n",
       "      <td>{'Bitter': 0.8333, 'Meaty': 0.3333, 'Piquant':...</td>\n",
       "      <td>4</td>\n",
       "      <td>[Main Dishes]</td>\n",
       "      <td>Spanish</td>\n",
       "      <td>190.0</td>\n",
       "      <td>10.38</td>\n",
       "      <td>35.21</td>\n",
       "      <td>20.67</td>\n",
       "      <td>https://honest-food.net/pulpo-gallego-recipe-o...</td>\n",
       "      <td>1</td>\n",
       "    </tr>\n",
       "    <tr>\n",
       "      <th>4</th>\n",
       "      <td>2 hr 45 min</td>\n",
       "      <td>Pork Carnitas</td>\n",
       "      <td>Pork-Carnitas-590301</td>\n",
       "      <td>['4 pound boneless pork butt, fat trimmed and ...</td>\n",
       "      <td>9900.0</td>\n",
       "      <td>{'Bitter': 0.3333, 'Meaty': 0.6667, 'Piquant':...</td>\n",
       "      <td>4</td>\n",
       "      <td>[Main Dishes]</td>\n",
       "      <td>Mexican</td>\n",
       "      <td>120.0</td>\n",
       "      <td>2.82</td>\n",
       "      <td>19.51</td>\n",
       "      <td>12.51</td>\n",
       "      <td>http://www.mykitchenescapades.com/2012/11/pork...</td>\n",
       "      <td>1</td>\n",
       "    </tr>\n",
       "  </tbody>\n",
       "</table>\n",
       "</div>"
      ],
      "text/plain": [
       "     totalTime                                         name  \\\n",
       "0  7 hr 30 min    TAKEOUT STYLE CHINESE SPARE RIBS (TAKE 2)   \n",
       "1  2 hr 15 min                   Corned Beef and Vegetables   \n",
       "2       40 min                             Kung Pao Chicken   \n",
       "3  1 hr 50 min  Pulpo Gallego, Spanish Octopus with Paprika   \n",
       "4  2 hr 45 min                                Pork Carnitas   \n",
       "\n",
       "                                                  id  \\\n",
       "0   TAKEOUT-STYLE-CHINESE-SPARE-RIBS-_TAKE-2_-771701   \n",
       "1                 Corned-Beef-and-Vegetables-1907240   \n",
       "2                           Kung-Pao-Chicken-1096839   \n",
       "3  Pulpo-Gallego_-Spanish-Octopus-with-Paprika-21...   \n",
       "4                               Pork-Carnitas-590301   \n",
       "\n",
       "                                     ingredientLines  totalTimeInSeconds  \\\n",
       "0  ['5 cloves freshly minced garlic', '1 tablespo...             27000.0   \n",
       "1  ['1 whole corned beef brisket (6 to 8 pounds),...              8100.0   \n",
       "2  ['1 tablespoon soy sauce', '2 teaspoons Chines...              2400.0   \n",
       "3  ['2 to 3 pounds octopus', '1 bunch of parsley'...              6600.0   \n",
       "4  ['4 pound boneless pork butt, fat trimmed and ...              9900.0   \n",
       "\n",
       "                                             flavors  rating         course  \\\n",
       "0  {'Bitter': 0.8333, 'Meaty': 0.6667, 'Piquant':...       4  [Main Dishes]   \n",
       "1  {'Bitter': 0.1667, 'Meaty': 0.1667, 'Piquant':...       4  [Main Dishes]   \n",
       "2  {'Bitter': 0.1667, 'Meaty': 0.1667, 'Piquant':...       3  [Main Dishes]   \n",
       "3  {'Bitter': 0.8333, 'Meaty': 0.3333, 'Piquant':...       4  [Main Dishes]   \n",
       "4  {'Bitter': 0.3333, 'Meaty': 0.6667, 'Piquant':...       4  [Main Dishes]   \n",
       "\n",
       "   cuisine  FAT_KCAL  CHOCDF  PROCNT    FAT  \\\n",
       "0  Chinese     170.0   39.67   20.02  18.81   \n",
       "1    Irish     200.0   75.54   72.33  21.87   \n",
       "2  Chinese     140.0    8.14   26.70  15.91   \n",
       "3  Spanish     190.0   10.38   35.21  20.67   \n",
       "4  Mexican     120.0    2.82   19.51  12.51   \n",
       "\n",
       "                                              source  number_of_courses  \n",
       "0  http://thewoksoflife.com/2014/03/takeout-style...                  1  \n",
       "1  http://www.goingmywayz.com/corned-beef-vegetab...                  1  \n",
       "2  http://www.epicurious.com/recipes/food/views/k...                  1  \n",
       "3  https://honest-food.net/pulpo-gallego-recipe-o...                  1  \n",
       "4  http://www.mykitchenescapades.com/2012/11/pork...                  1  "
      ]
     },
     "execution_count": 42,
     "metadata": {},
     "output_type": "execute_result"
    }
   ],
   "source": [
    "lst = ['Main Dishes'] # filter Main Dishes\n",
    "m = data['course'].apply(lambda s: len(set(s) & set(lst)) > 0)\n",
    "data[m].head()"
   ]
  },
  {
   "cell_type": "markdown",
   "metadata": {},
   "source": [
    "- This is not very useful since every course in the data set is labeled as \"main dishes\", and over 80% of the data set is only labeled as \"main dishes\"\n",
    "- I will drop this column\n"
   ]
  },
  {
   "cell_type": "code",
   "execution_count": 43,
   "metadata": {},
   "outputs": [],
   "source": [
    "data.drop(['course', 'number_of_courses'], axis = 1, inplace = True)"
   ]
  },
  {
   "cell_type": "code",
   "execution_count": 44,
   "metadata": {},
   "outputs": [
    {
     "name": "stdout",
     "output_type": "stream",
     "text": [
      "<class 'pandas.core.frame.DataFrame'>\n",
      "Int64Index: 15959 entries, 0 to 16579\n",
      "Data columns (total 13 columns):\n",
      " #   Column              Non-Null Count  Dtype  \n",
      "---  ------              --------------  -----  \n",
      " 0   totalTime           15959 non-null  object \n",
      " 1   name                15959 non-null  object \n",
      " 2   id                  15959 non-null  object \n",
      " 3   ingredientLines     15959 non-null  object \n",
      " 4   totalTimeInSeconds  15959 non-null  float64\n",
      " 5   flavors             15959 non-null  object \n",
      " 6   rating              15959 non-null  int64  \n",
      " 7   cuisine             15959 non-null  object \n",
      " 8   FAT_KCAL            14193 non-null  float64\n",
      " 9   CHOCDF              14443 non-null  float64\n",
      " 10  PROCNT              14451 non-null  float64\n",
      " 11  FAT                 14425 non-null  float64\n",
      " 12  source              15959 non-null  object \n",
      "dtypes: float64(5), int64(1), object(7)\n",
      "memory usage: 1.7+ MB\n"
     ]
    }
   ],
   "source": [
    "data.info()"
   ]
  },
  {
   "cell_type": "markdown",
   "metadata": {},
   "source": [
    "### 3.4 Rating"
   ]
  },
  {
   "cell_type": "code",
   "execution_count": 45,
   "metadata": {},
   "outputs": [
    {
     "data": {
      "text/plain": [
       "count    15959.000000\n",
       "mean         3.800927\n",
       "std          0.625849\n",
       "min          0.000000\n",
       "25%          3.000000\n",
       "50%          4.000000\n",
       "75%          4.000000\n",
       "max          5.000000\n",
       "Name: rating, dtype: float64"
      ]
     },
     "execution_count": 45,
     "metadata": {},
     "output_type": "execute_result"
    }
   ],
   "source": [
    "data['rating'].describe()"
   ]
  },
  {
   "cell_type": "code",
   "execution_count": 46,
   "metadata": {},
   "outputs": [
    {
     "data": {
      "text/plain": [
       "0"
      ]
     },
     "execution_count": 46,
     "metadata": {},
     "output_type": "execute_result"
    }
   ],
   "source": [
    "data['rating'].isnull().sum()"
   ]
  },
  {
   "cell_type": "code",
   "execution_count": 47,
   "metadata": {},
   "outputs": [
    {
     "data": {
      "text/plain": [
       "68"
      ]
     },
     "execution_count": 47,
     "metadata": {},
     "output_type": "execute_result"
    }
   ],
   "source": [
    "len(data[data['rating']==0])"
   ]
  },
  {
   "cell_type": "markdown",
   "metadata": {},
   "source": [
    "- The rating feature looks ok - there are no null values and all values are between 0 and 5, with a mean of 3.8 which is what I would expect\n",
    "- There are 68 recipes with a rating of 0...These recipes have most likely not been rated (i.e. are not very popular, rather than have been rated very poorly)"
   ]
  },
  {
   "cell_type": "markdown",
   "metadata": {},
   "source": [
    "### 3.5 Flavors"
   ]
  },
  {
   "cell_type": "code",
   "execution_count": 48,
   "metadata": {},
   "outputs": [],
   "source": [
    "# evaluate string to dict\n",
    "data['flavors'] = data['flavors'].apply(eval)"
   ]
  },
  {
   "cell_type": "code",
   "execution_count": 49,
   "metadata": {},
   "outputs": [
    {
     "data": {
      "text/plain": [
       "0"
      ]
     },
     "execution_count": 49,
     "metadata": {},
     "output_type": "execute_result"
    }
   ],
   "source": [
    "data['flavors'].isnull().sum()"
   ]
  },
  {
   "cell_type": "code",
   "execution_count": 50,
   "metadata": {},
   "outputs": [
    {
     "data": {
      "text/plain": [
       "0.30615953380537625"
      ]
     },
     "execution_count": 50,
     "metadata": {},
     "output_type": "execute_result"
    }
   ],
   "source": [
    "data[data['flavors']=={}]['flavors'].count()/len(data)"
   ]
  },
  {
   "cell_type": "markdown",
   "metadata": {},
   "source": [
    "- 30.6% of the data is missing flavors data\n",
    "- I don't want rows that are missing flavors data to be confused with rows where the flavor profile for a specific flavor is 0\n",
    "- I will create a seperate feature for missing flavors data"
   ]
  },
  {
   "cell_type": "code",
   "execution_count": 51,
   "metadata": {},
   "outputs": [
    {
     "data": {
      "text/plain": [
       "0    0.69384\n",
       "1    0.30616\n",
       "Name: flav_is_missing, dtype: float64"
      ]
     },
     "execution_count": 51,
     "metadata": {},
     "output_type": "execute_result"
    }
   ],
   "source": [
    "data['flav_is_missing'] = (data['flavors'] == {}).astype(int)\n",
    "data['flav_is_missing'].value_counts(normalize = True)"
   ]
  },
  {
   "cell_type": "code",
   "execution_count": 52,
   "metadata": {},
   "outputs": [
    {
     "data": {
      "text/plain": [
       "cuisine\n",
       "Japanese     45.820433\n",
       "Thai         45.528455\n",
       "Mexican      37.270876\n",
       "Indian       35.519677\n",
       "Italian      35.181452\n",
       "American     33.403361\n",
       "Hawaiian     31.836196\n",
       "English      31.639723\n",
       "French       29.918033\n",
       "Irish        27.613941\n",
       "Moroccan     26.876268\n",
       "Spanish      26.598985\n",
       "Chinese      26.449644\n",
       "Greek        25.877633\n",
       "Cuban        24.260355\n",
       "German       20.918367\n",
       "Hungarian    17.028381\n",
       "Swedish      14.869888\n",
       "Name: flavors, dtype: float64"
      ]
     },
     "execution_count": 52,
     "metadata": {},
     "output_type": "execute_result"
    }
   ],
   "source": [
    "pct_missing = data[data.flavors == {}].groupby('cuisine').flavors.count()/data.groupby('cuisine').flavors.count()*100\n",
    "pct_missing.sort_values(ascending = False)"
   ]
  },
  {
   "cell_type": "markdown",
   "metadata": {},
   "source": [
    "- For Japanese and Thai food, 45% of the dishes are missing flavor data\n",
    "- For now, I will clean these columns...I may use it for EDA but there is a lot of missing data"
   ]
  },
  {
   "cell_type": "code",
   "execution_count": 53,
   "metadata": {},
   "outputs": [],
   "source": [
    "json_struct = json.loads(data.to_json(orient=\"records\"))    \n",
    "data = pd.io.json.json_normalize(json_struct) #use pd.io.json\n",
    "data.rename(columns={'flavors.Bitter': 'Bitter', 'flavors.Meaty': 'Meaty', 'flavors.Piquant': 'Piquant',\n",
    "              'flavors.Salty':'Salty', 'flavors.Sour':'Sour', 'flavors.Sweet':'Sweet'}, inplace=True)"
   ]
  },
  {
   "cell_type": "code",
   "execution_count": 54,
   "metadata": {},
   "outputs": [
    {
     "data": {
      "text/html": [
       "<div>\n",
       "<style scoped>\n",
       "    .dataframe tbody tr th:only-of-type {\n",
       "        vertical-align: middle;\n",
       "    }\n",
       "\n",
       "    .dataframe tbody tr th {\n",
       "        vertical-align: top;\n",
       "    }\n",
       "\n",
       "    .dataframe thead th {\n",
       "        text-align: right;\n",
       "    }\n",
       "</style>\n",
       "<table border=\"1\" class=\"dataframe\">\n",
       "  <thead>\n",
       "    <tr style=\"text-align: right;\">\n",
       "      <th></th>\n",
       "      <th>Bitter</th>\n",
       "      <th>Meaty</th>\n",
       "      <th>Piquant</th>\n",
       "      <th>Salty</th>\n",
       "      <th>Sour</th>\n",
       "      <th>Sweet</th>\n",
       "    </tr>\n",
       "  </thead>\n",
       "  <tbody>\n",
       "    <tr>\n",
       "      <th>count</th>\n",
       "      <td>11073.000000</td>\n",
       "      <td>11073.000000</td>\n",
       "      <td>11073.000000</td>\n",
       "      <td>11073.000000</td>\n",
       "      <td>11073.000000</td>\n",
       "      <td>11073.000000</td>\n",
       "    </tr>\n",
       "    <tr>\n",
       "      <th>mean</th>\n",
       "      <td>0.416065</td>\n",
       "      <td>0.384595</td>\n",
       "      <td>0.264343</td>\n",
       "      <td>0.493094</td>\n",
       "      <td>0.447445</td>\n",
       "      <td>0.215969</td>\n",
       "    </tr>\n",
       "    <tr>\n",
       "      <th>std</th>\n",
       "      <td>0.266016</td>\n",
       "      <td>0.253273</td>\n",
       "      <td>0.296682</td>\n",
       "      <td>0.280116</td>\n",
       "      <td>0.273661</td>\n",
       "      <td>0.132774</td>\n",
       "    </tr>\n",
       "    <tr>\n",
       "      <th>min</th>\n",
       "      <td>0.000000</td>\n",
       "      <td>0.000000</td>\n",
       "      <td>0.000000</td>\n",
       "      <td>0.000000</td>\n",
       "      <td>0.000000</td>\n",
       "      <td>0.000000</td>\n",
       "    </tr>\n",
       "    <tr>\n",
       "      <th>25%</th>\n",
       "      <td>0.166700</td>\n",
       "      <td>0.166700</td>\n",
       "      <td>0.000000</td>\n",
       "      <td>0.166700</td>\n",
       "      <td>0.166700</td>\n",
       "      <td>0.166700</td>\n",
       "    </tr>\n",
       "    <tr>\n",
       "      <th>50%</th>\n",
       "      <td>0.333300</td>\n",
       "      <td>0.333300</td>\n",
       "      <td>0.166700</td>\n",
       "      <td>0.500000</td>\n",
       "      <td>0.333300</td>\n",
       "      <td>0.166700</td>\n",
       "    </tr>\n",
       "    <tr>\n",
       "      <th>75%</th>\n",
       "      <td>0.666700</td>\n",
       "      <td>0.666700</td>\n",
       "      <td>0.500000</td>\n",
       "      <td>0.833300</td>\n",
       "      <td>0.666700</td>\n",
       "      <td>0.166700</td>\n",
       "    </tr>\n",
       "    <tr>\n",
       "      <th>max</th>\n",
       "      <td>1.000000</td>\n",
       "      <td>1.000000</td>\n",
       "      <td>1.000000</td>\n",
       "      <td>1.000000</td>\n",
       "      <td>1.000000</td>\n",
       "      <td>1.000000</td>\n",
       "    </tr>\n",
       "  </tbody>\n",
       "</table>\n",
       "</div>"
      ],
      "text/plain": [
       "             Bitter         Meaty       Piquant         Salty          Sour  \\\n",
       "count  11073.000000  11073.000000  11073.000000  11073.000000  11073.000000   \n",
       "mean       0.416065      0.384595      0.264343      0.493094      0.447445   \n",
       "std        0.266016      0.253273      0.296682      0.280116      0.273661   \n",
       "min        0.000000      0.000000      0.000000      0.000000      0.000000   \n",
       "25%        0.166700      0.166700      0.000000      0.166700      0.166700   \n",
       "50%        0.333300      0.333300      0.166700      0.500000      0.333300   \n",
       "75%        0.666700      0.666700      0.500000      0.833300      0.666700   \n",
       "max        1.000000      1.000000      1.000000      1.000000      1.000000   \n",
       "\n",
       "              Sweet  \n",
       "count  11073.000000  \n",
       "mean       0.215969  \n",
       "std        0.132774  \n",
       "min        0.000000  \n",
       "25%        0.166700  \n",
       "50%        0.166700  \n",
       "75%        0.166700  \n",
       "max        1.000000  "
      ]
     },
     "execution_count": 54,
     "metadata": {},
     "output_type": "execute_result"
    }
   ],
   "source": [
    "flavor_col = ['Bitter', 'Meaty', 'Piquant','Salty', 'Sour', 'Sweet']\n",
    "data[flavor_col].describe()"
   ]
  },
  {
   "cell_type": "markdown",
   "metadata": {},
   "source": [
    "- Flavors are broken down into 6 categories: Bitter, Meaty, Piquant, Salty, Sour, and Sweet\n",
    "- Each category is rated between 0 and 1, taking 1 of 6 discrete values: for readability, i will convert this to a scale between 1 to 6"
   ]
  },
  {
   "cell_type": "code",
   "execution_count": 55,
   "metadata": {},
   "outputs": [],
   "source": [
    "# fill nan as 0\n",
    "data[flavor_col] = data[flavor_col].fillna(0)"
   ]
  },
  {
   "cell_type": "code",
   "execution_count": 56,
   "metadata": {},
   "outputs": [],
   "source": [
    "# change scale to 0-6\n",
    "data[flavor_col] = round(data[flavor_col]*6).astype(int)"
   ]
  },
  {
   "cell_type": "code",
   "execution_count": 57,
   "metadata": {},
   "outputs": [
    {
     "data": {
      "text/html": [
       "<div>\n",
       "<style scoped>\n",
       "    .dataframe tbody tr th:only-of-type {\n",
       "        vertical-align: middle;\n",
       "    }\n",
       "\n",
       "    .dataframe tbody tr th {\n",
       "        vertical-align: top;\n",
       "    }\n",
       "\n",
       "    .dataframe thead th {\n",
       "        text-align: right;\n",
       "    }\n",
       "</style>\n",
       "<table border=\"1\" class=\"dataframe\">\n",
       "  <thead>\n",
       "    <tr style=\"text-align: right;\">\n",
       "      <th></th>\n",
       "      <th>totalTime</th>\n",
       "      <th>name</th>\n",
       "      <th>id</th>\n",
       "      <th>ingredientLines</th>\n",
       "      <th>totalTimeInSeconds</th>\n",
       "      <th>rating</th>\n",
       "      <th>cuisine</th>\n",
       "      <th>FAT_KCAL</th>\n",
       "      <th>CHOCDF</th>\n",
       "      <th>PROCNT</th>\n",
       "      <th>FAT</th>\n",
       "      <th>source</th>\n",
       "      <th>flav_is_missing</th>\n",
       "      <th>Bitter</th>\n",
       "      <th>Meaty</th>\n",
       "      <th>Piquant</th>\n",
       "      <th>Salty</th>\n",
       "      <th>Sour</th>\n",
       "      <th>Sweet</th>\n",
       "    </tr>\n",
       "  </thead>\n",
       "  <tbody>\n",
       "    <tr>\n",
       "      <th>0</th>\n",
       "      <td>7 hr 30 min</td>\n",
       "      <td>TAKEOUT STYLE CHINESE SPARE RIBS (TAKE 2)</td>\n",
       "      <td>TAKEOUT-STYLE-CHINESE-SPARE-RIBS-_TAKE-2_-771701</td>\n",
       "      <td>['5 cloves freshly minced garlic', '1 tablespo...</td>\n",
       "      <td>27000.0</td>\n",
       "      <td>4</td>\n",
       "      <td>Chinese</td>\n",
       "      <td>170.0</td>\n",
       "      <td>39.67</td>\n",
       "      <td>20.02</td>\n",
       "      <td>18.81</td>\n",
       "      <td>http://thewoksoflife.com/2014/03/takeout-style...</td>\n",
       "      <td>0</td>\n",
       "      <td>5</td>\n",
       "      <td>4</td>\n",
       "      <td>1</td>\n",
       "      <td>5</td>\n",
       "      <td>3</td>\n",
       "      <td>5</td>\n",
       "    </tr>\n",
       "    <tr>\n",
       "      <th>1</th>\n",
       "      <td>2 hr 15 min</td>\n",
       "      <td>Corned Beef and Vegetables</td>\n",
       "      <td>Corned-Beef-and-Vegetables-1907240</td>\n",
       "      <td>['1 whole corned beef brisket (6 to 8 pounds),...</td>\n",
       "      <td>8100.0</td>\n",
       "      <td>4</td>\n",
       "      <td>Irish</td>\n",
       "      <td>200.0</td>\n",
       "      <td>75.54</td>\n",
       "      <td>72.33</td>\n",
       "      <td>21.87</td>\n",
       "      <td>http://www.goingmywayz.com/corned-beef-vegetab...</td>\n",
       "      <td>0</td>\n",
       "      <td>1</td>\n",
       "      <td>1</td>\n",
       "      <td>3</td>\n",
       "      <td>1</td>\n",
       "      <td>5</td>\n",
       "      <td>1</td>\n",
       "    </tr>\n",
       "    <tr>\n",
       "      <th>2</th>\n",
       "      <td>40 min</td>\n",
       "      <td>Kung Pao Chicken</td>\n",
       "      <td>Kung-Pao-Chicken-1096839</td>\n",
       "      <td>['1 tablespoon soy sauce', '2 teaspoons Chines...</td>\n",
       "      <td>2400.0</td>\n",
       "      <td>3</td>\n",
       "      <td>Chinese</td>\n",
       "      <td>140.0</td>\n",
       "      <td>8.14</td>\n",
       "      <td>26.70</td>\n",
       "      <td>15.91</td>\n",
       "      <td>http://www.epicurious.com/recipes/food/views/k...</td>\n",
       "      <td>0</td>\n",
       "      <td>1</td>\n",
       "      <td>1</td>\n",
       "      <td>5</td>\n",
       "      <td>1</td>\n",
       "      <td>1</td>\n",
       "      <td>1</td>\n",
       "    </tr>\n",
       "    <tr>\n",
       "      <th>3</th>\n",
       "      <td>1 hr 50 min</td>\n",
       "      <td>Pulpo Gallego, Spanish Octopus with Paprika</td>\n",
       "      <td>Pulpo-Gallego_-Spanish-Octopus-with-Paprika-21...</td>\n",
       "      <td>['2 to 3 pounds octopus', '1 bunch of parsley'...</td>\n",
       "      <td>6600.0</td>\n",
       "      <td>4</td>\n",
       "      <td>Spanish</td>\n",
       "      <td>190.0</td>\n",
       "      <td>10.38</td>\n",
       "      <td>35.21</td>\n",
       "      <td>20.67</td>\n",
       "      <td>https://honest-food.net/pulpo-gallego-recipe-o...</td>\n",
       "      <td>0</td>\n",
       "      <td>5</td>\n",
       "      <td>2</td>\n",
       "      <td>3</td>\n",
       "      <td>1</td>\n",
       "      <td>5</td>\n",
       "      <td>1</td>\n",
       "    </tr>\n",
       "    <tr>\n",
       "      <th>4</th>\n",
       "      <td>2 hr 45 min</td>\n",
       "      <td>Pork Carnitas</td>\n",
       "      <td>Pork-Carnitas-590301</td>\n",
       "      <td>['4 pound boneless pork butt, fat trimmed and ...</td>\n",
       "      <td>9900.0</td>\n",
       "      <td>4</td>\n",
       "      <td>Mexican</td>\n",
       "      <td>120.0</td>\n",
       "      <td>2.82</td>\n",
       "      <td>19.51</td>\n",
       "      <td>12.51</td>\n",
       "      <td>http://www.mykitchenescapades.com/2012/11/pork...</td>\n",
       "      <td>0</td>\n",
       "      <td>2</td>\n",
       "      <td>4</td>\n",
       "      <td>0</td>\n",
       "      <td>4</td>\n",
       "      <td>3</td>\n",
       "      <td>1</td>\n",
       "    </tr>\n",
       "  </tbody>\n",
       "</table>\n",
       "</div>"
      ],
      "text/plain": [
       "     totalTime                                         name  \\\n",
       "0  7 hr 30 min    TAKEOUT STYLE CHINESE SPARE RIBS (TAKE 2)   \n",
       "1  2 hr 15 min                   Corned Beef and Vegetables   \n",
       "2       40 min                             Kung Pao Chicken   \n",
       "3  1 hr 50 min  Pulpo Gallego, Spanish Octopus with Paprika   \n",
       "4  2 hr 45 min                                Pork Carnitas   \n",
       "\n",
       "                                                  id  \\\n",
       "0   TAKEOUT-STYLE-CHINESE-SPARE-RIBS-_TAKE-2_-771701   \n",
       "1                 Corned-Beef-and-Vegetables-1907240   \n",
       "2                           Kung-Pao-Chicken-1096839   \n",
       "3  Pulpo-Gallego_-Spanish-Octopus-with-Paprika-21...   \n",
       "4                               Pork-Carnitas-590301   \n",
       "\n",
       "                                     ingredientLines  totalTimeInSeconds  \\\n",
       "0  ['5 cloves freshly minced garlic', '1 tablespo...             27000.0   \n",
       "1  ['1 whole corned beef brisket (6 to 8 pounds),...              8100.0   \n",
       "2  ['1 tablespoon soy sauce', '2 teaspoons Chines...              2400.0   \n",
       "3  ['2 to 3 pounds octopus', '1 bunch of parsley'...              6600.0   \n",
       "4  ['4 pound boneless pork butt, fat trimmed and ...              9900.0   \n",
       "\n",
       "   rating  cuisine  FAT_KCAL  CHOCDF  PROCNT    FAT  \\\n",
       "0       4  Chinese     170.0   39.67   20.02  18.81   \n",
       "1       4    Irish     200.0   75.54   72.33  21.87   \n",
       "2       3  Chinese     140.0    8.14   26.70  15.91   \n",
       "3       4  Spanish     190.0   10.38   35.21  20.67   \n",
       "4       4  Mexican     120.0    2.82   19.51  12.51   \n",
       "\n",
       "                                              source  flav_is_missing  Bitter  \\\n",
       "0  http://thewoksoflife.com/2014/03/takeout-style...                0       5   \n",
       "1  http://www.goingmywayz.com/corned-beef-vegetab...                0       1   \n",
       "2  http://www.epicurious.com/recipes/food/views/k...                0       1   \n",
       "3  https://honest-food.net/pulpo-gallego-recipe-o...                0       5   \n",
       "4  http://www.mykitchenescapades.com/2012/11/pork...                0       2   \n",
       "\n",
       "   Meaty  Piquant  Salty  Sour  Sweet  \n",
       "0      4        1      5     3      5  \n",
       "1      1        3      1     5      1  \n",
       "2      1        5      1     1      1  \n",
       "3      2        3      1     5      1  \n",
       "4      4        0      4     3      1  "
      ]
     },
     "execution_count": 57,
     "metadata": {},
     "output_type": "execute_result"
    }
   ],
   "source": [
    "data.head()"
   ]
  },
  {
   "cell_type": "code",
   "execution_count": 58,
   "metadata": {},
   "outputs": [
    {
     "name": "stdout",
     "output_type": "stream",
     "text": [
      "<class 'pandas.core.frame.DataFrame'>\n",
      "RangeIndex: 15959 entries, 0 to 15958\n",
      "Data columns (total 19 columns):\n",
      " #   Column              Non-Null Count  Dtype  \n",
      "---  ------              --------------  -----  \n",
      " 0   totalTime           15959 non-null  object \n",
      " 1   name                15959 non-null  object \n",
      " 2   id                  15959 non-null  object \n",
      " 3   ingredientLines     15959 non-null  object \n",
      " 4   totalTimeInSeconds  15959 non-null  float64\n",
      " 5   rating              15959 non-null  int64  \n",
      " 6   cuisine             15959 non-null  object \n",
      " 7   FAT_KCAL            14193 non-null  float64\n",
      " 8   CHOCDF              14443 non-null  float64\n",
      " 9   PROCNT              14451 non-null  float64\n",
      " 10  FAT                 14425 non-null  float64\n",
      " 11  source              15959 non-null  object \n",
      " 12  flav_is_missing     15959 non-null  int64  \n",
      " 13  Bitter              15959 non-null  int64  \n",
      " 14  Meaty               15959 non-null  int64  \n",
      " 15  Piquant             15959 non-null  int64  \n",
      " 16  Salty               15959 non-null  int64  \n",
      " 17  Sour                15959 non-null  int64  \n",
      " 18  Sweet               15959 non-null  int64  \n",
      "dtypes: float64(5), int64(8), object(6)\n",
      "memory usage: 2.3+ MB\n"
     ]
    }
   ],
   "source": [
    "data.info()"
   ]
  },
  {
   "cell_type": "markdown",
   "metadata": {},
   "source": [
    "### 3.6 Nutrition"
   ]
  },
  {
   "cell_type": "code",
   "execution_count": 59,
   "metadata": {},
   "outputs": [
    {
     "data": {
      "text/html": [
       "<div>\n",
       "<style scoped>\n",
       "    .dataframe tbody tr th:only-of-type {\n",
       "        vertical-align: middle;\n",
       "    }\n",
       "\n",
       "    .dataframe tbody tr th {\n",
       "        vertical-align: top;\n",
       "    }\n",
       "\n",
       "    .dataframe thead th {\n",
       "        text-align: right;\n",
       "    }\n",
       "</style>\n",
       "<table border=\"1\" class=\"dataframe\">\n",
       "  <thead>\n",
       "    <tr style=\"text-align: right;\">\n",
       "      <th></th>\n",
       "      <th>FAT</th>\n",
       "      <th>PROCNT</th>\n",
       "      <th>CHOCDF</th>\n",
       "      <th>FAT_KCAL</th>\n",
       "    </tr>\n",
       "  </thead>\n",
       "  <tbody>\n",
       "    <tr>\n",
       "      <th>count</th>\n",
       "      <td>14425.000000</td>\n",
       "      <td>14451.000000</td>\n",
       "      <td>14443.000000</td>\n",
       "      <td>14193.000000</td>\n",
       "    </tr>\n",
       "    <tr>\n",
       "      <th>mean</th>\n",
       "      <td>26.724422</td>\n",
       "      <td>30.421901</td>\n",
       "      <td>35.953472</td>\n",
       "      <td>244.600155</td>\n",
       "    </tr>\n",
       "    <tr>\n",
       "      <th>std</th>\n",
       "      <td>22.629825</td>\n",
       "      <td>21.572775</td>\n",
       "      <td>30.963705</td>\n",
       "      <td>203.384320</td>\n",
       "    </tr>\n",
       "    <tr>\n",
       "      <th>min</th>\n",
       "      <td>0.000000</td>\n",
       "      <td>0.010000</td>\n",
       "      <td>0.040000</td>\n",
       "      <td>10.000000</td>\n",
       "    </tr>\n",
       "    <tr>\n",
       "      <th>25%</th>\n",
       "      <td>10.960000</td>\n",
       "      <td>14.940000</td>\n",
       "      <td>13.525000</td>\n",
       "      <td>100.000000</td>\n",
       "    </tr>\n",
       "    <tr>\n",
       "      <th>50%</th>\n",
       "      <td>20.750000</td>\n",
       "      <td>26.860000</td>\n",
       "      <td>27.690000</td>\n",
       "      <td>190.000000</td>\n",
       "    </tr>\n",
       "    <tr>\n",
       "      <th>75%</th>\n",
       "      <td>35.630000</td>\n",
       "      <td>40.265000</td>\n",
       "      <td>49.510000</td>\n",
       "      <td>320.000000</td>\n",
       "    </tr>\n",
       "    <tr>\n",
       "      <th>max</th>\n",
       "      <td>201.690000</td>\n",
       "      <td>131.520000</td>\n",
       "      <td>363.090000</td>\n",
       "      <td>1820.000000</td>\n",
       "    </tr>\n",
       "  </tbody>\n",
       "</table>\n",
       "</div>"
      ],
      "text/plain": [
       "                FAT        PROCNT        CHOCDF      FAT_KCAL\n",
       "count  14425.000000  14451.000000  14443.000000  14193.000000\n",
       "mean      26.724422     30.421901     35.953472    244.600155\n",
       "std       22.629825     21.572775     30.963705    203.384320\n",
       "min        0.000000      0.010000      0.040000     10.000000\n",
       "25%       10.960000     14.940000     13.525000    100.000000\n",
       "50%       20.750000     26.860000     27.690000    190.000000\n",
       "75%       35.630000     40.265000     49.510000    320.000000\n",
       "max      201.690000    131.520000    363.090000   1820.000000"
      ]
     },
     "execution_count": 59,
     "metadata": {},
     "output_type": "execute_result"
    }
   ],
   "source": [
    "nutr_col = ['FAT', 'PROCNT', 'CHOCDF','FAT_KCAL']\n",
    "data[nutr_col].describe()"
   ]
  },
  {
   "cell_type": "code",
   "execution_count": 60,
   "metadata": {},
   "outputs": [
    {
     "data": {
      "text/plain": [
       "FAT          9.612131\n",
       "PROCNT       9.449214\n",
       "CHOCDF       9.499342\n",
       "FAT_KCAL    11.065856\n",
       "dtype: float64"
      ]
     },
     "execution_count": 60,
     "metadata": {},
     "output_type": "execute_result"
    }
   ],
   "source": [
    "data[nutr_col].isnull().sum()/len(data)*100"
   ]
  },
  {
   "cell_type": "markdown",
   "metadata": {},
   "source": [
    "- Lets do a quick check to see if this data makes sense: Fat has 9 cal/g, Protein has 4 cal/g and Carbohydrates have 4 cal/g\n",
    "- The calories from these 3 components should be less than the total calories "
   ]
  },
  {
   "cell_type": "code",
   "execution_count": 61,
   "metadata": {},
   "outputs": [
    {
     "data": {
      "text/html": [
       "<div>\n",
       "<style scoped>\n",
       "    .dataframe tbody tr th:only-of-type {\n",
       "        vertical-align: middle;\n",
       "    }\n",
       "\n",
       "    .dataframe tbody tr th {\n",
       "        vertical-align: top;\n",
       "    }\n",
       "\n",
       "    .dataframe thead th {\n",
       "        text-align: right;\n",
       "    }\n",
       "</style>\n",
       "<table border=\"1\" class=\"dataframe\">\n",
       "  <thead>\n",
       "    <tr style=\"text-align: right;\">\n",
       "      <th></th>\n",
       "      <th>totalTime</th>\n",
       "      <th>name</th>\n",
       "      <th>id</th>\n",
       "      <th>ingredientLines</th>\n",
       "      <th>totalTimeInSeconds</th>\n",
       "      <th>rating</th>\n",
       "      <th>cuisine</th>\n",
       "      <th>FAT_KCAL</th>\n",
       "      <th>CHOCDF</th>\n",
       "      <th>PROCNT</th>\n",
       "      <th>FAT</th>\n",
       "      <th>source</th>\n",
       "      <th>flav_is_missing</th>\n",
       "      <th>Bitter</th>\n",
       "      <th>Meaty</th>\n",
       "      <th>Piquant</th>\n",
       "      <th>Salty</th>\n",
       "      <th>Sour</th>\n",
       "      <th>Sweet</th>\n",
       "      <th>calculated_cal</th>\n",
       "    </tr>\n",
       "  </thead>\n",
       "  <tbody>\n",
       "    <tr>\n",
       "      <th>6689</th>\n",
       "      <td>20 min</td>\n",
       "      <td>Spanish Sizzled Shrimp</td>\n",
       "      <td>Spanish-Sizzled-Shrimp-Recipezaar</td>\n",
       "      <td>['1 tablespoon extra virgin olive oil', '3 gar...</td>\n",
       "      <td>1200.0</td>\n",
       "      <td>4</td>\n",
       "      <td>Spanish</td>\n",
       "      <td>20.0</td>\n",
       "      <td>0.96</td>\n",
       "      <td>0.11</td>\n",
       "      <td>1.72</td>\n",
       "      <td>http://www.food.com/recipe/spanish-sizzled-shr...</td>\n",
       "      <td>0</td>\n",
       "      <td>5</td>\n",
       "      <td>1</td>\n",
       "      <td>1</td>\n",
       "      <td>5</td>\n",
       "      <td>5</td>\n",
       "      <td>1</td>\n",
       "      <td>19.76</td>\n",
       "    </tr>\n",
       "    <tr>\n",
       "      <th>11854</th>\n",
       "      <td>50 min</td>\n",
       "      <td>Moroccan-Style Beef Kebabs</td>\n",
       "      <td>Moroccan-Style-Beef-Kebabs-1774128</td>\n",
       "      <td>['450g (1lb) extra lean ground beef', '3 tbs f...</td>\n",
       "      <td>3000.0</td>\n",
       "      <td>4</td>\n",
       "      <td>Moroccan</td>\n",
       "      <td>20.0</td>\n",
       "      <td>0.79</td>\n",
       "      <td>0.16</td>\n",
       "      <td>1.76</td>\n",
       "      <td>http://canuckcuisine.com/moroccan-style-beef-k...</td>\n",
       "      <td>0</td>\n",
       "      <td>5</td>\n",
       "      <td>4</td>\n",
       "      <td>0</td>\n",
       "      <td>5</td>\n",
       "      <td>5</td>\n",
       "      <td>1</td>\n",
       "      <td>19.64</td>\n",
       "    </tr>\n",
       "  </tbody>\n",
       "</table>\n",
       "</div>"
      ],
      "text/plain": [
       "      totalTime                        name  \\\n",
       "6689     20 min      Spanish Sizzled Shrimp   \n",
       "11854    50 min  Moroccan-Style Beef Kebabs   \n",
       "\n",
       "                                       id  \\\n",
       "6689    Spanish-Sizzled-Shrimp-Recipezaar   \n",
       "11854  Moroccan-Style-Beef-Kebabs-1774128   \n",
       "\n",
       "                                         ingredientLines  totalTimeInSeconds  \\\n",
       "6689   ['1 tablespoon extra virgin olive oil', '3 gar...              1200.0   \n",
       "11854  ['450g (1lb) extra lean ground beef', '3 tbs f...              3000.0   \n",
       "\n",
       "       rating   cuisine  FAT_KCAL  CHOCDF  PROCNT   FAT  \\\n",
       "6689        4   Spanish      20.0    0.96    0.11  1.72   \n",
       "11854       4  Moroccan      20.0    0.79    0.16  1.76   \n",
       "\n",
       "                                                  source  flav_is_missing  \\\n",
       "6689   http://www.food.com/recipe/spanish-sizzled-shr...                0   \n",
       "11854  http://canuckcuisine.com/moroccan-style-beef-k...                0   \n",
       "\n",
       "       Bitter  Meaty  Piquant  Salty  Sour  Sweet  calculated_cal  \n",
       "6689        5      1        1      5     5      1           19.76  \n",
       "11854       5      4        0      5     5      1           19.64  "
      ]
     },
     "execution_count": 61,
     "metadata": {},
     "output_type": "execute_result"
    }
   ],
   "source": [
    "data['calculated_cal'] = data['FAT']*9 + data['PROCNT']*4 + data['CHOCDF']*4\n",
    "data[data['calculated_cal']<data['FAT_KCAL']]"
   ]
  },
  {
   "cell_type": "code",
   "execution_count": 62,
   "metadata": {},
   "outputs": [
    {
     "data": {
      "text/plain": [
       "count    14182.000000\n",
       "mean       186.626855\n",
       "std        236.637243\n",
       "min          0.797500\n",
       "25%         69.836926\n",
       "50%        116.894940\n",
       "75%        214.362798\n",
       "max       5457.500000\n",
       "Name: pct, dtype: float64"
      ]
     },
     "execution_count": 62,
     "metadata": {},
     "output_type": "execute_result"
    }
   ],
   "source": [
    "check = data[data['calculated_cal']>data['FAT_KCAL']]\n",
    "\n",
    "check['pct'] = (check['calculated_cal']-check['FAT_KCAL'])/check['FAT_KCAL']*100\n",
    "check['pct'].describe()"
   ]
  },
  {
   "cell_type": "markdown",
   "metadata": {},
   "source": [
    "- This data looks extremely incorrect - on average, the calories based on the fat/carbs/protein content of a recipe  is 187% greater than what is shows in the calories column\n",
    "- I am going to remove these features since they cannot offer any useful information."
   ]
  },
  {
   "cell_type": "code",
   "execution_count": 63,
   "metadata": {},
   "outputs": [],
   "source": [
    "data.drop(nutr_col, axis = 1, inplace = True)"
   ]
  },
  {
   "cell_type": "code",
   "execution_count": 64,
   "metadata": {},
   "outputs": [],
   "source": [
    "data.drop('calculated_cal', axis = 1, inplace = True)"
   ]
  },
  {
   "cell_type": "code",
   "execution_count": 65,
   "metadata": {},
   "outputs": [
    {
     "name": "stdout",
     "output_type": "stream",
     "text": [
      "<class 'pandas.core.frame.DataFrame'>\n",
      "RangeIndex: 15959 entries, 0 to 15958\n",
      "Data columns (total 15 columns):\n",
      " #   Column              Non-Null Count  Dtype  \n",
      "---  ------              --------------  -----  \n",
      " 0   totalTime           15959 non-null  object \n",
      " 1   name                15959 non-null  object \n",
      " 2   id                  15959 non-null  object \n",
      " 3   ingredientLines     15959 non-null  object \n",
      " 4   totalTimeInSeconds  15959 non-null  float64\n",
      " 5   rating              15959 non-null  int64  \n",
      " 6   cuisine             15959 non-null  object \n",
      " 7   source              15959 non-null  object \n",
      " 8   flav_is_missing     15959 non-null  int64  \n",
      " 9   Bitter              15959 non-null  int64  \n",
      " 10  Meaty               15959 non-null  int64  \n",
      " 11  Piquant             15959 non-null  int64  \n",
      " 12  Salty               15959 non-null  int64  \n",
      " 13  Sour                15959 non-null  int64  \n",
      " 14  Sweet               15959 non-null  int64  \n",
      "dtypes: float64(1), int64(8), object(6)\n",
      "memory usage: 1.8+ MB\n"
     ]
    }
   ],
   "source": [
    "data.info()"
   ]
  },
  {
   "cell_type": "markdown",
   "metadata": {},
   "source": [
    "### 3.7 Time"
   ]
  },
  {
   "cell_type": "markdown",
   "metadata": {},
   "source": [
    "- I would prefer to have the time in minutes for consistency"
   ]
  },
  {
   "cell_type": "code",
   "execution_count": 66,
   "metadata": {},
   "outputs": [],
   "source": [
    "data['totalTimeInMinutes'] = data['totalTimeInSeconds']/60"
   ]
  },
  {
   "cell_type": "code",
   "execution_count": 67,
   "metadata": {
    "scrolled": false
   },
   "outputs": [],
   "source": [
    "data = data[data['totalTimeInMinutes']>=10]"
   ]
  },
  {
   "cell_type": "code",
   "execution_count": 68,
   "metadata": {},
   "outputs": [],
   "source": [
    "data.drop(['totalTimeInSeconds', 'totalTime'], axis = 1, inplace = True)"
   ]
  },
  {
   "cell_type": "markdown",
   "metadata": {},
   "source": [
    "### 3.8 Name, ID"
   ]
  },
  {
   "cell_type": "markdown",
   "metadata": {},
   "source": [
    "- convert name and ID to lower string for consistency"
   ]
  },
  {
   "cell_type": "code",
   "execution_count": 69,
   "metadata": {},
   "outputs": [],
   "source": [
    "data['name'] = data['name'].str.lower()\n",
    "data['id'] = data['id'].str.lower()"
   ]
  },
  {
   "cell_type": "code",
   "execution_count": 70,
   "metadata": {},
   "outputs": [
    {
     "name": "stdout",
     "output_type": "stream",
     "text": [
      "<class 'pandas.core.frame.DataFrame'>\n",
      "Int64Index: 15901 entries, 0 to 15958\n",
      "Data columns (total 14 columns):\n",
      " #   Column              Non-Null Count  Dtype  \n",
      "---  ------              --------------  -----  \n",
      " 0   name                15901 non-null  object \n",
      " 1   id                  15901 non-null  object \n",
      " 2   ingredientLines     15901 non-null  object \n",
      " 3   rating              15901 non-null  int64  \n",
      " 4   cuisine             15901 non-null  object \n",
      " 5   source              15901 non-null  object \n",
      " 6   flav_is_missing     15901 non-null  int64  \n",
      " 7   Bitter              15901 non-null  int64  \n",
      " 8   Meaty               15901 non-null  int64  \n",
      " 9   Piquant             15901 non-null  int64  \n",
      " 10  Salty               15901 non-null  int64  \n",
      " 11  Sour                15901 non-null  int64  \n",
      " 12  Sweet               15901 non-null  int64  \n",
      " 13  totalTimeInMinutes  15901 non-null  float64\n",
      "dtypes: float64(1), int64(8), object(5)\n",
      "memory usage: 1.8+ MB\n"
     ]
    }
   ],
   "source": [
    "data.info()"
   ]
  },
  {
   "cell_type": "code",
   "execution_count": 71,
   "metadata": {},
   "outputs": [
    {
     "data": {
      "text/html": [
       "<div>\n",
       "<style scoped>\n",
       "    .dataframe tbody tr th:only-of-type {\n",
       "        vertical-align: middle;\n",
       "    }\n",
       "\n",
       "    .dataframe tbody tr th {\n",
       "        vertical-align: top;\n",
       "    }\n",
       "\n",
       "    .dataframe thead th {\n",
       "        text-align: right;\n",
       "    }\n",
       "</style>\n",
       "<table border=\"1\" class=\"dataframe\">\n",
       "  <thead>\n",
       "    <tr style=\"text-align: right;\">\n",
       "      <th></th>\n",
       "      <th>name</th>\n",
       "      <th>id</th>\n",
       "      <th>ingredientLines</th>\n",
       "      <th>rating</th>\n",
       "      <th>cuisine</th>\n",
       "      <th>source</th>\n",
       "      <th>flav_is_missing</th>\n",
       "      <th>Bitter</th>\n",
       "      <th>Meaty</th>\n",
       "      <th>Piquant</th>\n",
       "      <th>Salty</th>\n",
       "      <th>Sour</th>\n",
       "      <th>Sweet</th>\n",
       "      <th>totalTimeInMinutes</th>\n",
       "    </tr>\n",
       "  </thead>\n",
       "  <tbody>\n",
       "    <tr>\n",
       "      <th>0</th>\n",
       "      <td>takeout style chinese spare ribs (take 2)</td>\n",
       "      <td>takeout-style-chinese-spare-ribs-_take-2_-771701</td>\n",
       "      <td>['5 cloves freshly minced garlic', '1 tablespo...</td>\n",
       "      <td>4</td>\n",
       "      <td>Chinese</td>\n",
       "      <td>http://thewoksoflife.com/2014/03/takeout-style...</td>\n",
       "      <td>0</td>\n",
       "      <td>5</td>\n",
       "      <td>4</td>\n",
       "      <td>1</td>\n",
       "      <td>5</td>\n",
       "      <td>3</td>\n",
       "      <td>5</td>\n",
       "      <td>450.0</td>\n",
       "    </tr>\n",
       "    <tr>\n",
       "      <th>1</th>\n",
       "      <td>corned beef and vegetables</td>\n",
       "      <td>corned-beef-and-vegetables-1907240</td>\n",
       "      <td>['1 whole corned beef brisket (6 to 8 pounds),...</td>\n",
       "      <td>4</td>\n",
       "      <td>Irish</td>\n",
       "      <td>http://www.goingmywayz.com/corned-beef-vegetab...</td>\n",
       "      <td>0</td>\n",
       "      <td>1</td>\n",
       "      <td>1</td>\n",
       "      <td>3</td>\n",
       "      <td>1</td>\n",
       "      <td>5</td>\n",
       "      <td>1</td>\n",
       "      <td>135.0</td>\n",
       "    </tr>\n",
       "    <tr>\n",
       "      <th>2</th>\n",
       "      <td>kung pao chicken</td>\n",
       "      <td>kung-pao-chicken-1096839</td>\n",
       "      <td>['1 tablespoon soy sauce', '2 teaspoons Chines...</td>\n",
       "      <td>3</td>\n",
       "      <td>Chinese</td>\n",
       "      <td>http://www.epicurious.com/recipes/food/views/k...</td>\n",
       "      <td>0</td>\n",
       "      <td>1</td>\n",
       "      <td>1</td>\n",
       "      <td>5</td>\n",
       "      <td>1</td>\n",
       "      <td>1</td>\n",
       "      <td>1</td>\n",
       "      <td>40.0</td>\n",
       "    </tr>\n",
       "    <tr>\n",
       "      <th>3</th>\n",
       "      <td>pulpo gallego, spanish octopus with paprika</td>\n",
       "      <td>pulpo-gallego_-spanish-octopus-with-paprika-21...</td>\n",
       "      <td>['2 to 3 pounds octopus', '1 bunch of parsley'...</td>\n",
       "      <td>4</td>\n",
       "      <td>Spanish</td>\n",
       "      <td>https://honest-food.net/pulpo-gallego-recipe-o...</td>\n",
       "      <td>0</td>\n",
       "      <td>5</td>\n",
       "      <td>2</td>\n",
       "      <td>3</td>\n",
       "      <td>1</td>\n",
       "      <td>5</td>\n",
       "      <td>1</td>\n",
       "      <td>110.0</td>\n",
       "    </tr>\n",
       "    <tr>\n",
       "      <th>4</th>\n",
       "      <td>pork carnitas</td>\n",
       "      <td>pork-carnitas-590301</td>\n",
       "      <td>['4 pound boneless pork butt, fat trimmed and ...</td>\n",
       "      <td>4</td>\n",
       "      <td>Mexican</td>\n",
       "      <td>http://www.mykitchenescapades.com/2012/11/pork...</td>\n",
       "      <td>0</td>\n",
       "      <td>2</td>\n",
       "      <td>4</td>\n",
       "      <td>0</td>\n",
       "      <td>4</td>\n",
       "      <td>3</td>\n",
       "      <td>1</td>\n",
       "      <td>165.0</td>\n",
       "    </tr>\n",
       "  </tbody>\n",
       "</table>\n",
       "</div>"
      ],
      "text/plain": [
       "                                          name  \\\n",
       "0    takeout style chinese spare ribs (take 2)   \n",
       "1                   corned beef and vegetables   \n",
       "2                             kung pao chicken   \n",
       "3  pulpo gallego, spanish octopus with paprika   \n",
       "4                                pork carnitas   \n",
       "\n",
       "                                                  id  \\\n",
       "0   takeout-style-chinese-spare-ribs-_take-2_-771701   \n",
       "1                 corned-beef-and-vegetables-1907240   \n",
       "2                           kung-pao-chicken-1096839   \n",
       "3  pulpo-gallego_-spanish-octopus-with-paprika-21...   \n",
       "4                               pork-carnitas-590301   \n",
       "\n",
       "                                     ingredientLines  rating  cuisine  \\\n",
       "0  ['5 cloves freshly minced garlic', '1 tablespo...       4  Chinese   \n",
       "1  ['1 whole corned beef brisket (6 to 8 pounds),...       4    Irish   \n",
       "2  ['1 tablespoon soy sauce', '2 teaspoons Chines...       3  Chinese   \n",
       "3  ['2 to 3 pounds octopus', '1 bunch of parsley'...       4  Spanish   \n",
       "4  ['4 pound boneless pork butt, fat trimmed and ...       4  Mexican   \n",
       "\n",
       "                                              source  flav_is_missing  Bitter  \\\n",
       "0  http://thewoksoflife.com/2014/03/takeout-style...                0       5   \n",
       "1  http://www.goingmywayz.com/corned-beef-vegetab...                0       1   \n",
       "2  http://www.epicurious.com/recipes/food/views/k...                0       1   \n",
       "3  https://honest-food.net/pulpo-gallego-recipe-o...                0       5   \n",
       "4  http://www.mykitchenescapades.com/2012/11/pork...                0       2   \n",
       "\n",
       "   Meaty  Piquant  Salty  Sour  Sweet  totalTimeInMinutes  \n",
       "0      4        1      5     3      5               450.0  \n",
       "1      1        3      1     5      1               135.0  \n",
       "2      1        5      1     1      1                40.0  \n",
       "3      2        3      1     5      1               110.0  \n",
       "4      4        0      4     3      1               165.0  "
      ]
     },
     "execution_count": 71,
     "metadata": {},
     "output_type": "execute_result"
    }
   ],
   "source": [
    "data.head()"
   ]
  },
  {
   "cell_type": "markdown",
   "metadata": {},
   "source": [
    "### 3.9 Ingredients"
   ]
  },
  {
   "cell_type": "markdown",
   "metadata": {},
   "source": [
    "* extract a list of ingredients only from the ingredient lines"
   ]
  },
  {
   "cell_type": "code",
   "execution_count": 72,
   "metadata": {},
   "outputs": [],
   "source": [
    "data.reset_index(drop = True, inplace = True)"
   ]
  },
  {
   "cell_type": "code",
   "execution_count": 73,
   "metadata": {},
   "outputs": [],
   "source": [
    "data['ingredientLines'] = data.ingredientLines.apply(lambda x: literal_eval(str(x)))"
   ]
  },
  {
   "cell_type": "code",
   "execution_count": 74,
   "metadata": {},
   "outputs": [],
   "source": [
    "# import ingredients parser\n",
    "import ingredients_parser"
   ]
  },
  {
   "cell_type": "code",
   "execution_count": 75,
   "metadata": {},
   "outputs": [],
   "source": [
    "# parse ingredient lines for clean list of ingredients\n",
    "data['ingredients'] = data['ingredientLines'].apply(lambda x: ingredients_parser.clean_ingredients(x))"
   ]
  },
  {
   "cell_type": "code",
   "execution_count": 76,
   "metadata": {
    "scrolled": false
   },
   "outputs": [
    {
     "data": {
      "text/html": [
       "<div>\n",
       "<style scoped>\n",
       "    .dataframe tbody tr th:only-of-type {\n",
       "        vertical-align: middle;\n",
       "    }\n",
       "\n",
       "    .dataframe tbody tr th {\n",
       "        vertical-align: top;\n",
       "    }\n",
       "\n",
       "    .dataframe thead th {\n",
       "        text-align: right;\n",
       "    }\n",
       "</style>\n",
       "<table border=\"1\" class=\"dataframe\">\n",
       "  <thead>\n",
       "    <tr style=\"text-align: right;\">\n",
       "      <th></th>\n",
       "      <th>name</th>\n",
       "      <th>id</th>\n",
       "      <th>ingredientLines</th>\n",
       "      <th>rating</th>\n",
       "      <th>cuisine</th>\n",
       "      <th>source</th>\n",
       "      <th>flav_is_missing</th>\n",
       "      <th>Bitter</th>\n",
       "      <th>Meaty</th>\n",
       "      <th>Piquant</th>\n",
       "      <th>Salty</th>\n",
       "      <th>Sour</th>\n",
       "      <th>Sweet</th>\n",
       "      <th>totalTimeInMinutes</th>\n",
       "      <th>ingredients</th>\n",
       "    </tr>\n",
       "  </thead>\n",
       "  <tbody>\n",
       "    <tr>\n",
       "      <th>0</th>\n",
       "      <td>takeout style chinese spare ribs (take 2)</td>\n",
       "      <td>takeout-style-chinese-spare-ribs-_take-2_-771701</td>\n",
       "      <td>[5 cloves freshly minced garlic, 1 tablespoon ...</td>\n",
       "      <td>4</td>\n",
       "      <td>Chinese</td>\n",
       "      <td>http://thewoksoflife.com/2014/03/takeout-style...</td>\n",
       "      <td>0</td>\n",
       "      <td>5</td>\n",
       "      <td>4</td>\n",
       "      <td>1</td>\n",
       "      <td>5</td>\n",
       "      <td>3</td>\n",
       "      <td>5</td>\n",
       "      <td>450.0</td>\n",
       "      <td>[hoisin sauce, water, spice, star anise, garli...</td>\n",
       "    </tr>\n",
       "    <tr>\n",
       "      <th>1</th>\n",
       "      <td>corned beef and vegetables</td>\n",
       "      <td>corned-beef-and-vegetables-1907240</td>\n",
       "      <td>[1 whole corned beef brisket (6 to 8 pounds), ...</td>\n",
       "      <td>4</td>\n",
       "      <td>Irish</td>\n",
       "      <td>http://www.goingmywayz.com/corned-beef-vegetab...</td>\n",
       "      <td>0</td>\n",
       "      <td>1</td>\n",
       "      <td>1</td>\n",
       "      <td>3</td>\n",
       "      <td>1</td>\n",
       "      <td>5</td>\n",
       "      <td>1</td>\n",
       "      <td>135.0</td>\n",
       "      <td>[water, carrot, beef brisket, coriander, parsn...</td>\n",
       "    </tr>\n",
       "    <tr>\n",
       "      <th>2</th>\n",
       "      <td>kung pao chicken</td>\n",
       "      <td>kung-pao-chicken-1096839</td>\n",
       "      <td>[1 tablespoon soy sauce, 2 teaspoons Chinese r...</td>\n",
       "      <td>3</td>\n",
       "      <td>Chinese</td>\n",
       "      <td>http://www.epicurious.com/recipes/food/views/k...</td>\n",
       "      <td>0</td>\n",
       "      <td>1</td>\n",
       "      <td>1</td>\n",
       "      <td>5</td>\n",
       "      <td>1</td>\n",
       "      <td>1</td>\n",
       "      <td>1</td>\n",
       "      <td>40.0</td>\n",
       "      <td>[ginger, chicken, sichuan pepper, black vinega...</td>\n",
       "    </tr>\n",
       "    <tr>\n",
       "      <th>3</th>\n",
       "      <td>pulpo gallego, spanish octopus with paprika</td>\n",
       "      <td>pulpo-gallego_-spanish-octopus-with-paprika-21...</td>\n",
       "      <td>[2 to 3 pounds octopus, 1 bunch of parsley, To...</td>\n",
       "      <td>4</td>\n",
       "      <td>Spanish</td>\n",
       "      <td>https://honest-food.net/pulpo-gallego-recipe-o...</td>\n",
       "      <td>0</td>\n",
       "      <td>5</td>\n",
       "      <td>2</td>\n",
       "      <td>3</td>\n",
       "      <td>1</td>\n",
       "      <td>5</td>\n",
       "      <td>1</td>\n",
       "      <td>110.0</td>\n",
       "      <td>[cayenne, lemon, black pepper, garlic, paprika...</td>\n",
       "    </tr>\n",
       "    <tr>\n",
       "      <th>4</th>\n",
       "      <td>pork carnitas</td>\n",
       "      <td>pork-carnitas-590301</td>\n",
       "      <td>[4 pound boneless pork butt, fat trimmed and c...</td>\n",
       "      <td>4</td>\n",
       "      <td>Mexican</td>\n",
       "      <td>http://www.mykitchenescapades.com/2012/11/pork...</td>\n",
       "      <td>0</td>\n",
       "      <td>2</td>\n",
       "      <td>4</td>\n",
       "      <td>0</td>\n",
       "      <td>4</td>\n",
       "      <td>3</td>\n",
       "      <td>1</td>\n",
       "      <td>165.0</td>\n",
       "      <td>[water, lime, cumin, onion, pepper, oregano, o...</td>\n",
       "    </tr>\n",
       "  </tbody>\n",
       "</table>\n",
       "</div>"
      ],
      "text/plain": [
       "                                          name  \\\n",
       "0    takeout style chinese spare ribs (take 2)   \n",
       "1                   corned beef and vegetables   \n",
       "2                             kung pao chicken   \n",
       "3  pulpo gallego, spanish octopus with paprika   \n",
       "4                                pork carnitas   \n",
       "\n",
       "                                                  id  \\\n",
       "0   takeout-style-chinese-spare-ribs-_take-2_-771701   \n",
       "1                 corned-beef-and-vegetables-1907240   \n",
       "2                           kung-pao-chicken-1096839   \n",
       "3  pulpo-gallego_-spanish-octopus-with-paprika-21...   \n",
       "4                               pork-carnitas-590301   \n",
       "\n",
       "                                     ingredientLines  rating  cuisine  \\\n",
       "0  [5 cloves freshly minced garlic, 1 tablespoon ...       4  Chinese   \n",
       "1  [1 whole corned beef brisket (6 to 8 pounds), ...       4    Irish   \n",
       "2  [1 tablespoon soy sauce, 2 teaspoons Chinese r...       3  Chinese   \n",
       "3  [2 to 3 pounds octopus, 1 bunch of parsley, To...       4  Spanish   \n",
       "4  [4 pound boneless pork butt, fat trimmed and c...       4  Mexican   \n",
       "\n",
       "                                              source  flav_is_missing  Bitter  \\\n",
       "0  http://thewoksoflife.com/2014/03/takeout-style...                0       5   \n",
       "1  http://www.goingmywayz.com/corned-beef-vegetab...                0       1   \n",
       "2  http://www.epicurious.com/recipes/food/views/k...                0       1   \n",
       "3  https://honest-food.net/pulpo-gallego-recipe-o...                0       5   \n",
       "4  http://www.mykitchenescapades.com/2012/11/pork...                0       2   \n",
       "\n",
       "   Meaty  Piquant  Salty  Sour  Sweet  totalTimeInMinutes  \\\n",
       "0      4        1      5     3      5               450.0   \n",
       "1      1        3      1     5      1               135.0   \n",
       "2      1        5      1     1      1                40.0   \n",
       "3      2        3      1     5      1               110.0   \n",
       "4      4        0      4     3      1               165.0   \n",
       "\n",
       "                                         ingredients  \n",
       "0  [hoisin sauce, water, spice, star anise, garli...  \n",
       "1  [water, carrot, beef brisket, coriander, parsn...  \n",
       "2  [ginger, chicken, sichuan pepper, black vinega...  \n",
       "3  [cayenne, lemon, black pepper, garlic, paprika...  \n",
       "4  [water, lime, cumin, onion, pepper, oregano, o...  "
      ]
     },
     "execution_count": 76,
     "metadata": {},
     "output_type": "execute_result"
    }
   ],
   "source": [
    "# check first 5 rows\n",
    "data.head()"
   ]
  },
  {
   "cell_type": "code",
   "execution_count": 77,
   "metadata": {},
   "outputs": [],
   "source": [
    "# create row for number of ingredients\n",
    "data['number_of_ingredients'] = data['ingredients'].str.len()"
   ]
  },
  {
   "cell_type": "code",
   "execution_count": 78,
   "metadata": {},
   "outputs": [],
   "source": [
    "# remove data with only one ingredient\n",
    "data = data[data['number_of_ingredients']>1]"
   ]
  },
  {
   "cell_type": "code",
   "execution_count": 79,
   "metadata": {},
   "outputs": [],
   "source": [
    "# save df\n",
    "data.to_csv('../data/processed/cleaned_data.csv', index = False)"
   ]
  }
 ],
 "metadata": {
  "kernelspec": {
   "display_name": "Python 3",
   "language": "python",
   "name": "python3"
  },
  "language_info": {
   "codemirror_mode": {
    "name": "ipython",
    "version": 3
   },
   "file_extension": ".py",
   "mimetype": "text/x-python",
   "name": "python",
   "nbconvert_exporter": "python",
   "pygments_lexer": "ipython3",
   "version": "3.8.5"
  }
 },
 "nbformat": 4,
 "nbformat_minor": 4
}
