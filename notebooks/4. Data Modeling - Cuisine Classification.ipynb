{
 "cells": [
  {
   "cell_type": "markdown",
   "metadata": {},
   "source": [
    "# Capstone Project: Recipe Analysis and Classification for Meal Kit Services"
   ]
  },
  {
   "cell_type": "markdown",
   "metadata": {},
   "source": [
    "# Part 4: Data Modeling"
   ]
  },
  {
   "cell_type": "markdown",
   "metadata": {},
   "source": [
    "For this section, I will train several models to predict the cuisine of a recipe based on its ingredients.\n",
    "I will use my final model to answer the following questions:\n",
    "1. Can we classify recipe cuisines based on only the listed ingredients?\n",
    "2. Which cuisines share similar ingredient profiles?\n",
    "3. What are the most distinctive ingredients in a cuisine?"
   ]
  },
  {
   "cell_type": "markdown",
   "metadata": {},
   "source": [
    "### Contents:\n",
    "1. [Model Preprocessing](#1.-Model-Preprocessing)\n",
    "2. [Baseline Model](#2.-Baseline-Model)\n",
    "3. [Multinomial Naive Bayes](#3.-Multinomial-Naive-Bayes)\n",
    "4. [Logistic Regression](#4.-Logistic-Regression)\n",
    "5. [Random Forest Classifier](#5.-Random-Forest-Classifier)\n",
    "6. [Support Vector Classifier](#6.-Support-Vector-Classifier)"
   ]
  },
  {
   "cell_type": "code",
   "execution_count": 1,
   "metadata": {},
   "outputs": [],
   "source": [
    "import pandas as pd\n",
    "import numpy as np\n",
    "import matplotlib.pyplot as plt\n",
    "import seaborn as sns\n",
    "from sklearn.feature_extraction.text import CountVectorizer, TfidfVectorizer\n",
    "import ast\n",
    "import pickle\n",
    "import itertools\n",
    "\n",
    "\n",
    "from sklearn.metrics import classification_report, cohen_kappa_score, make_scorer, confusion_matrix, ConfusionMatrixDisplay, precision_score, recall_score, f1_score\n",
    "from sklearn.experimental import enable_halving_search_cv \n",
    "from sklearn.model_selection import train_test_split, GridSearchCV, HalvingRandomSearchCV, cross_validate, StratifiedKFold \n",
    "from sklearn.naive_bayes import MultinomialNB\n",
    "from sklearn.preprocessing import LabelEncoder\n",
    "\n",
    "from sklearn.ensemble import RandomForestClassifier\n",
    "from sklearn.linear_model import LogisticRegression\n",
    "from sklearn.svm import LinearSVC\n",
    "\n",
    "from sklearn.pipeline import Pipeline\n",
    "plt.style.use('ggplot')"
   ]
  },
  {
   "cell_type": "code",
   "execution_count": 2,
   "metadata": {},
   "outputs": [],
   "source": [
    "# import dataframe\n",
    "data = pd.read_csv('../data/processed/cleaned_data.csv', sep=',', \n",
    "                   converters={'ingredients':ast.literal_eval,\n",
    "                               'ingredientLines': ast.literal_eval})"
   ]
  },
  {
   "cell_type": "code",
   "execution_count": 3,
   "metadata": {},
   "outputs": [
    {
     "data": {
      "text/html": [
       "<div>\n",
       "<style scoped>\n",
       "    .dataframe tbody tr th:only-of-type {\n",
       "        vertical-align: middle;\n",
       "    }\n",
       "\n",
       "    .dataframe tbody tr th {\n",
       "        vertical-align: top;\n",
       "    }\n",
       "\n",
       "    .dataframe thead th {\n",
       "        text-align: right;\n",
       "    }\n",
       "</style>\n",
       "<table border=\"1\" class=\"dataframe\">\n",
       "  <thead>\n",
       "    <tr style=\"text-align: right;\">\n",
       "      <th></th>\n",
       "      <th>name</th>\n",
       "      <th>id</th>\n",
       "      <th>ingredientLines</th>\n",
       "      <th>rating</th>\n",
       "      <th>cuisine</th>\n",
       "      <th>source</th>\n",
       "      <th>flav_is_missing</th>\n",
       "      <th>Bitter</th>\n",
       "      <th>Meaty</th>\n",
       "      <th>Piquant</th>\n",
       "      <th>Salty</th>\n",
       "      <th>Sour</th>\n",
       "      <th>Sweet</th>\n",
       "      <th>totalTimeInMinutes</th>\n",
       "      <th>ingredients</th>\n",
       "      <th>number_of_ingredients</th>\n",
       "    </tr>\n",
       "  </thead>\n",
       "  <tbody>\n",
       "    <tr>\n",
       "      <th>0</th>\n",
       "      <td>takeout style chinese spare ribs (take 2)</td>\n",
       "      <td>takeout-style-chinese-spare-ribs-_take-2_-771701</td>\n",
       "      <td>[5 cloves freshly minced garlic, 1 tablespoon ...</td>\n",
       "      <td>4</td>\n",
       "      <td>Chinese</td>\n",
       "      <td>http://thewoksoflife.com/2014/03/takeout-style...</td>\n",
       "      <td>0</td>\n",
       "      <td>5</td>\n",
       "      <td>4</td>\n",
       "      <td>1</td>\n",
       "      <td>5</td>\n",
       "      <td>3</td>\n",
       "      <td>5</td>\n",
       "      <td>450.0</td>\n",
       "      <td>[hoisin sauce, water, spice, star anise, garli...</td>\n",
       "      <td>18</td>\n",
       "    </tr>\n",
       "    <tr>\n",
       "      <th>1</th>\n",
       "      <td>corned beef and vegetables</td>\n",
       "      <td>corned-beef-and-vegetables-1907240</td>\n",
       "      <td>[1 whole corned beef brisket (6 to 8 pounds), ...</td>\n",
       "      <td>4</td>\n",
       "      <td>Irish</td>\n",
       "      <td>http://www.goingmywayz.com/corned-beef-vegetab...</td>\n",
       "      <td>0</td>\n",
       "      <td>1</td>\n",
       "      <td>1</td>\n",
       "      <td>3</td>\n",
       "      <td>1</td>\n",
       "      <td>5</td>\n",
       "      <td>1</td>\n",
       "      <td>135.0</td>\n",
       "      <td>[water, carrot, beef brisket, coriander, parsn...</td>\n",
       "      <td>14</td>\n",
       "    </tr>\n",
       "    <tr>\n",
       "      <th>2</th>\n",
       "      <td>kung pao chicken</td>\n",
       "      <td>kung-pao-chicken-1096839</td>\n",
       "      <td>[1 tablespoon soy sauce, 2 teaspoons Chinese r...</td>\n",
       "      <td>3</td>\n",
       "      <td>Chinese</td>\n",
       "      <td>http://www.epicurious.com/recipes/food/views/k...</td>\n",
       "      <td>0</td>\n",
       "      <td>1</td>\n",
       "      <td>1</td>\n",
       "      <td>5</td>\n",
       "      <td>1</td>\n",
       "      <td>1</td>\n",
       "      <td>1</td>\n",
       "      <td>40.0</td>\n",
       "      <td>[ginger, chicken, sichuan pepper, black vinega...</td>\n",
       "      <td>19</td>\n",
       "    </tr>\n",
       "    <tr>\n",
       "      <th>3</th>\n",
       "      <td>pulpo gallego, spanish octopus with paprika</td>\n",
       "      <td>pulpo-gallego_-spanish-octopus-with-paprika-21...</td>\n",
       "      <td>[2 to 3 pounds octopus, 1 bunch of parsley, To...</td>\n",
       "      <td>4</td>\n",
       "      <td>Spanish</td>\n",
       "      <td>https://honest-food.net/pulpo-gallego-recipe-o...</td>\n",
       "      <td>0</td>\n",
       "      <td>5</td>\n",
       "      <td>2</td>\n",
       "      <td>3</td>\n",
       "      <td>1</td>\n",
       "      <td>5</td>\n",
       "      <td>1</td>\n",
       "      <td>110.0</td>\n",
       "      <td>[cayenne, lemon, black pepper, garlic, paprika...</td>\n",
       "      <td>14</td>\n",
       "    </tr>\n",
       "    <tr>\n",
       "      <th>4</th>\n",
       "      <td>pork carnitas</td>\n",
       "      <td>pork-carnitas-590301</td>\n",
       "      <td>[4 pound boneless pork butt, fat trimmed and c...</td>\n",
       "      <td>4</td>\n",
       "      <td>Mexican</td>\n",
       "      <td>http://www.mykitchenescapades.com/2012/11/pork...</td>\n",
       "      <td>0</td>\n",
       "      <td>2</td>\n",
       "      <td>4</td>\n",
       "      <td>0</td>\n",
       "      <td>4</td>\n",
       "      <td>3</td>\n",
       "      <td>1</td>\n",
       "      <td>165.0</td>\n",
       "      <td>[water, lime, cumin, onion, pepper, oregano, o...</td>\n",
       "      <td>10</td>\n",
       "    </tr>\n",
       "  </tbody>\n",
       "</table>\n",
       "</div>"
      ],
      "text/plain": [
       "                                          name  \\\n",
       "0    takeout style chinese spare ribs (take 2)   \n",
       "1                   corned beef and vegetables   \n",
       "2                             kung pao chicken   \n",
       "3  pulpo gallego, spanish octopus with paprika   \n",
       "4                                pork carnitas   \n",
       "\n",
       "                                                  id  \\\n",
       "0   takeout-style-chinese-spare-ribs-_take-2_-771701   \n",
       "1                 corned-beef-and-vegetables-1907240   \n",
       "2                           kung-pao-chicken-1096839   \n",
       "3  pulpo-gallego_-spanish-octopus-with-paprika-21...   \n",
       "4                               pork-carnitas-590301   \n",
       "\n",
       "                                     ingredientLines  rating  cuisine  \\\n",
       "0  [5 cloves freshly minced garlic, 1 tablespoon ...       4  Chinese   \n",
       "1  [1 whole corned beef brisket (6 to 8 pounds), ...       4    Irish   \n",
       "2  [1 tablespoon soy sauce, 2 teaspoons Chinese r...       3  Chinese   \n",
       "3  [2 to 3 pounds octopus, 1 bunch of parsley, To...       4  Spanish   \n",
       "4  [4 pound boneless pork butt, fat trimmed and c...       4  Mexican   \n",
       "\n",
       "                                              source  flav_is_missing  Bitter  \\\n",
       "0  http://thewoksoflife.com/2014/03/takeout-style...                0       5   \n",
       "1  http://www.goingmywayz.com/corned-beef-vegetab...                0       1   \n",
       "2  http://www.epicurious.com/recipes/food/views/k...                0       1   \n",
       "3  https://honest-food.net/pulpo-gallego-recipe-o...                0       5   \n",
       "4  http://www.mykitchenescapades.com/2012/11/pork...                0       2   \n",
       "\n",
       "   Meaty  Piquant  Salty  Sour  Sweet  totalTimeInMinutes  \\\n",
       "0      4        1      5     3      5               450.0   \n",
       "1      1        3      1     5      1               135.0   \n",
       "2      1        5      1     1      1                40.0   \n",
       "3      2        3      1     5      1               110.0   \n",
       "4      4        0      4     3      1               165.0   \n",
       "\n",
       "                                         ingredients  number_of_ingredients  \n",
       "0  [hoisin sauce, water, spice, star anise, garli...                     18  \n",
       "1  [water, carrot, beef brisket, coriander, parsn...                     14  \n",
       "2  [ginger, chicken, sichuan pepper, black vinega...                     19  \n",
       "3  [cayenne, lemon, black pepper, garlic, paprika...                     14  \n",
       "4  [water, lime, cumin, onion, pepper, oregano, o...                     10  "
      ]
     },
     "execution_count": 3,
     "metadata": {},
     "output_type": "execute_result"
    }
   ],
   "source": [
    "# display first 5 rows\n",
    "data.head()"
   ]
  },
  {
   "cell_type": "code",
   "execution_count": 4,
   "metadata": {},
   "outputs": [
    {
     "data": {
      "text/plain": [
       "Index(['name', 'id', 'ingredientLines', 'rating', 'cuisine', 'source',\n",
       "       'flav_is_missing', 'Bitter', 'Meaty', 'Piquant', 'Salty', 'Sour',\n",
       "       'Sweet', 'totalTimeInMinutes', 'ingredients', 'number_of_ingredients'],\n",
       "      dtype='object')"
      ]
     },
     "execution_count": 4,
     "metadata": {},
     "output_type": "execute_result"
    }
   ],
   "source": [
    "data.columns"
   ]
  },
  {
   "cell_type": "markdown",
   "metadata": {},
   "source": [
    "## 1. Model Preprocessing"
   ]
  },
  {
   "cell_type": "markdown",
   "metadata": {},
   "source": [
    "The classification models cannot directly process the list of ingredients as most of them expect numerical feature vectors with a fixed size instead of a list of strings of variable length. In order to extract usable features from the list of ingredients, I will use a bag of words model - for each document (i.e. the list of ingredients for a recipe), the frequency of words is taken into account, but the order in which they occur is ignored.\n",
    "I will use the Term Frequency, Inverse Document Frequency (tf-idf) vectorizer to convert each document into a feature vector. \n",
    "\n",
    "TF-IDF evaluates how relevant a word is to a document in a corpus. This is done by multiplying two metrics: how many times the word appears in a document, and the inverse document frequency of the word across a set of documents. For the case of ingredients in a recipe, an ingredient would only appear once in a given document, however, the inverse document frequency would be important as ingredients that appear across all cuisines (such as oil and onions) should probably be given less predictive power than words that only show up in a few recipes.\n",
    "\n",
    "I will use the following parameters for the TF-IDF vectorizer:\n",
    "* max_df is set to 0.95: this means that ingredients appearing in more than 95% of the recipes will be excluded from my bag of words\n",
    "* binary is set to True: all non-zero term counts are set to 1. This means that if an ingredient appears more than once in a recipe, only the first mention of the ingredient will be included in my bag of words"
   ]
  },
  {
   "cell_type": "code",
   "execution_count": 5,
   "metadata": {},
   "outputs": [],
   "source": [
    "# combine ingredients to single string instead of list\n",
    "X_join = data['ingredients'].apply(lambda x: ' '.join(x).lower())\n",
    "\n",
    "#tf-idf\n",
    "tvec = TfidfVectorizer(binary=True, max_df = .95)\n",
    "X = tvec.fit_transform(X_join.tolist())"
   ]
  },
  {
   "cell_type": "code",
   "execution_count": 6,
   "metadata": {},
   "outputs": [],
   "source": [
    "y = data['cuisine']\n",
    "labels = list(data['cuisine'].unique())"
   ]
  },
  {
   "cell_type": "code",
   "execution_count": 7,
   "metadata": {},
   "outputs": [],
   "source": [
    "# train test split\n",
    "X_train, X_test, y_train, y_test = train_test_split(X, y, test_size = 0.2, random_state=42, stratify = y)"
   ]
  },
  {
   "attachments": {
    "Screenshot%202021-08-21%20at%202.49.09%20PM.png": {
     "image/png": "[encoded data removed]"
    }
   },
   "cell_type": "markdown",
   "metadata": {},
   "source": [
    "I will train and fit my data on the following models:\n",
    "1. Multinomial Naive Bayes\n",
    "2. Logistic Regression\n",
    "3. Random Forest Classifier\n",
    "4. Linear Support Vector Machine\n",
    "\n",
    "For each model, I will use stratified k-fold cross-validation to evaluate and further tune my models if there is evidence of overfitting. I will use a 5 cross fold strategy and evaluate the performance on the following metrics:\n",
    "1. Precision (weighted): The proportion of predicted positives that are actually positive\n",
    "2. Recall (weighted): The proportion of true positives that are correctly classified\n",
    "3. F1-score (weighted): The harmonic mean of precision and recall. This is useful for cuisine classification because I would want to minimize the false positives and false negatives equally\n",
    "4. Cohen's Kappa Score: A measure for accuracy that integrates measurements of chance and class imbalance. \n",
    "\n",
    "Unlike the macro scores (which is the simple arithmetic mean of all metrics across classes), the weighted scores will weight the average of the metric by the number of samples for each class. I will use the weighted scores instead of the macro scores for precision, recall, and F1-score to account for any class imbalance between cuisines.\n",
    "\n",
    "I will be using Cohen's Kappa score as it is a more robust metric than accuracy. Accuracy can be misleading because it does not take into account class imbalance (therefore you can get a high accuracy score if you predict the majority label for all data points in an imbalanced data set). The kappa score is adjusted to account for the probability that a predicted label and true label are the same due to chance. The formula for this is shown below, where P_0 is the accuracy, and P_e is the probability that predicted and true labels are the same due to chance. More information on Cohen's Kappa score can be found [here](https://towardsdatascience.com/comprehensive-guide-on-multiclass-classification-metrics-af94cfb83fbd): \n",
    "![Screenshot%202021-08-21%20at%202.49.09%20PM.png](attachment:Screenshot%202021-08-21%20at%202.49.09%20PM.png)\n",
    "\n",
    "For each of the 4 models, I will use the classification report from sk-learn to see how well my model performs on testing data. The classification report will allow me to compare the precision, recall, and f1-score for each cuisine specifically, and provide an indication of which cuisines are more difficult to classify.\n",
    "\n",
    "I will store the weighted precision, weighted recall, weighted F1-score, and Kappa score for each model so I can compare the performance of each model on the test dataset before I select my final model for production. "
   ]
  },
  {
   "cell_type": "code",
   "execution_count": 8,
   "metadata": {},
   "outputs": [],
   "source": [
    "# functions for modeling\n",
    "\n",
    "#instantiate stratified k fold\n",
    "skf = StratifiedKFold(n_splits=5)\n",
    "\n",
    "# dictionaries to store cross val and test scores for model comparison\n",
    "cross_val_dic = {}\n",
    "test_dic = {}\n",
    "\n",
    "\n",
    "# scoring dictionary for cross validation\n",
    "scoring = {'precision': make_scorer(precision_score, average='weighted'),\n",
    "           'recall': make_scorer(recall_score, average='weighted'),\n",
    "           'f1': make_scorer(f1_score, average='weighted'),\n",
    "           'kappa_score':make_scorer(cohen_kappa_score),\n",
    "           }\n",
    "\n",
    "\n",
    "def cross_val_score(model, X, y, scoring=scoring, cv= skf):\n",
    "    \"\"\"\n",
    "    Evaluates a given model/estimator using cross-validation\n",
    "    and returns a dict containing the absolute vlues of the average (mean) scores\n",
    "    for classification models.\n",
    "\n",
    "    model: scikit-learn classification model\n",
    "    X: features (no labels)\n",
    "    y: labels\n",
    "    scoring: a dictionary of scoring metrics\n",
    "    cv: cross-validation strategy\n",
    "    \"\"\"\n",
    "    # Score metrics on cross-validated dataset\n",
    "    scores_dict = cross_validate(model, X, y, scoring=scoring, cv=skf, n_jobs=-1)\n",
    "\n",
    "    # return the average scores for each metric\n",
    "    return {metric: round(np.mean(scores), 5) for metric, scores in scores_dict.items()}\n",
    "\n",
    "\n",
    "def add_cross_val_score(name, model, X_train, y_train):\n",
    "    \"\"\"\n",
    "    Evaluates a given model/estimator using the cross_val_score function \n",
    "    and returns an updated dataframe including the given model's cross validation scores\n",
    "    for comparison.\n",
    "\n",
    "    name: model name for dataframe (string)\n",
    "    model: scikit-learn classification model\n",
    "    X_train: training data features (no labels)\n",
    "    y_train: training data labels\n",
    "    \"\"\"\n",
    "    \n",
    "    # add cross validation scores for model to dictionary\n",
    "    cross_val_dic[name] = cross_val_score(model, X_train, y_train)\n",
    "    # return updated dataframe\n",
    "    return pd.DataFrame(cross_val_dic)\n",
    "\n",
    "\n",
    "def add_test_score(name, model, X_test, y_test):\n",
    "    \"\"\"\n",
    "    Evaluates a given model/estimator's predicted labels on the following metrics:\n",
    "    Precision (weighted), Recall (weighted), F1-score (weighted), and Cohen Kappa Score\n",
    "    Returns an updated dataframe including the model's performance on test data for comparison.\n",
    "\n",
    "    name: model name for dataframe (string)\n",
    "    model: scikit-learn classification model\n",
    "    X_test: test data features (no labels)\n",
    "    y_test: test data labels\n",
    "    \"\"\"\n",
    "    \n",
    "    y_pred = model.predict(X_test)\n",
    "    report = classification_report(y_test, y_pred, output_dict=True)\n",
    "    score_dic = {}\n",
    "    score_dic['F1 score'] = report['weighted avg']['f1-score']\n",
    "    score_dic['Kappa score'] = cohen_kappa_score(y_test, y_pred)\n",
    "    score_dic['Precision'] = report['weighted avg']['precision']\n",
    "    score_dic['Recall'] = report['weighted avg']['recall']\n",
    "    \n",
    "    test_dic[name] = score_dic\n",
    "    return pd.DataFrame(test_dic)"
   ]
  },
  {
   "cell_type": "markdown",
   "metadata": {},
   "source": [
    "## 2.  Baseline Model"
   ]
  },
  {
   "cell_type": "markdown",
   "metadata": {},
   "source": [
    "The baseline model is the simplest model I can use to predict the cuisine. For my baseline model, I will randomly predict a cuisine for my test dataset, and compare this to the actual cuisines. Since the actual cuisines for my test dataset should be unknown when I am making my predictions, I will assume the probability of predicting a cuisine is the same as the proportion of recipes in my train data set that belong to that cuisine class.\n"
   ]
  },
  {
   "cell_type": "code",
   "execution_count": 9,
   "metadata": {},
   "outputs": [],
   "source": [
    "np.random.seed(23)\n",
    "baseline_pred = np.random.choice(y_train.value_counts(normalize = True).index, \n",
    "                  p=y_train.value_counts(normalize = True).values, \n",
    "                 size = y_test.shape, replace = True)\n",
    "\n",
    "report = classification_report(y_test, baseline_pred, output_dict=True)\n",
    "score_dic = {}\n",
    "score_dic['F1 score'] = report['weighted avg']['f1-score']\n",
    "score_dic['Kappa score'] = cohen_kappa_score(y_test, baseline_pred)\n",
    "score_dic['Precision'] = report['weighted avg']['precision']\n",
    "score_dic['Recall'] = report['weighted avg']['recall']\n",
    "test_dic['Baseline Model'] = score_dic"
   ]
  },
  {
   "cell_type": "code",
   "execution_count": 10,
   "metadata": {},
   "outputs": [
    {
     "name": "stdout",
     "output_type": "stream",
     "text": [
      "              precision    recall  f1-score   support\n",
      "\n",
      "     Chinese       0.04      0.03      0.03       190\n",
      "       Irish       0.04      0.05      0.04       196\n",
      "     Spanish       0.03      0.03      0.03       135\n",
      "     Mexican       0.08      0.07      0.07       171\n",
      "   Hungarian       0.05      0.05      0.05       195\n",
      "      German       0.09      0.09      0.09       195\n",
      "     Italian       0.03      0.04      0.04       199\n",
      "      Indian       0.06      0.06      0.06       149\n",
      "    Moroccan       0.04      0.04      0.04       119\n",
      "        Thai       0.08      0.09      0.08       197\n",
      "      French       0.08      0.08      0.08       149\n",
      "    Hawaiian       0.08      0.08      0.08       198\n",
      "       Cuban       0.09      0.08      0.08       193\n",
      "       Greek       0.04      0.05      0.04       196\n",
      "     Swedish       0.10      0.09      0.09       197\n",
      "    Japanese       0.04      0.04      0.04       197\n",
      "     English       0.04      0.04      0.04       107\n",
      "    American       0.08      0.08      0.08       196\n",
      "\n",
      "    accuracy                           0.06      3179\n",
      "   macro avg       0.06      0.06      0.06      3179\n",
      "weighted avg       0.06      0.06      0.06      3179\n",
      "\n"
     ]
    }
   ],
   "source": [
    "print(classification_report(y_test, baseline_pred, target_names=labels))"
   ]
  },
  {
   "cell_type": "markdown",
   "metadata": {},
   "source": [
    "## 3. Multinomial Naive Bayes"
   ]
  },
  {
   "cell_type": "markdown",
   "metadata": {},
   "source": [
    "Multinomial naive bayes is a classification modelling technique that will find the probabilities of classes assigned to texts by using the joint probabilities of words and classes. Naive bayes makes the assumption that every feature is independent. This is most likely untrue in the case of ingredients in a recipe, where the probability of using a particular ingredient probably does depend on the other ingredients used in a recipe (for example. the probability of using sugar affects the probability of using another sweetener). However, I will still test this model because naive bayes classification models tend to perform well on text data.\n",
    "\n",
    "I will use gridsearch to find the optimal alpha hyperparameter, which is the smoothing parameter used to account for ingredients which many not be present in the train set."
   ]
  },
  {
   "cell_type": "code",
   "execution_count": 30,
   "metadata": {},
   "outputs": [],
   "source": [
    "kappa = make_scorer(cohen_kappa_score)\n",
    "nb = MultinomialNB()\n",
    "param_grid = {'alpha': [1, 1e-1, 1e-2, 1e-3]}\n",
    "nb_gs = GridSearchCV(nb, param_grid, scoring=kappa)"
   ]
  },
  {
   "cell_type": "code",
   "execution_count": 31,
   "metadata": {},
   "outputs": [
    {
     "data": {
      "text/plain": [
       "GridSearchCV(estimator=MultinomialNB(),\n",
       "             param_grid={'alpha': [1, 0.1, 0.01, 0.001]},\n",
       "             scoring=make_scorer(cohen_kappa_score))"
      ]
     },
     "execution_count": 31,
     "metadata": {},
     "output_type": "execute_result"
    }
   ],
   "source": [
    "nb_gs.fit(X_train, y_train)"
   ]
  },
  {
   "cell_type": "code",
   "execution_count": 32,
   "metadata": {},
   "outputs": [],
   "source": [
    "nb_best = nb_gs.best_estimator_"
   ]
  },
  {
   "cell_type": "code",
   "execution_count": 33,
   "metadata": {},
   "outputs": [
    {
     "data": {
      "text/html": [
       "<div>\n",
       "<style scoped>\n",
       "    .dataframe tbody tr th:only-of-type {\n",
       "        vertical-align: middle;\n",
       "    }\n",
       "\n",
       "    .dataframe tbody tr th {\n",
       "        vertical-align: top;\n",
       "    }\n",
       "\n",
       "    .dataframe thead th {\n",
       "        text-align: right;\n",
       "    }\n",
       "</style>\n",
       "<table border=\"1\" class=\"dataframe\">\n",
       "  <thead>\n",
       "    <tr style=\"text-align: right;\">\n",
       "      <th></th>\n",
       "      <th>Multinomial Naive Bayes</th>\n",
       "    </tr>\n",
       "  </thead>\n",
       "  <tbody>\n",
       "    <tr>\n",
       "      <th>fit_time</th>\n",
       "      <td>0.11877</td>\n",
       "    </tr>\n",
       "    <tr>\n",
       "      <th>score_time</th>\n",
       "      <td>0.07694</td>\n",
       "    </tr>\n",
       "    <tr>\n",
       "      <th>test_f1</th>\n",
       "      <td>0.80662</td>\n",
       "    </tr>\n",
       "    <tr>\n",
       "      <th>test_kappa_score</th>\n",
       "      <td>0.79796</td>\n",
       "    </tr>\n",
       "    <tr>\n",
       "      <th>test_precision</th>\n",
       "      <td>0.80888</td>\n",
       "    </tr>\n",
       "    <tr>\n",
       "      <th>test_recall</th>\n",
       "      <td>0.80959</td>\n",
       "    </tr>\n",
       "  </tbody>\n",
       "</table>\n",
       "</div>"
      ],
      "text/plain": [
       "                  Multinomial Naive Bayes\n",
       "fit_time                          0.11877\n",
       "score_time                        0.07694\n",
       "test_f1                           0.80662\n",
       "test_kappa_score                  0.79796\n",
       "test_precision                    0.80888\n",
       "test_recall                       0.80959"
      ]
     },
     "execution_count": 33,
     "metadata": {},
     "output_type": "execute_result"
    }
   ],
   "source": [
    "add_cross_val_score('Multinomial Naive Bayes', nb_best, X_train, y_train)"
   ]
  },
  {
   "cell_type": "code",
   "execution_count": 34,
   "metadata": {},
   "outputs": [
    {
     "name": "stdout",
     "output_type": "stream",
     "text": [
      "              precision    recall  f1-score   support\n",
      "\n",
      "     Chinese       0.70      0.53      0.60       190\n",
      "       Irish       0.82      0.88      0.85       196\n",
      "     Spanish       0.80      0.71      0.75       135\n",
      "     Mexican       0.60      0.54      0.57       171\n",
      "   Hungarian       0.65      0.67      0.66       195\n",
      "      German       0.74      0.78      0.76       195\n",
      "     Italian       0.84      0.94      0.89       199\n",
      "      Indian       0.81      0.78      0.79       149\n",
      "    Moroccan       0.91      0.73      0.81       119\n",
      "        Thai       0.93      0.95      0.94       197\n",
      "      French       0.74      0.74      0.74       149\n",
      "    Hawaiian       0.81      0.81      0.81       198\n",
      "       Cuban       0.93      0.89      0.91       193\n",
      "       Greek       0.84      0.86      0.85       196\n",
      "     Swedish       0.87      0.92      0.89       197\n",
      "    Japanese       0.76      0.87      0.81       197\n",
      "     English       0.76      0.74      0.75       107\n",
      "    American       0.90      0.96      0.93       196\n",
      "\n",
      "    accuracy                           0.80      3179\n",
      "   macro avg       0.80      0.79      0.79      3179\n",
      "weighted avg       0.80      0.80      0.80      3179\n",
      "\n"
     ]
    }
   ],
   "source": [
    "print(classification_report(y_test, nb_best.predict(X_test), target_names=labels))"
   ]
  },
  {
   "cell_type": "code",
   "execution_count": 35,
   "metadata": {},
   "outputs": [
    {
     "data": {
      "text/html": [
       "<div>\n",
       "<style scoped>\n",
       "    .dataframe tbody tr th:only-of-type {\n",
       "        vertical-align: middle;\n",
       "    }\n",
       "\n",
       "    .dataframe tbody tr th {\n",
       "        vertical-align: top;\n",
       "    }\n",
       "\n",
       "    .dataframe thead th {\n",
       "        text-align: right;\n",
       "    }\n",
       "</style>\n",
       "<table border=\"1\" class=\"dataframe\">\n",
       "  <thead>\n",
       "    <tr style=\"text-align: right;\">\n",
       "      <th></th>\n",
       "      <th>Baseline Model</th>\n",
       "      <th>Multinomial Naive Bayes</th>\n",
       "    </tr>\n",
       "  </thead>\n",
       "  <tbody>\n",
       "    <tr>\n",
       "      <th>F1 score</th>\n",
       "      <td>0.061475</td>\n",
       "      <td>0.799826</td>\n",
       "    </tr>\n",
       "    <tr>\n",
       "      <th>Kappa score</th>\n",
       "      <td>0.004389</td>\n",
       "      <td>0.790728</td>\n",
       "    </tr>\n",
       "    <tr>\n",
       "      <th>Precision</th>\n",
       "      <td>0.061798</td>\n",
       "      <td>0.800899</td>\n",
       "    </tr>\n",
       "    <tr>\n",
       "      <th>Recall</th>\n",
       "      <td>0.061340</td>\n",
       "      <td>0.802768</td>\n",
       "    </tr>\n",
       "  </tbody>\n",
       "</table>\n",
       "</div>"
      ],
      "text/plain": [
       "             Baseline Model  Multinomial Naive Bayes\n",
       "F1 score           0.061475                 0.799826\n",
       "Kappa score        0.004389                 0.790728\n",
       "Precision          0.061798                 0.800899\n",
       "Recall             0.061340                 0.802768"
      ]
     },
     "execution_count": 35,
     "metadata": {},
     "output_type": "execute_result"
    }
   ],
   "source": [
    "add_test_score('Multinomial Naive Bayes', nb_best, X_test, y_test)"
   ]
  },
  {
   "cell_type": "code",
   "execution_count": 36,
   "metadata": {},
   "outputs": [],
   "source": [
    "# save model\n",
    "# with open('../models/cuisine_prediction/naivebayes.pkl', 'wb') as file:   \n",
    "#    pickle.dump(nb_best, file)"
   ]
  },
  {
   "cell_type": "markdown",
   "metadata": {},
   "source": [
    "## 4. Logistic Regression"
   ]
  },
  {
   "cell_type": "markdown",
   "metadata": {},
   "source": [
    "For multiclass logistic regression, there are two algorithms that sklearn offers - OVR or multinomial.\n",
    "\n",
    "One vs Rest (OVR) involves training a single classifier per class, with the samples of that class as positive and all other samples as negative. For OVR, the assumption is that there are N independent classification problems, and therfore for each class we learn an independent logistic model.\n",
    "\n",
    "The second algorithm is a multinomial logistic regression classifier. In this case, instead of classifying each class seperately, the classifier uses the softmax function to predict if a single data point falls in one of the N classes. \n",
    "\n",
    "I will use gridsearch to select the optimal algorithm, as well as tune the regularization hyperparameter C."
   ]
  },
  {
   "cell_type": "code",
   "execution_count": 37,
   "metadata": {},
   "outputs": [],
   "source": [
    "mc = ['ovr', 'multinomial']\n",
    "c = [0.01, 0.1, 1, 10, 100]\n",
    "param_grid = {'C': c, 'multi_class': mc}\n",
    "\n",
    "lr = LogisticRegression(max_iter = 5000)\n",
    "lr_gs = GridSearchCV(lr, param_grid, scoring = kappa)"
   ]
  },
  {
   "cell_type": "code",
   "execution_count": 38,
   "metadata": {},
   "outputs": [
    {
     "data": {
      "text/plain": [
       "GridSearchCV(estimator=LogisticRegression(max_iter=5000),\n",
       "             param_grid={'C': [0.01, 0.1, 1, 10, 100],\n",
       "                         'multi_class': ['ovr', 'multinomial']},\n",
       "             scoring=make_scorer(cohen_kappa_score))"
      ]
     },
     "execution_count": 38,
     "metadata": {},
     "output_type": "execute_result"
    }
   ],
   "source": [
    "lr_gs.fit(X_train, y_train)"
   ]
  },
  {
   "cell_type": "code",
   "execution_count": 39,
   "metadata": {},
   "outputs": [],
   "source": [
    "lr_best = lr_gs.best_estimator_"
   ]
  },
  {
   "cell_type": "code",
   "execution_count": 40,
   "metadata": {},
   "outputs": [
    {
     "data": {
      "text/plain": [
       "LogisticRegression(C=10, max_iter=5000, multi_class='multinomial')"
      ]
     },
     "execution_count": 40,
     "metadata": {},
     "output_type": "execute_result"
    }
   ],
   "source": [
    "lr_best"
   ]
  },
  {
   "cell_type": "code",
   "execution_count": 41,
   "metadata": {},
   "outputs": [
    {
     "data": {
      "text/html": [
       "<div>\n",
       "<style scoped>\n",
       "    .dataframe tbody tr th:only-of-type {\n",
       "        vertical-align: middle;\n",
       "    }\n",
       "\n",
       "    .dataframe tbody tr th {\n",
       "        vertical-align: top;\n",
       "    }\n",
       "\n",
       "    .dataframe thead th {\n",
       "        text-align: right;\n",
       "    }\n",
       "</style>\n",
       "<table border=\"1\" class=\"dataframe\">\n",
       "  <thead>\n",
       "    <tr style=\"text-align: right;\">\n",
       "      <th></th>\n",
       "      <th>Multinomial Naive Bayes</th>\n",
       "      <th>Logistic Regression</th>\n",
       "    </tr>\n",
       "  </thead>\n",
       "  <tbody>\n",
       "    <tr>\n",
       "      <th>fit_time</th>\n",
       "      <td>0.11877</td>\n",
       "      <td>4.23883</td>\n",
       "    </tr>\n",
       "    <tr>\n",
       "      <th>score_time</th>\n",
       "      <td>0.07694</td>\n",
       "      <td>0.08036</td>\n",
       "    </tr>\n",
       "    <tr>\n",
       "      <th>test_precision</th>\n",
       "      <td>0.80888</td>\n",
       "      <td>0.85068</td>\n",
       "    </tr>\n",
       "    <tr>\n",
       "      <th>test_recall</th>\n",
       "      <td>0.80959</td>\n",
       "      <td>0.84923</td>\n",
       "    </tr>\n",
       "    <tr>\n",
       "      <th>test_f1</th>\n",
       "      <td>0.80662</td>\n",
       "      <td>0.84938</td>\n",
       "    </tr>\n",
       "    <tr>\n",
       "      <th>test_kappa_score</th>\n",
       "      <td>0.79796</td>\n",
       "      <td>0.84008</td>\n",
       "    </tr>\n",
       "  </tbody>\n",
       "</table>\n",
       "</div>"
      ],
      "text/plain": [
       "                  Multinomial Naive Bayes  Logistic Regression\n",
       "fit_time                          0.11877              4.23883\n",
       "score_time                        0.07694              0.08036\n",
       "test_precision                    0.80888              0.85068\n",
       "test_recall                       0.80959              0.84923\n",
       "test_f1                           0.80662              0.84938\n",
       "test_kappa_score                  0.79796              0.84008"
      ]
     },
     "execution_count": 41,
     "metadata": {},
     "output_type": "execute_result"
    }
   ],
   "source": [
    "add_cross_val_score('Logistic Regression', lr_best, X_train, y_train)"
   ]
  },
  {
   "cell_type": "code",
   "execution_count": 42,
   "metadata": {},
   "outputs": [
    {
     "name": "stdout",
     "output_type": "stream",
     "text": [
      "              precision    recall  f1-score   support\n",
      "\n",
      "     Chinese       0.67      0.71      0.69       190\n",
      "       Irish       0.88      0.91      0.89       196\n",
      "     Spanish       0.83      0.82      0.83       135\n",
      "     Mexican       0.65      0.63      0.64       171\n",
      "   Hungarian       0.71      0.74      0.73       195\n",
      "      German       0.84      0.79      0.81       195\n",
      "     Italian       0.92      0.92      0.92       199\n",
      "      Indian       0.92      0.91      0.92       149\n",
      "    Moroccan       0.87      0.87      0.87       119\n",
      "        Thai       0.96      0.95      0.95       197\n",
      "      French       0.79      0.78      0.79       149\n",
      "    Hawaiian       0.85      0.86      0.86       198\n",
      "       Cuban       0.95      0.92      0.93       193\n",
      "       Greek       0.88      0.85      0.86       196\n",
      "     Swedish       0.91      0.95      0.93       197\n",
      "    Japanese       0.85      0.87      0.86       197\n",
      "     English       0.81      0.78      0.79       107\n",
      "    American       0.94      0.96      0.95       196\n",
      "\n",
      "    accuracy                           0.85      3179\n",
      "   macro avg       0.85      0.84      0.85      3179\n",
      "weighted avg       0.85      0.85      0.85      3179\n",
      "\n"
     ]
    }
   ],
   "source": [
    "print(classification_report(y_test, lr_best.predict(X_test), target_names=labels))"
   ]
  },
  {
   "cell_type": "code",
   "execution_count": 43,
   "metadata": {},
   "outputs": [
    {
     "data": {
      "text/html": [
       "<div>\n",
       "<style scoped>\n",
       "    .dataframe tbody tr th:only-of-type {\n",
       "        vertical-align: middle;\n",
       "    }\n",
       "\n",
       "    .dataframe tbody tr th {\n",
       "        vertical-align: top;\n",
       "    }\n",
       "\n",
       "    .dataframe thead th {\n",
       "        text-align: right;\n",
       "    }\n",
       "</style>\n",
       "<table border=\"1\" class=\"dataframe\">\n",
       "  <thead>\n",
       "    <tr style=\"text-align: right;\">\n",
       "      <th></th>\n",
       "      <th>Baseline Model</th>\n",
       "      <th>Multinomial Naive Bayes</th>\n",
       "      <th>LogisticRegression</th>\n",
       "    </tr>\n",
       "  </thead>\n",
       "  <tbody>\n",
       "    <tr>\n",
       "      <th>F1 score</th>\n",
       "      <td>0.061475</td>\n",
       "      <td>0.799826</td>\n",
       "      <td>0.848372</td>\n",
       "    </tr>\n",
       "    <tr>\n",
       "      <th>Kappa score</th>\n",
       "      <td>0.004389</td>\n",
       "      <td>0.790728</td>\n",
       "      <td>0.839179</td>\n",
       "    </tr>\n",
       "    <tr>\n",
       "      <th>Precision</th>\n",
       "      <td>0.061798</td>\n",
       "      <td>0.800899</td>\n",
       "      <td>0.848784</td>\n",
       "    </tr>\n",
       "    <tr>\n",
       "      <th>Recall</th>\n",
       "      <td>0.061340</td>\n",
       "      <td>0.802768</td>\n",
       "      <td>0.848380</td>\n",
       "    </tr>\n",
       "  </tbody>\n",
       "</table>\n",
       "</div>"
      ],
      "text/plain": [
       "             Baseline Model  Multinomial Naive Bayes  LogisticRegression\n",
       "F1 score           0.061475                 0.799826            0.848372\n",
       "Kappa score        0.004389                 0.790728            0.839179\n",
       "Precision          0.061798                 0.800899            0.848784\n",
       "Recall             0.061340                 0.802768            0.848380"
      ]
     },
     "execution_count": 43,
     "metadata": {},
     "output_type": "execute_result"
    }
   ],
   "source": [
    "add_test_score('LogisticRegression', lr_best, X_test, y_test)"
   ]
  },
  {
   "cell_type": "code",
   "execution_count": 44,
   "metadata": {},
   "outputs": [],
   "source": [
    "# save model\n",
    "# with open('../models/cuisine_prediction/logreg.pkl', 'wb') as file:   \n",
    "#    pickle.dump(lr_best, file)"
   ]
  },
  {
   "cell_type": "markdown",
   "metadata": {},
   "source": [
    "## 5. Random Forest Classifier"
   ]
  },
  {
   "cell_type": "markdown",
   "metadata": {},
   "source": [
    "For the random forest classifier, I will use gridsearch to find the optimal values for the following hyperparameters.\n",
    "\n",
    "* n_estimators: the number of trees in the forest\n",
    "* max_depth: the maximum number of levels in each decision tree\n",
    "* min_samples_split: the minimum number of data points placed in a node before the node is split\n",
    "* min_samples_leaf: the minimum number of data points allowed in a leaf node\n",
    "\n",
    "Because I am tuning several hyperparameters, I will use HalvingRandomSearchCV instead of GridSearchCV. \n",
    "\n",
    "Randomized Search tries to control the number of iterations by choosing random combinations of hyperparameters to train on (instead of exhaustively training every combination like GridSearch). For the HalvingRandomSearchCV, the algorithm trains all candidates for hyperparamters on a small proportion of the training data. In the next iteration, only the candidates which perform best are chosen, and are given a larger proportion of the training data. Therefore, with each iteration, fewer candidates are chosen and more resources (data) is given, until only the best set of hyperparameters are remaining. \n"
   ]
  },
  {
   "cell_type": "code",
   "execution_count": 45,
   "metadata": {},
   "outputs": [],
   "source": [
    "n_estimators = [int(x) for x in np.linspace(start=200, stop=2000, num=10)]\n",
    "max_depth = [int(x) for x in np.linspace(10, 110, num=11)]\n",
    "min_samples_split = [2, 5, 7, 10]\n",
    "min_samples_leaf = [1, 2, 3, 4]\n",
    "\n",
    "\n",
    "rf = RandomForestClassifier()\n",
    "\n",
    "param_grid = {\n",
    "    \"n_estimators\": n_estimators,\n",
    "    \"max_depth\": max_depth,\n",
    "    \"min_samples_split\": min_samples_split,\n",
    "    \"min_samples_leaf\": min_samples_leaf,\n",
    "}\n",
    "\n",
    "hrs = HalvingRandomSearchCV(\n",
    "    estimator=rf, #randomforest classifier\n",
    "    param_distributions=param_grid, \n",
    "    cv=3, # 3 cross validation folds\n",
    "    factor=5, # 1/5 candidates selected for subsequent iteration\n",
    "    n_jobs=-1, # use all processors\n",
    "    scoring = kappa\n",
    ")"
   ]
  },
  {
   "cell_type": "code",
   "execution_count": 46,
   "metadata": {},
   "outputs": [
    {
     "data": {
      "text/plain": [
       "HalvingRandomSearchCV(cv=3, estimator=RandomForestClassifier(), factor=5,\n",
       "                      n_jobs=-1,\n",
       "                      param_distributions={'max_depth': [10, 20, 30, 40, 50, 60,\n",
       "                                                         70, 80, 90, 100, 110],\n",
       "                                           'min_samples_leaf': [1, 2, 3, 4],\n",
       "                                           'min_samples_split': [2, 5, 7, 10],\n",
       "                                           'n_estimators': [200, 400, 600, 800,\n",
       "                                                            1000, 1200, 1400,\n",
       "                                                            1600, 1800, 2000]},\n",
       "                      refit=<function _refit_callable at 0x7f9be9fdb3a0>,\n",
       "                      scoring=make_scorer(cohen_kappa_score))"
      ]
     },
     "execution_count": 46,
     "metadata": {},
     "output_type": "execute_result"
    }
   ],
   "source": [
    "hrs.fit(X_train, y_train)"
   ]
  },
  {
   "cell_type": "code",
   "execution_count": 47,
   "metadata": {},
   "outputs": [
    {
     "data": {
      "text/plain": [
       "RandomForestClassifier(max_depth=90, n_estimators=1800)"
      ]
     },
     "execution_count": 47,
     "metadata": {},
     "output_type": "execute_result"
    }
   ],
   "source": [
    "rf_best = hrs.best_estimator_\n",
    "rf_best.fit(X_train, y_train)"
   ]
  },
  {
   "cell_type": "code",
   "execution_count": 48,
   "metadata": {},
   "outputs": [
    {
     "data": {
      "text/html": [
       "<div>\n",
       "<style scoped>\n",
       "    .dataframe tbody tr th:only-of-type {\n",
       "        vertical-align: middle;\n",
       "    }\n",
       "\n",
       "    .dataframe tbody tr th {\n",
       "        vertical-align: top;\n",
       "    }\n",
       "\n",
       "    .dataframe thead th {\n",
       "        text-align: right;\n",
       "    }\n",
       "</style>\n",
       "<table border=\"1\" class=\"dataframe\">\n",
       "  <thead>\n",
       "    <tr style=\"text-align: right;\">\n",
       "      <th></th>\n",
       "      <th>Multinomial Naive Bayes</th>\n",
       "      <th>Logistic Regression</th>\n",
       "      <th>Random Forest</th>\n",
       "    </tr>\n",
       "  </thead>\n",
       "  <tbody>\n",
       "    <tr>\n",
       "      <th>fit_time</th>\n",
       "      <td>0.11877</td>\n",
       "      <td>4.23883</td>\n",
       "      <td>288.73621</td>\n",
       "    </tr>\n",
       "    <tr>\n",
       "      <th>score_time</th>\n",
       "      <td>0.07694</td>\n",
       "      <td>0.08036</td>\n",
       "      <td>13.93747</td>\n",
       "    </tr>\n",
       "    <tr>\n",
       "      <th>test_precision</th>\n",
       "      <td>0.80888</td>\n",
       "      <td>0.85068</td>\n",
       "      <td>0.84063</td>\n",
       "    </tr>\n",
       "    <tr>\n",
       "      <th>test_recall</th>\n",
       "      <td>0.80959</td>\n",
       "      <td>0.84923</td>\n",
       "      <td>0.84121</td>\n",
       "    </tr>\n",
       "    <tr>\n",
       "      <th>test_f1</th>\n",
       "      <td>0.80662</td>\n",
       "      <td>0.84938</td>\n",
       "      <td>0.83916</td>\n",
       "    </tr>\n",
       "    <tr>\n",
       "      <th>test_kappa_score</th>\n",
       "      <td>0.79796</td>\n",
       "      <td>0.84008</td>\n",
       "      <td>0.83156</td>\n",
       "    </tr>\n",
       "  </tbody>\n",
       "</table>\n",
       "</div>"
      ],
      "text/plain": [
       "                  Multinomial Naive Bayes  Logistic Regression  Random Forest\n",
       "fit_time                          0.11877              4.23883      288.73621\n",
       "score_time                        0.07694              0.08036       13.93747\n",
       "test_precision                    0.80888              0.85068        0.84063\n",
       "test_recall                       0.80959              0.84923        0.84121\n",
       "test_f1                           0.80662              0.84938        0.83916\n",
       "test_kappa_score                  0.79796              0.84008        0.83156"
      ]
     },
     "execution_count": 48,
     "metadata": {},
     "output_type": "execute_result"
    }
   ],
   "source": [
    "add_cross_val_score('Random Forest', rf_best, X_train, y_train)"
   ]
  },
  {
   "cell_type": "code",
   "execution_count": 49,
   "metadata": {},
   "outputs": [
    {
     "name": "stdout",
     "output_type": "stream",
     "text": [
      "              precision    recall  f1-score   support\n",
      "\n",
      "     Chinese       0.65      0.51      0.57       190\n",
      "       Irish       0.83      0.89      0.86       196\n",
      "     Spanish       0.80      0.78      0.79       135\n",
      "     Mexican       0.69      0.65      0.67       171\n",
      "   Hungarian       0.71      0.79      0.75       195\n",
      "      German       0.82      0.80      0.81       195\n",
      "     Italian       0.91      0.93      0.92       199\n",
      "      Indian       0.94      0.90      0.92       149\n",
      "    Moroccan       0.83      0.89      0.86       119\n",
      "        Thai       0.96      0.95      0.96       197\n",
      "      French       0.86      0.77      0.81       149\n",
      "    Hawaiian       0.82      0.85      0.83       198\n",
      "       Cuban       0.91      0.92      0.91       193\n",
      "       Greek       0.88      0.86      0.87       196\n",
      "     Swedish       0.83      0.91      0.87       197\n",
      "    Japanese       0.84      0.90      0.87       197\n",
      "     English       0.86      0.76      0.81       107\n",
      "    American       0.94      0.95      0.95       196\n",
      "\n",
      "    accuracy                           0.84      3179\n",
      "   macro avg       0.84      0.83      0.83      3179\n",
      "weighted avg       0.84      0.84      0.84      3179\n",
      "\n"
     ]
    }
   ],
   "source": [
    "print(classification_report(y_test, rf_best.predict(X_test), target_names=labels))"
   ]
  },
  {
   "cell_type": "code",
   "execution_count": 50,
   "metadata": {},
   "outputs": [
    {
     "data": {
      "text/html": [
       "<div>\n",
       "<style scoped>\n",
       "    .dataframe tbody tr th:only-of-type {\n",
       "        vertical-align: middle;\n",
       "    }\n",
       "\n",
       "    .dataframe tbody tr th {\n",
       "        vertical-align: top;\n",
       "    }\n",
       "\n",
       "    .dataframe thead th {\n",
       "        text-align: right;\n",
       "    }\n",
       "</style>\n",
       "<table border=\"1\" class=\"dataframe\">\n",
       "  <thead>\n",
       "    <tr style=\"text-align: right;\">\n",
       "      <th></th>\n",
       "      <th>Baseline Model</th>\n",
       "      <th>Multinomial Naive Bayes</th>\n",
       "      <th>LogisticRegression</th>\n",
       "      <th>Random Forest</th>\n",
       "    </tr>\n",
       "  </thead>\n",
       "  <tbody>\n",
       "    <tr>\n",
       "      <th>F1 score</th>\n",
       "      <td>0.061475</td>\n",
       "      <td>0.799826</td>\n",
       "      <td>0.848372</td>\n",
       "      <td>0.836543</td>\n",
       "    </tr>\n",
       "    <tr>\n",
       "      <th>Kappa score</th>\n",
       "      <td>0.004389</td>\n",
       "      <td>0.790728</td>\n",
       "      <td>0.839179</td>\n",
       "      <td>0.828807</td>\n",
       "    </tr>\n",
       "    <tr>\n",
       "      <th>Precision</th>\n",
       "      <td>0.061798</td>\n",
       "      <td>0.800899</td>\n",
       "      <td>0.848784</td>\n",
       "      <td>0.837071</td>\n",
       "    </tr>\n",
       "    <tr>\n",
       "      <th>Recall</th>\n",
       "      <td>0.061340</td>\n",
       "      <td>0.802768</td>\n",
       "      <td>0.848380</td>\n",
       "      <td>0.838628</td>\n",
       "    </tr>\n",
       "  </tbody>\n",
       "</table>\n",
       "</div>"
      ],
      "text/plain": [
       "             Baseline Model  Multinomial Naive Bayes  LogisticRegression  \\\n",
       "F1 score           0.061475                 0.799826            0.848372   \n",
       "Kappa score        0.004389                 0.790728            0.839179   \n",
       "Precision          0.061798                 0.800899            0.848784   \n",
       "Recall             0.061340                 0.802768            0.848380   \n",
       "\n",
       "             Random Forest  \n",
       "F1 score          0.836543  \n",
       "Kappa score       0.828807  \n",
       "Precision         0.837071  \n",
       "Recall            0.838628  "
      ]
     },
     "execution_count": 50,
     "metadata": {},
     "output_type": "execute_result"
    }
   ],
   "source": [
    "add_test_score('Random Forest', rf_best, X_test, y_test)"
   ]
  },
  {
   "cell_type": "code",
   "execution_count": 51,
   "metadata": {},
   "outputs": [],
   "source": [
    "# save model\n",
    "# with open('../models/cuisine_prediction/randomforest.pkl', 'wb') as file:   \n",
    "#    pickle.dump(rf_best, file)"
   ]
  },
  {
   "cell_type": "markdown",
   "metadata": {},
   "source": [
    "##  6. Support Vector Classifier"
   ]
  },
  {
   "cell_type": "markdown",
   "metadata": {},
   "source": [
    "For the support vector machine, I will use LinearSVC which is an SVM with a linear kernel function. For text classification, because the number of features is large, it is better to use a linear kernel than a gaussian or polynomial kernel. \n",
    "\n",
    "Similar to logistic regression, LinearSVC has two options for multiclass classification: OVR or crammer-singer. Crammer-signer optimizes a joint objective function, however as it rarely leads to better accuracy and is more expensive to compute, I will use OVR (which is the default setting). \n",
    "\n",
    "I will use GridSearchCV to find the optimal value for the regularization parameter C."
   ]
  },
  {
   "cell_type": "code",
   "execution_count": 52,
   "metadata": {},
   "outputs": [],
   "source": [
    "c = np.linspace(0.01, 100, 100)\n",
    "\n",
    "svm = LinearSVC()\n",
    "\n",
    "param_grid = { \"C\": c}\n",
    "\n",
    "svm_gs = GridSearchCV(\n",
    "    estimator=svm,\n",
    "    param_grid=param_grid,\n",
    "    cv=3,\n",
    "    n_jobs=-1,\n",
    ")"
   ]
  },
  {
   "cell_type": "code",
   "execution_count": 53,
   "metadata": {},
   "outputs": [
    {
     "data": {
      "text/plain": [
       "GridSearchCV(cv=3, estimator=LinearSVC(), n_jobs=-1,\n",
       "             param_grid={'C': array([1.000e-02, 1.020e+00, 2.030e+00, 3.040e+00, 4.050e+00, 5.060e+00,\n",
       "       6.070e+00, 7.080e+00, 8.090e+00, 9.100e+00, 1.011e+01, 1.112e+01,\n",
       "       1.213e+01, 1.314e+01, 1.415e+01, 1.516e+01, 1.617e+01, 1.718e+01,\n",
       "       1.819e+01, 1.920e+01, 2.021e+01, 2.122e+01, 2.223e+01, 2.324e+01,\n",
       "       2.425e+01, 2.526e+01, 2.627e+01, 2.728e+...\n",
       "       6.061e+01, 6.162e+01, 6.263e+01, 6.364e+01, 6.465e+01, 6.566e+01,\n",
       "       6.667e+01, 6.768e+01, 6.869e+01, 6.970e+01, 7.071e+01, 7.172e+01,\n",
       "       7.273e+01, 7.374e+01, 7.475e+01, 7.576e+01, 7.677e+01, 7.778e+01,\n",
       "       7.879e+01, 7.980e+01, 8.081e+01, 8.182e+01, 8.283e+01, 8.384e+01,\n",
       "       8.485e+01, 8.586e+01, 8.687e+01, 8.788e+01, 8.889e+01, 8.990e+01,\n",
       "       9.091e+01, 9.192e+01, 9.293e+01, 9.394e+01, 9.495e+01, 9.596e+01,\n",
       "       9.697e+01, 9.798e+01, 9.899e+01, 1.000e+02])})"
      ]
     },
     "execution_count": 53,
     "metadata": {},
     "output_type": "execute_result"
    }
   ],
   "source": [
    "svm_gs.fit(X_train, y_train)"
   ]
  },
  {
   "cell_type": "code",
   "execution_count": 54,
   "metadata": {},
   "outputs": [
    {
     "data": {
      "text/plain": [
       "LinearSVC(C=1.02)"
      ]
     },
     "execution_count": 54,
     "metadata": {},
     "output_type": "execute_result"
    }
   ],
   "source": [
    "svm_best = svm_gs.best_estimator_\n",
    "svm_best.fit(X_train, y_train)"
   ]
  },
  {
   "cell_type": "code",
   "execution_count": 55,
   "metadata": {},
   "outputs": [
    {
     "data": {
      "text/html": [
       "<div>\n",
       "<style scoped>\n",
       "    .dataframe tbody tr th:only-of-type {\n",
       "        vertical-align: middle;\n",
       "    }\n",
       "\n",
       "    .dataframe tbody tr th {\n",
       "        vertical-align: top;\n",
       "    }\n",
       "\n",
       "    .dataframe thead th {\n",
       "        text-align: right;\n",
       "    }\n",
       "</style>\n",
       "<table border=\"1\" class=\"dataframe\">\n",
       "  <thead>\n",
       "    <tr style=\"text-align: right;\">\n",
       "      <th></th>\n",
       "      <th>Multinomial Naive Bayes</th>\n",
       "      <th>Logistic Regression</th>\n",
       "      <th>Random Forest</th>\n",
       "      <th>SVC</th>\n",
       "    </tr>\n",
       "  </thead>\n",
       "  <tbody>\n",
       "    <tr>\n",
       "      <th>fit_time</th>\n",
       "      <td>0.11877</td>\n",
       "      <td>4.23883</td>\n",
       "      <td>288.73621</td>\n",
       "      <td>0.52210</td>\n",
       "    </tr>\n",
       "    <tr>\n",
       "      <th>score_time</th>\n",
       "      <td>0.07694</td>\n",
       "      <td>0.08036</td>\n",
       "      <td>13.93747</td>\n",
       "      <td>0.11377</td>\n",
       "    </tr>\n",
       "    <tr>\n",
       "      <th>test_precision</th>\n",
       "      <td>0.80888</td>\n",
       "      <td>0.85068</td>\n",
       "      <td>0.84063</td>\n",
       "      <td>0.84867</td>\n",
       "    </tr>\n",
       "    <tr>\n",
       "      <th>test_recall</th>\n",
       "      <td>0.80959</td>\n",
       "      <td>0.84923</td>\n",
       "      <td>0.84121</td>\n",
       "      <td>0.84915</td>\n",
       "    </tr>\n",
       "    <tr>\n",
       "      <th>test_f1</th>\n",
       "      <td>0.80662</td>\n",
       "      <td>0.84938</td>\n",
       "      <td>0.83916</td>\n",
       "      <td>0.84809</td>\n",
       "    </tr>\n",
       "    <tr>\n",
       "      <th>test_kappa_score</th>\n",
       "      <td>0.79796</td>\n",
       "      <td>0.84008</td>\n",
       "      <td>0.83156</td>\n",
       "      <td>0.84001</td>\n",
       "    </tr>\n",
       "  </tbody>\n",
       "</table>\n",
       "</div>"
      ],
      "text/plain": [
       "                  Multinomial Naive Bayes  Logistic Regression  Random Forest  \\\n",
       "fit_time                          0.11877              4.23883      288.73621   \n",
       "score_time                        0.07694              0.08036       13.93747   \n",
       "test_precision                    0.80888              0.85068        0.84063   \n",
       "test_recall                       0.80959              0.84923        0.84121   \n",
       "test_f1                           0.80662              0.84938        0.83916   \n",
       "test_kappa_score                  0.79796              0.84008        0.83156   \n",
       "\n",
       "                      SVC  \n",
       "fit_time          0.52210  \n",
       "score_time        0.11377  \n",
       "test_precision    0.84867  \n",
       "test_recall       0.84915  \n",
       "test_f1           0.84809  \n",
       "test_kappa_score  0.84001  "
      ]
     },
     "execution_count": 55,
     "metadata": {},
     "output_type": "execute_result"
    }
   ],
   "source": [
    "add_cross_val_score('SVC', svm_best, X_train, y_train)"
   ]
  },
  {
   "cell_type": "code",
   "execution_count": 56,
   "metadata": {},
   "outputs": [
    {
     "name": "stdout",
     "output_type": "stream",
     "text": [
      "              precision    recall  f1-score   support\n",
      "\n",
      "     Chinese       0.72      0.67      0.69       190\n",
      "       Irish       0.86      0.92      0.89       196\n",
      "     Spanish       0.85      0.82      0.83       135\n",
      "     Mexican       0.65      0.61      0.63       171\n",
      "   Hungarian       0.71      0.74      0.72       195\n",
      "      German       0.83      0.76      0.79       195\n",
      "     Italian       0.92      0.94      0.93       199\n",
      "      Indian       0.93      0.91      0.92       149\n",
      "    Moroccan       0.84      0.86      0.85       119\n",
      "        Thai       0.94      0.94      0.94       197\n",
      "      French       0.79      0.78      0.79       149\n",
      "    Hawaiian       0.88      0.89      0.88       198\n",
      "       Cuban       0.93      0.92      0.92       193\n",
      "       Greek       0.88      0.87      0.87       196\n",
      "     Swedish       0.90      0.94      0.92       197\n",
      "    Japanese       0.85      0.88      0.86       197\n",
      "     English       0.80      0.80      0.80       107\n",
      "    American       0.93      0.94      0.93       196\n",
      "\n",
      "    accuracy                           0.85      3179\n",
      "   macro avg       0.84      0.84      0.84      3179\n",
      "weighted avg       0.85      0.85      0.85      3179\n",
      "\n"
     ]
    }
   ],
   "source": [
    "print(classification_report(y_test, svm_best.predict(X_test), target_names=labels))"
   ]
  },
  {
   "cell_type": "code",
   "execution_count": 59,
   "metadata": {},
   "outputs": [
    {
     "data": {
      "image/png": "[encoded data removed]",
      "text/plain": [
       "<Figure size 720x720 with 2 Axes>"
      ]
     },
     "metadata": {},
     "output_type": "display_data"
    }
   ],
   "source": [
    "plt.figure(figsize = (10,10))\n",
    "sns.heatmap(add_test_score('Linear SVC', svm_best, X_test, y_test).T, annot = True);"
   ]
  },
  {
   "cell_type": "code",
   "execution_count": null,
   "metadata": {},
   "outputs": [],
   "source": [
    "# save model\n",
    "# with open('../models/cuisine_prediction/svc.pkl', 'wb') as file:   \n",
    "#    pickle.dump(svm_best, file)"
   ]
  }
 ],
 "metadata": {
  "kernelspec": {
   "display_name": "Python 3",
   "language": "python",
   "name": "python3"
  },
  "language_info": {
   "codemirror_mode": {
    "name": "ipython",
    "version": 3
   },
   "file_extension": ".py",
   "mimetype": "text/x-python",
   "name": "python",
   "nbconvert_exporter": "python",
   "pygments_lexer": "ipython3",
   "version": "3.8.5"
  }
 },
 "nbformat": 4,
 "nbformat_minor": 4
}
