{
 "cells": [
  {
   "cell_type": "markdown",
   "metadata": {},
   "source": [
    "# Capstone Project: Recipe Analysis and Classification for Meal Kit Services"
   ]
  },
  {
   "cell_type": "markdown",
   "metadata": {},
   "source": [
    "# Part 5: Ingredients and Recipe Recommendation System"
   ]
  },
  {
   "cell_type": "markdown",
   "metadata": {},
   "source": [
    "For this section, I will explore techniques to find similar or complementary ingredients in my dataset. I will also develop a model that can recommend recipes to a user based on ingredients they have inputted."
   ]
  },
  {
   "cell_type": "markdown",
   "metadata": {},
   "source": [
    "### Contents:\n",
    "1. [Pointwise Mutual Information](#1.-Pointwise-Mutual-Information)\n",
    "2. [Word2Vec](#2.-Word2Vec)\n",
    "3. [TF-IDF Model for Recipe Recommendations](#3.-TF-IDF-model-for-Recipe-Recommendations)"
   ]
  },
  {
   "cell_type": "code",
   "execution_count": 2,
   "metadata": {},
   "outputs": [],
   "source": [
    "import numpy as np\n",
    "import pandas as pd\n",
    "import matplotlib.pyplot as plt\n",
    "import seaborn as sns\n",
    "import pickle\n",
    "import ast\n",
    "import itertools\n",
    "from gensim.models import word2vec\n",
    "\n",
    "import nltk\n",
    "from collections import Counter\n",
    "from scipy.sparse import csr_matrix\n",
    "\n",
    "from sklearn.feature_extraction.text import TfidfVectorizer\n",
    "from sklearn.metrics.pairwise import cosine_similarity\n",
    "from sklearn.decomposition import TruncatedSVD\n",
    "import heapq\n",
    "\n",
    "import pickle"
   ]
  },
  {
   "cell_type": "code",
   "execution_count": 3,
   "metadata": {},
   "outputs": [],
   "source": [
    "import sys  \n",
    "sys.path.insert(0, '../src')\n",
    "import ingredients_parser"
   ]
  },
  {
   "cell_type": "code",
   "execution_count": 5,
   "metadata": {},
   "outputs": [],
   "source": [
    "# import dataset\n",
    "data = pd.read_csv('../data/processed/cleaned_data.csv', sep=',', \n",
    "                   converters={'ingredients':ast.literal_eval,\n",
    "                               'ingredientLines': ast.literal_eval})"
   ]
  },
  {
   "cell_type": "markdown",
   "metadata": {},
   "source": [
    "## 1. Pointwise Mutual Information"
   ]
  },
  {
   "cell_type": "markdown",
   "metadata": {},
   "source": [
    "### 1.1. Ingredient co-occurences"
   ]
  },
  {
   "cell_type": "markdown",
   "metadata": {},
   "source": [
    "- In order to analyze which ingredients are complementary, the first step is to see how often ingredients are mentioned together (ingredient co-occurences)\n",
    "- For this, I will find all the ingredient bigrams and use itertools to find the most frequently occuring bigram pairs"
   ]
  },
  {
   "cell_type": "code",
   "execution_count": 6,
   "metadata": {},
   "outputs": [],
   "source": [
    "cooc_counts = Counter()\n",
    "ing_count  = Counter()\n",
    "for ingredients in data.ingredients:\n",
    "    for ing in ingredients:\n",
    "        ing_count[ing] += 1\n",
    "    for (ing_a, ing_b) in itertools.combinations(set(ingredients), 2):\n",
    "        if ing_a > ing_b:\n",
    "            ing_a, ing_b = ing_b, ing_a\n",
    "        cooc_counts[(ing_a, ing_b)] += 1"
   ]
  },
  {
   "cell_type": "code",
   "execution_count": 7,
   "metadata": {},
   "outputs": [
    {
     "data": {
      "text/plain": [
       "[(('pepper', 'salt'), 8277),\n",
       " (('clove', 'garlic'), 7003),\n",
       " (('onion', 'pepper'), 6912),\n",
       " (('onion', 'salt'), 6826),\n",
       " (('garlic', 'pepper'), 6141),\n",
       " (('garlic', 'salt'), 5993),\n",
       " (('garlic', 'onion'), 5903),\n",
       " (('clove', 'pepper'), 5302),\n",
       " (('clove', 'salt'), 5236),\n",
       " (('clove', 'onion'), 5143)]"
      ]
     },
     "execution_count": 7,
     "metadata": {},
     "output_type": "execute_result"
    }
   ],
   "source": [
    "cooc_counts.most_common(10)"
   ]
  },
  {
   "cell_type": "code",
   "execution_count": 8,
   "metadata": {},
   "outputs": [
    {
     "data": {
      "text/plain": [
       "[('pepper', 10365),\n",
       " ('salt', 10296),\n",
       " ('onion', 9702),\n",
       " ('garlic', 8460),\n",
       " ('clove', 7240),\n",
       " ('olive oil', 5510),\n",
       " ('chicken', 4768),\n",
       " ('tomato', 3981),\n",
       " ('black pepper', 3960),\n",
       " ('water', 3673)]"
      ]
     },
     "execution_count": 8,
     "metadata": {},
     "output_type": "execute_result"
    }
   ],
   "source": [
    "ing_count.most_common(10)"
   ]
  },
  {
   "cell_type": "markdown",
   "metadata": {},
   "source": [
    "- The most common ingredient pairs are between peoper/salt/garlic/onion/clove\n",
    "- However, these are also some of the most common ingredients therefore it is hard to assess whether these co-occurences are meaningful, or if it is only because these ingredients show up so frequently even alone"
   ]
  },
  {
   "cell_type": "code",
   "execution_count": 12,
   "metadata": {},
   "outputs": [
    {
     "data": {
      "text/html": [
       "<div>\n",
       "<style scoped>\n",
       "    .dataframe tbody tr th:only-of-type {\n",
       "        vertical-align: middle;\n",
       "    }\n",
       "\n",
       "    .dataframe tbody tr th {\n",
       "        vertical-align: top;\n",
       "    }\n",
       "\n",
       "    .dataframe thead th {\n",
       "        text-align: right;\n",
       "    }\n",
       "</style>\n",
       "<table border=\"1\" class=\"dataframe\">\n",
       "  <thead>\n",
       "    <tr style=\"text-align: right;\">\n",
       "      <th></th>\n",
       "      <th>a</th>\n",
       "      <th>b</th>\n",
       "      <th>a_count</th>\n",
       "      <th>b_count</th>\n",
       "      <th>cooc</th>\n",
       "    </tr>\n",
       "  </thead>\n",
       "  <tbody>\n",
       "    <tr>\n",
       "      <th>0</th>\n",
       "      <td>hoisin sauce</td>\n",
       "      <td>star anise</td>\n",
       "      <td>172</td>\n",
       "      <td>94</td>\n",
       "      <td>4</td>\n",
       "    </tr>\n",
       "    <tr>\n",
       "      <th>1</th>\n",
       "      <td>pineapple</td>\n",
       "      <td>star anise</td>\n",
       "      <td>782</td>\n",
       "      <td>94</td>\n",
       "      <td>2</td>\n",
       "    </tr>\n",
       "    <tr>\n",
       "      <th>2</th>\n",
       "      <td>spice</td>\n",
       "      <td>star anise</td>\n",
       "      <td>421</td>\n",
       "      <td>94</td>\n",
       "      <td>14</td>\n",
       "    </tr>\n",
       "    <tr>\n",
       "      <th>3</th>\n",
       "      <td>honey</td>\n",
       "      <td>star anise</td>\n",
       "      <td>764</td>\n",
       "      <td>94</td>\n",
       "      <td>11</td>\n",
       "    </tr>\n",
       "    <tr>\n",
       "      <th>4</th>\n",
       "      <td>star anise</td>\n",
       "      <td>water</td>\n",
       "      <td>94</td>\n",
       "      <td>3673</td>\n",
       "      <td>45</td>\n",
       "    </tr>\n",
       "  </tbody>\n",
       "</table>\n",
       "</div>"
      ],
      "text/plain": [
       "              a           b  a_count  b_count  cooc\n",
       "0  hoisin sauce  star anise      172       94     4\n",
       "1     pineapple  star anise      782       94     2\n",
       "2         spice  star anise      421       94    14\n",
       "3         honey  star anise      764       94    11\n",
       "4    star anise       water       94     3673    45"
      ]
     },
     "execution_count": 12,
     "metadata": {},
     "output_type": "execute_result"
    }
   ],
   "source": [
    "cooc_df = pd.DataFrame(((ing_a, ing_b, ing_count[ing_a], ing_count[ing_b], cooc) for (ing_a, ing_b), cooc in cooc_counts.items()), columns=['a', 'b', 'a_count', 'b_count', 'cooc'])\n",
    "cooc_df.head()"
   ]
  },
  {
   "cell_type": "markdown",
   "metadata": {},
   "source": [
    "### 1.2. Pointwise Mutual Information"
   ]
  },
  {
   "attachments": {
    "image.png": {
     "image/png": "[encoded data removed]"
    }
   },
   "cell_type": "markdown",
   "metadata": {},
   "source": [
    "* In order to assess whether the ingredient cooccurences are meaningful, I will use Pointwise Mutual Information criterion\n",
    "* In PMI, we can quantify the likelihood of co-occurence of two ingredients while taking into account that fact that it might be caused by the frequency of the single ingredients. The formula to calculate PMI computes the log probability of co-occurence scaled by the product of the single probability of occurence. More information on PMI can be found [here](https://medium.com/dataseries/understanding-pointwise-mutual-information-in-nlp-e4ef75ecb57a): \n",
    "![image.png](attachment:image.png)"
   ]
  },
  {
   "cell_type": "code",
   "execution_count": 13,
   "metadata": {},
   "outputs": [],
   "source": [
    "# P(A) is count(A)/number of recipes\n",
    "# P(B) is count(B)/number of recipes\n",
    "# P(A,B) is cooc(A,B)/number of cooc\n",
    "\n",
    "p_a = cooc_df.a_count / sum(ing_count.values())\n",
    "p_b = cooc_df.b_count / len(ing_count.values())\n",
    "p_a_b = cooc_df.cooc / cooc_df.cooc.sum()\n",
    "cooc_df['pmi'] = np.log(p_a_b / (p_a * p_b))"
   ]
  },
  {
   "cell_type": "code",
   "execution_count": 15,
   "metadata": {},
   "outputs": [
    {
     "data": {
      "text/html": [
       "<div>\n",
       "<style scoped>\n",
       "    .dataframe tbody tr th:only-of-type {\n",
       "        vertical-align: middle;\n",
       "    }\n",
       "\n",
       "    .dataframe tbody tr th {\n",
       "        vertical-align: top;\n",
       "    }\n",
       "\n",
       "    .dataframe thead th {\n",
       "        text-align: right;\n",
       "    }\n",
       "</style>\n",
       "<table border=\"1\" class=\"dataframe\">\n",
       "  <thead>\n",
       "    <tr style=\"text-align: right;\">\n",
       "      <th></th>\n",
       "      <th>a</th>\n",
       "      <th>b</th>\n",
       "      <th>a_count</th>\n",
       "      <th>b_count</th>\n",
       "      <th>cooc</th>\n",
       "      <th>pmi</th>\n",
       "    </tr>\n",
       "  </thead>\n",
       "  <tbody>\n",
       "    <tr>\n",
       "      <th>53809</th>\n",
       "      <td>cane syrup</td>\n",
       "      <td>satsuma</td>\n",
       "      <td>1</td>\n",
       "      <td>1</td>\n",
       "      <td>1</td>\n",
       "      <td>4.620455</td>\n",
       "    </tr>\n",
       "    <tr>\n",
       "      <th>30294</th>\n",
       "      <td>clementine</td>\n",
       "      <td>mandarine</td>\n",
       "      <td>2</td>\n",
       "      <td>1</td>\n",
       "      <td>1</td>\n",
       "      <td>3.927308</td>\n",
       "    </tr>\n",
       "    <tr>\n",
       "      <th>30282</th>\n",
       "      <td>cointreau</td>\n",
       "      <td>mandarine</td>\n",
       "      <td>2</td>\n",
       "      <td>1</td>\n",
       "      <td>1</td>\n",
       "      <td>3.927308</td>\n",
       "    </tr>\n",
       "    <tr>\n",
       "      <th>57955</th>\n",
       "      <td>durum wheat</td>\n",
       "      <td>sparkling water</td>\n",
       "      <td>1</td>\n",
       "      <td>3</td>\n",
       "      <td>1</td>\n",
       "      <td>3.521842</td>\n",
       "    </tr>\n",
       "    <tr>\n",
       "      <th>52391</th>\n",
       "      <td>dungeness crab</td>\n",
       "      <td>shellfish stock</td>\n",
       "      <td>3</td>\n",
       "      <td>1</td>\n",
       "      <td>1</td>\n",
       "      <td>3.521842</td>\n",
       "    </tr>\n",
       "    <tr>\n",
       "      <th>54458</th>\n",
       "      <td>jerusalem artichoke</td>\n",
       "      <td>sunchoke</td>\n",
       "      <td>1</td>\n",
       "      <td>3</td>\n",
       "      <td>1</td>\n",
       "      <td>3.521842</td>\n",
       "    </tr>\n",
       "    <tr>\n",
       "      <th>8915</th>\n",
       "      <td>comt cheese</td>\n",
       "      <td>ramp</td>\n",
       "      <td>1</td>\n",
       "      <td>4</td>\n",
       "      <td>1</td>\n",
       "      <td>3.234160</td>\n",
       "    </tr>\n",
       "    <tr>\n",
       "      <th>56313</th>\n",
       "      <td>honeydew</td>\n",
       "      <td>melon</td>\n",
       "      <td>1</td>\n",
       "      <td>4</td>\n",
       "      <td>1</td>\n",
       "      <td>3.234160</td>\n",
       "    </tr>\n",
       "    <tr>\n",
       "      <th>32940</th>\n",
       "      <td>frise</td>\n",
       "      <td>hazelnut oil</td>\n",
       "      <td>4</td>\n",
       "      <td>1</td>\n",
       "      <td>1</td>\n",
       "      <td>3.234160</td>\n",
       "    </tr>\n",
       "    <tr>\n",
       "      <th>43732</th>\n",
       "      <td>cantaloupe</td>\n",
       "      <td>melon</td>\n",
       "      <td>1</td>\n",
       "      <td>4</td>\n",
       "      <td>1</td>\n",
       "      <td>3.234160</td>\n",
       "    </tr>\n",
       "  </tbody>\n",
       "</table>\n",
       "</div>"
      ],
      "text/plain": [
       "                         a                b  a_count  b_count  cooc       pmi\n",
       "53809           cane syrup          satsuma        1        1     1  4.620455\n",
       "30294           clementine        mandarine        2        1     1  3.927308\n",
       "30282            cointreau        mandarine        2        1     1  3.927308\n",
       "57955          durum wheat  sparkling water        1        3     1  3.521842\n",
       "52391       dungeness crab  shellfish stock        3        1     1  3.521842\n",
       "54458  jerusalem artichoke         sunchoke        1        3     1  3.521842\n",
       "8915           comt cheese             ramp        1        4     1  3.234160\n",
       "56313             honeydew            melon        1        4     1  3.234160\n",
       "32940                frise     hazelnut oil        4        1     1  3.234160\n",
       "43732           cantaloupe            melon        1        4     1  3.234160"
      ]
     },
     "execution_count": 15,
     "metadata": {},
     "output_type": "execute_result"
    }
   ],
   "source": [
    "cooc_df.sort_values(by='pmi', ascending = False).head(10)"
   ]
  },
  {
   "cell_type": "markdown",
   "metadata": {},
   "source": [
    "- The ingredient pairings with the highest PMI scores occur very infrequently overall - let's look at ingredients that occur at least 30 times in the dataset for better results"
   ]
  },
  {
   "cell_type": "code",
   "execution_count": 22,
   "metadata": {},
   "outputs": [
    {
     "data": {
      "text/html": [
       "<div>\n",
       "<style scoped>\n",
       "    .dataframe tbody tr th:only-of-type {\n",
       "        vertical-align: middle;\n",
       "    }\n",
       "\n",
       "    .dataframe tbody tr th {\n",
       "        vertical-align: top;\n",
       "    }\n",
       "\n",
       "    .dataframe thead th {\n",
       "        text-align: right;\n",
       "    }\n",
       "</style>\n",
       "<table border=\"1\" class=\"dataframe\">\n",
       "  <thead>\n",
       "    <tr style=\"text-align: right;\">\n",
       "      <th></th>\n",
       "      <th>a</th>\n",
       "      <th>b</th>\n",
       "      <th>a_count</th>\n",
       "      <th>b_count</th>\n",
       "      <th>cooc</th>\n",
       "      <th>pmi</th>\n",
       "    </tr>\n",
       "  </thead>\n",
       "  <tbody>\n",
       "    <tr>\n",
       "      <th>22338</th>\n",
       "      <td>pickled ginger</td>\n",
       "      <td>wasabi</td>\n",
       "      <td>40</td>\n",
       "      <td>60</td>\n",
       "      <td>15</td>\n",
       "      <td>-0.454719</td>\n",
       "    </tr>\n",
       "    <tr>\n",
       "      <th>33523</th>\n",
       "      <td>oat</td>\n",
       "      <td>pinot noir</td>\n",
       "      <td>38</td>\n",
       "      <td>34</td>\n",
       "      <td>8</td>\n",
       "      <td>-0.464050</td>\n",
       "    </tr>\n",
       "    <tr>\n",
       "      <th>22339</th>\n",
       "      <td>sushi rice</td>\n",
       "      <td>wasabi</td>\n",
       "      <td>38</td>\n",
       "      <td>60</td>\n",
       "      <td>13</td>\n",
       "      <td>-0.546527</td>\n",
       "    </tr>\n",
       "    <tr>\n",
       "      <th>17115</th>\n",
       "      <td>haddock</td>\n",
       "      <td>malt vinegar</td>\n",
       "      <td>39</td>\n",
       "      <td>30</td>\n",
       "      <td>6</td>\n",
       "      <td>-0.652545</td>\n",
       "    </tr>\n",
       "    <tr>\n",
       "      <th>15009</th>\n",
       "      <td>goat</td>\n",
       "      <td>goat cheese</td>\n",
       "      <td>37</td>\n",
       "      <td>67</td>\n",
       "      <td>12</td>\n",
       "      <td>-0.710249</td>\n",
       "    </tr>\n",
       "    <tr>\n",
       "      <th>3995</th>\n",
       "      <td>enchilada</td>\n",
       "      <td>enchilada sauce</td>\n",
       "      <td>54</td>\n",
       "      <td>192</td>\n",
       "      <td>50</td>\n",
       "      <td>-0.714002</td>\n",
       "    </tr>\n",
       "    <tr>\n",
       "      <th>5595</th>\n",
       "      <td>pecorino</td>\n",
       "      <td>romano cheese</td>\n",
       "      <td>60</td>\n",
       "      <td>47</td>\n",
       "      <td>13</td>\n",
       "      <td>-0.759088</td>\n",
       "    </tr>\n",
       "    <tr>\n",
       "      <th>17208</th>\n",
       "      <td>lasagna</td>\n",
       "      <td>ricotta cheese</td>\n",
       "      <td>85</td>\n",
       "      <td>141</td>\n",
       "      <td>54</td>\n",
       "      <td>-0.781972</td>\n",
       "    </tr>\n",
       "    <tr>\n",
       "      <th>193</th>\n",
       "      <td>rutabaga</td>\n",
       "      <td>turnip</td>\n",
       "      <td>30</td>\n",
       "      <td>92</td>\n",
       "      <td>12</td>\n",
       "      <td>-0.817625</td>\n",
       "    </tr>\n",
       "    <tr>\n",
       "      <th>7757</th>\n",
       "      <td>blue cheese</td>\n",
       "      <td>stilton</td>\n",
       "      <td>44</td>\n",
       "      <td>77</td>\n",
       "      <td>14</td>\n",
       "      <td>-0.868483</td>\n",
       "    </tr>\n",
       "  </tbody>\n",
       "</table>\n",
       "</div>"
      ],
      "text/plain": [
       "                    a                b  a_count  b_count  cooc       pmi\n",
       "22338  pickled ginger           wasabi       40       60    15 -0.454719\n",
       "33523             oat       pinot noir       38       34     8 -0.464050\n",
       "22339      sushi rice           wasabi       38       60    13 -0.546527\n",
       "17115         haddock     malt vinegar       39       30     6 -0.652545\n",
       "15009            goat      goat cheese       37       67    12 -0.710249\n",
       "3995        enchilada  enchilada sauce       54      192    50 -0.714002\n",
       "5595         pecorino    romano cheese       60       47    13 -0.759088\n",
       "17208         lasagna   ricotta cheese       85      141    54 -0.781972\n",
       "193          rutabaga           turnip       30       92    12 -0.817625\n",
       "7757      blue cheese          stilton       44       77    14 -0.868483"
      ]
     },
     "execution_count": 22,
     "metadata": {},
     "output_type": "execute_result"
    }
   ],
   "source": [
    "min_count = 30\n",
    "cooc_df[(cooc_df.a_count >= min_count) & (cooc_df.b_count >= min_count)].sort_values('pmi', ascending=False).head(10)"
   ]
  },
  {
   "cell_type": "markdown",
   "metadata": {},
   "source": [
    "- If we only look at ingredients that occur at least 30 times in the data set, the pairing with the highest PMI is pickled ginger and wasabi (which does make sense as this is a common pairing in Japanese meals)"
   ]
  },
  {
   "cell_type": "code",
   "execution_count": 24,
   "metadata": {},
   "outputs": [
    {
     "data": {
      "text/html": [
       "<div>\n",
       "<style scoped>\n",
       "    .dataframe tbody tr th:only-of-type {\n",
       "        vertical-align: middle;\n",
       "    }\n",
       "\n",
       "    .dataframe tbody tr th {\n",
       "        vertical-align: top;\n",
       "    }\n",
       "\n",
       "    .dataframe thead th {\n",
       "        text-align: right;\n",
       "    }\n",
       "</style>\n",
       "<table border=\"1\" class=\"dataframe\">\n",
       "  <thead>\n",
       "    <tr style=\"text-align: right;\">\n",
       "      <th></th>\n",
       "      <th>a</th>\n",
       "      <th>b</th>\n",
       "      <th>a_count</th>\n",
       "      <th>b_count</th>\n",
       "      <th>cooc</th>\n",
       "      <th>pmi</th>\n",
       "    </tr>\n",
       "  </thead>\n",
       "  <tbody>\n",
       "    <tr>\n",
       "      <th>12293</th>\n",
       "      <td>cheese</td>\n",
       "      <td>fish sauce</td>\n",
       "      <td>3059</td>\n",
       "      <td>709</td>\n",
       "      <td>2</td>\n",
       "      <td>-9.276097</td>\n",
       "    </tr>\n",
       "    <tr>\n",
       "      <th>44259</th>\n",
       "      <td>cheese</td>\n",
       "      <td>mirin</td>\n",
       "      <td>3059</td>\n",
       "      <td>596</td>\n",
       "      <td>2</td>\n",
       "      <td>-9.102482</td>\n",
       "    </tr>\n",
       "    <tr>\n",
       "      <th>31927</th>\n",
       "      <td>ginger</td>\n",
       "      <td>parmesan cheese</td>\n",
       "      <td>3049</td>\n",
       "      <td>764</td>\n",
       "      <td>3</td>\n",
       "      <td>-8.942070</td>\n",
       "    </tr>\n",
       "    <tr>\n",
       "      <th>28210</th>\n",
       "      <td>cumin</td>\n",
       "      <td>mirin</td>\n",
       "      <td>2438</td>\n",
       "      <td>596</td>\n",
       "      <td>2</td>\n",
       "      <td>-8.875572</td>\n",
       "    </tr>\n",
       "    <tr>\n",
       "      <th>15525</th>\n",
       "      <td>bay leaf</td>\n",
       "      <td>sesame oil</td>\n",
       "      <td>1497</td>\n",
       "      <td>868</td>\n",
       "      <td>2</td>\n",
       "      <td>-8.763808</td>\n",
       "    </tr>\n",
       "    <tr>\n",
       "      <th>22315</th>\n",
       "      <td>chorizo</td>\n",
       "      <td>soy sauce</td>\n",
       "      <td>445</td>\n",
       "      <td>2444</td>\n",
       "      <td>2</td>\n",
       "      <td>-8.585864</td>\n",
       "    </tr>\n",
       "    <tr>\n",
       "      <th>43250</th>\n",
       "      <td>sauerkraut</td>\n",
       "      <td>soy sauce</td>\n",
       "      <td>389</td>\n",
       "      <td>2444</td>\n",
       "      <td>2</td>\n",
       "      <td>-8.451369</td>\n",
       "    </tr>\n",
       "    <tr>\n",
       "      <th>49228</th>\n",
       "      <td>mozzarella cheese</td>\n",
       "      <td>soy sauce</td>\n",
       "      <td>576</td>\n",
       "      <td>2444</td>\n",
       "      <td>3</td>\n",
       "      <td>-8.438432</td>\n",
       "    </tr>\n",
       "    <tr>\n",
       "      <th>22134</th>\n",
       "      <td>parmesan cheese</td>\n",
       "      <td>soy sauce</td>\n",
       "      <td>764</td>\n",
       "      <td>2444</td>\n",
       "      <td>4</td>\n",
       "      <td>-8.433210</td>\n",
       "    </tr>\n",
       "    <tr>\n",
       "      <th>21111</th>\n",
       "      <td>chorizo</td>\n",
       "      <td>ginger</td>\n",
       "      <td>445</td>\n",
       "      <td>3049</td>\n",
       "      <td>3</td>\n",
       "      <td>-8.401576</td>\n",
       "    </tr>\n",
       "  </tbody>\n",
       "</table>\n",
       "</div>"
      ],
      "text/plain": [
       "                       a                b  a_count  b_count  cooc       pmi\n",
       "12293             cheese       fish sauce     3059      709     2 -9.276097\n",
       "44259             cheese            mirin     3059      596     2 -9.102482\n",
       "31927             ginger  parmesan cheese     3049      764     3 -8.942070\n",
       "28210              cumin            mirin     2438      596     2 -8.875572\n",
       "15525           bay leaf       sesame oil     1497      868     2 -8.763808\n",
       "22315            chorizo        soy sauce      445     2444     2 -8.585864\n",
       "43250         sauerkraut        soy sauce      389     2444     2 -8.451369\n",
       "49228  mozzarella cheese        soy sauce      576     2444     3 -8.438432\n",
       "22134    parmesan cheese        soy sauce      764     2444     4 -8.433210\n",
       "21111            chorizo           ginger      445     3049     3 -8.401576"
      ]
     },
     "execution_count": 24,
     "metadata": {},
     "output_type": "execute_result"
    }
   ],
   "source": [
    "min_count = 30\n",
    "cooc_df[(cooc_df.a_count >= min_count) & (cooc_df.b_count >= min_count) & (cooc_df.cooc > 1)].sort_values('pmi', ascending=True).head(10)"
   ]
  },
  {
   "cell_type": "markdown",
   "metadata": {},
   "source": [
    "- If we look at the ingredient pairings with the worst PMI scores, many are cheeses with soy sauce or fish sauce which do seem like ingredients that would not be found in many recipes together"
   ]
  },
  {
   "cell_type": "markdown",
   "metadata": {},
   "source": [
    "### 1.3 Matrix Factorization"
   ]
  },
  {
   "cell_type": "markdown",
   "metadata": {},
   "source": [
    "- In order to display the top 10 most complementary ingredients based on the PMI  I will first create a sparse matrix with PMI values for all ingredient combinations\n",
    "- I will then use truncated SVD to reduce the number of features\n",
    "- Lastly, I will use cosine similarity, which calculates the similarity between two vectors by taking the cosine of the angle between them.\n",
    "- I will create a function that uses cosine similarity to find the similarity between the SVD vector of a particular ingredient and every other ingredient in the matrix, and return the ingredients with the highest similarity"
   ]
  },
  {
   "cell_type": "code",
   "execution_count": 34,
   "metadata": {},
   "outputs": [],
   "source": [
    "# duplicate, inverse and concatenate the cooc dataframe so all ingredients will exist in column a\n",
    "\n",
    "# create copy\n",
    "cooc_df_t = cooc_df.copy()\n",
    "\n",
    "# invert data\n",
    "cooc_df_t['a'] = cooc_df['b']\n",
    "cooc_df_t['a_count'] = cooc_df['b_count']\n",
    "cooc_df_t['b'] = cooc_df['a']\n",
    "cooc_df_t['b_count'] = cooc_df['a_count']\n",
    "\n",
    "# concatenate \n",
    "data_df = pd.concat([cooc_df, cooc_df_t])"
   ]
  },
  {
   "cell_type": "code",
   "execution_count": 35,
   "metadata": {},
   "outputs": [],
   "source": [
    "# create a sparse matrix with PMI values for all ingredient combinations\n",
    "rows_idx, row_keys = pd.factorize(data_df.a)\n",
    "cols_idx, col_keys = pd.factorize(data_df.b)\n",
    "values = data_df.pmi\n",
    "\n",
    "matrix = csr_matrix((values, (rows_idx, cols_idx)))\n",
    "key_to_row = {key: idx for idx, key in enumerate(row_keys)}"
   ]
  },
  {
   "cell_type": "markdown",
   "metadata": {},
   "source": [
    "* The singular-value decomposition/ SVD is a dimension reduction technique for matrices that reduces the matrix into its component.\n",
    "* SVD is a popular method for dimensionality reduction that works well with sparse data\n",
    "* Truncated SVD will produce a matrices with the specified number of columns, which means that it will drop off all features except the number of features provided (200 in my case)"
   ]
  },
  {
   "cell_type": "code",
   "execution_count": 36,
   "metadata": {},
   "outputs": [],
   "source": [
    "svd = TruncatedSVD(200)\n",
    "factors = svd.fit_transform(matrix)"
   ]
  },
  {
   "cell_type": "code",
   "execution_count": 39,
   "metadata": {},
   "outputs": [],
   "source": [
    "def most_complementary(ingredient, topn=10):\n",
    "    if ingredient not in key_to_row:\n",
    "        print(\"Unknown ingredient.\")\n",
    "    factor = factors[key_to_row[ingredient]]\n",
    "    cosines = cosine_similarity([factor], factors)[0]\n",
    "    indices = cosines.argsort()[::-1][:topn + 1]\n",
    "    keys = [row_keys[idx] for idx in indices if idx != key_to_row[ingredient]]\n",
    "    return keys, cosines[indices]\n",
    "\n",
    "def display_most_complementary(ingredient, topn=10):\n",
    "    print(\"- Most complementary to '{}'\".format(ingredient))\n",
    "    for similar_ing, score in zip(*most_complementary(ingredient, topn)):\n",
    "        print(\"  . {} : {:.2f}\".format(similar_ing, score)) "
   ]
  },
  {
   "cell_type": "code",
   "execution_count": 40,
   "metadata": {},
   "outputs": [
    {
     "name": "stdout",
     "output_type": "stream",
     "text": [
      "- Most complementary to 'pasta'\n",
      "  . wheat : 1.00\n",
      "  . hot sauce : 0.85\n",
      "  . cauliflower : 0.82\n",
      "  . jalapeno : 0.82\n",
      "  . spinach : 0.82\n",
      "  . tomato sauce : 0.82\n",
      "  . sausage : 0.81\n",
      "  . garlic powder : 0.81\n",
      "  . zucchini : 0.81\n",
      "  . bun : 0.81\n"
     ]
    }
   ],
   "source": [
    "display_most_complementary('pasta')"
   ]
  },
  {
   "cell_type": "code",
   "execution_count": 42,
   "metadata": {},
   "outputs": [
    {
     "name": "stdout",
     "output_type": "stream",
     "text": [
      "- Most complementary to 'garlic'\n",
      "  . clove : 1.00\n",
      "  . onion : 1.00\n",
      "  . pepper : 0.99\n",
      "  . salt : 0.98\n",
      "  . olive oil : 0.98\n",
      "  . black pepper : 0.95\n",
      "  . chicken : 0.95\n",
      "  . water : 0.93\n",
      "  . tomato : 0.93\n",
      "  . butter : 0.92\n"
     ]
    }
   ],
   "source": [
    "display_most_complementary('garlic')"
   ]
  },
  {
   "cell_type": "code",
   "execution_count": 43,
   "metadata": {},
   "outputs": [
    {
     "name": "stdout",
     "output_type": "stream",
     "text": [
      "- Most complementary to 'tomato'\n",
      "  . black pepper : 1.00\n",
      "  . onion : 0.93\n",
      "  . clove : 0.92\n",
      "  . olive oil : 0.92\n",
      "  . lemon : 0.92\n",
      "  . garlic : 0.92\n",
      "  . water : 0.92\n",
      "  . chicken : 0.91\n",
      "  . pepper : 0.91\n",
      "  . butter : 0.90\n"
     ]
    }
   ],
   "source": [
    "display_most_complementary('tomato')"
   ]
  },
  {
   "cell_type": "markdown",
   "metadata": {},
   "source": [
    "## 2. Word2Vec "
   ]
  },
  {
   "cell_type": "markdown",
   "metadata": {},
   "source": [
    "- Another method to find similar ingredients is using Word2vec\n",
    "- Word2vec is an algorithm that uses recurrent neural networks to learn the relationship between words using the context (or neighboring words), and encodes these relationships in a vector. We can cluster words and do operations based on these vectors"
   ]
  },
  {
   "cell_type": "code",
   "execution_count": 44,
   "metadata": {},
   "outputs": [],
   "source": [
    "num_features = 300   # Word vector dimensionality                      \n",
    "context = 1        # Context window size; \n",
    "downsampling = 1e-3   # threshold for configuring which higher-frequency words are randomly downsampled\n",
    "\n",
    "# Initialize and train the model \n",
    "model = word2vec.Word2Vec(data.ingredients, vector_size=num_features, window = context, sample = downsampling)\n"
   ]
  },
  {
   "cell_type": "code",
   "execution_count": 45,
   "metadata": {},
   "outputs": [],
   "source": [
    "def flatten(t):\n",
    "    return [item for sublist in t for item in sublist]"
   ]
  },
  {
   "cell_type": "code",
   "execution_count": 46,
   "metadata": {},
   "outputs": [],
   "source": [
    "all_ingredients = flatten(data.ingredients)"
   ]
  },
  {
   "cell_type": "code",
   "execution_count": 47,
   "metadata": {},
   "outputs": [],
   "source": [
    "all_ingredients = list(set(all_ingredients))"
   ]
  },
  {
   "cell_type": "code",
   "execution_count": 48,
   "metadata": {},
   "outputs": [],
   "source": [
    "most_sim_list = []\n",
    "corpus_sim_dict = {}\n",
    "input_list = []\n",
    "for i in all_ingredients:\n",
    "    try:\n",
    "        corpus_sim_dict.update({i:model.wv.most_similar(i)})\n",
    "    except KeyError:\n",
    "        pass"
   ]
  },
  {
   "cell_type": "code",
   "execution_count": 49,
   "metadata": {},
   "outputs": [],
   "source": [
    "sim_df = pd.DataFrame([])\n",
    "for key,value in corpus_sim_dict.items():\n",
    "    for i in value:\n",
    "        sim_df = sim_df.append(pd.DataFrame({'Ingredient': key, 'Similar Ingredient':i[0],'Word2Vec Value': i[1]}, index=[0]), ignore_index=True)"
   ]
  },
  {
   "cell_type": "code",
   "execution_count": 50,
   "metadata": {},
   "outputs": [
    {
     "data": {
      "text/plain": [
       "[('penne', 0.9345084428787231),\n",
       " ('spaghetti', 0.9250423312187195),\n",
       " ('marinara sauce', 0.9235700964927673),\n",
       " ('parmesan cheese', 0.8968974351882935),\n",
       " ('ricotta', 0.8952025175094604),\n",
       " ('grape', 0.8798729777336121),\n",
       " ('cottage cheese', 0.853447437286377),\n",
       " ('tomato sauce', 0.8496817350387573),\n",
       " ('pizza sauce', 0.8482288122177124),\n",
       " ('pecorino', 0.8398560881614685)]"
      ]
     },
     "execution_count": 50,
     "metadata": {},
     "output_type": "execute_result"
    }
   ],
   "source": [
    "model.wv.most_similar('pasta')"
   ]
  },
  {
   "cell_type": "code",
   "execution_count": 51,
   "metadata": {},
   "outputs": [
    {
     "data": {
      "text/plain": [
       "[('bell pepper', 0.7892811894416809),\n",
       " ('vegetable oil', 0.757842481136322),\n",
       " ('cod', 0.7538741827011108),\n",
       " ('cashew', 0.7232766151428223),\n",
       " ('tahini', 0.7214565873146057),\n",
       " ('prune', 0.7179772853851318),\n",
       " ('mussel', 0.7147061228752136),\n",
       " ('pumpkin', 0.707627534866333),\n",
       " ('galangal', 0.6998398303985596),\n",
       " ('lemon', 0.6978022456169128)]"
      ]
     },
     "execution_count": 51,
     "metadata": {},
     "output_type": "execute_result"
    }
   ],
   "source": [
    "model.wv.most_similar('garlic')"
   ]
  },
  {
   "cell_type": "code",
   "execution_count": 52,
   "metadata": {},
   "outputs": [
    {
     "data": {
      "text/plain": [
       "[('kosher salt', 0.8461099863052368),\n",
       " ('kale', 0.8244799971580505),\n",
       " ('grape', 0.7872694134712219),\n",
       " ('kidney bean', 0.7862275242805481),\n",
       " ('artichoke', 0.773651123046875),\n",
       " ('bomba rice', 0.7654609680175781),\n",
       " ('andouille sausage', 0.7566682696342468),\n",
       " ('tilapia', 0.7312453985214233),\n",
       " ('jalapeno', 0.7257533669471741),\n",
       " ('scallop', 0.715468168258667)]"
      ]
     },
     "execution_count": 52,
     "metadata": {},
     "output_type": "execute_result"
    }
   ],
   "source": [
    "model.wv.most_similar('tomato')"
   ]
  },
  {
   "cell_type": "code",
   "execution_count": 53,
   "metadata": {},
   "outputs": [
    {
     "data": {
      "text/plain": [
       "[('halibut', 0.8599970936775208),\n",
       " ('cauliflower', 0.8528781533241272),\n",
       " ('cilantro', 0.8497830033302307),\n",
       " ('capsicum', 0.8228902816772461),\n",
       " ('mushroom', 0.8111796975135803),\n",
       " ('pork loin', 0.8041980266571045),\n",
       " ('orange', 0.8040165305137634),\n",
       " ('radish', 0.7995124459266663),\n",
       " ('mung bean', 0.7959045767784119),\n",
       " ('sesame oil', 0.792885422706604)]"
      ]
     },
     "execution_count": 53,
     "metadata": {},
     "output_type": "execute_result"
    }
   ],
   "source": [
    "model.wv.most_similar('white rice')"
   ]
  },
  {
   "cell_type": "markdown",
   "metadata": {},
   "source": [
    "## 3. TF-IDF model for Recipe Recommendations"
   ]
  },
  {
   "cell_type": "markdown",
   "metadata": {},
   "source": [
    "* For this section, I will create a model that provides a user with recipe suggestions based on ingredients inputted. This model will be deployed as a telgram bot\n",
    "* I will used TF-IDF to vectorize the list of ingredients, and fit the TF-IDF vectorizer on the new list of ingredients the user provides\n",
    "* I will then calculate the cosine similarity between the TF-IDF vector of user-inputted ingredients and the vector for every recipe in the dataset, and return the recipes with the top 5 highest cosine similarities\n",
    "* By using TF-IDF, the recipes suggested should be more sensitive to ingredients that appear less commonly across all recipes (i.e. if a user inputs pepper and wasabi, the recipes generated should contain wasabi moreso than pepper which is a very common ingredient)"
   ]
  },
  {
   "cell_type": "code",
   "execution_count": 54,
   "metadata": {},
   "outputs": [],
   "source": [
    "data['ingredients_parsed'] = data['ingredients'].apply(lambda x: ' '.join(x).lower())\n",
    "\n",
    "tvec = TfidfVectorizer(binary=True, max_df = .95)\n",
    "tvec.fit(data.ingredients_parsed.tolist())\n",
    "tvec_recipe = tvec.transform(data['ingredients_parsed'])\n",
    "\n",
    "# save the tfidf model and encodings\n",
    "with open('../models/recipe_recommender/tvec.pkl', \"wb\") as f:\n",
    "    pickle.dump(tvec, f)\n",
    "with open('../models/recipe_recommender/tvec_recipe.pkl', \"wb\") as f:\n",
    "     pickle.dump(tvec_recipe, f)"
   ]
  },
  {
   "cell_type": "code",
   "execution_count": 55,
   "metadata": {},
   "outputs": [],
   "source": [
    "def get_recipes(input_ingredients):\n",
    "    with open('../models/recipe_recommender/tvec_recipe.pkl', 'rb') as f:\n",
    "        tvec_encodings = pickle.load(f)\n",
    "    \n",
    "    with open('../models/recipe_recommender/tvec.pkl', \"rb\") as f:\n",
    "        tvec = pickle.load(f)\n",
    "    \n",
    "    input_ingredients = [' '.join(ingredients_parser.clean_ingredients(input_ingredients))]\n",
    "    ingredients_tfidf = tvec.transform(input_ingredients)\n",
    "    \n",
    "    #generate cosine similarties\n",
    "    cos_sim = map(lambda x: cosine_similarity(ingredients_tfidf, x), tvec_encodings)\n",
    "    scores = list(cos_sim)\n",
    "    \n",
    "    #index for top 5 recipes\n",
    "    top = sorted(range(len(scores)), key=lambda i: scores[i], reverse=True)[:5]\n",
    "    \n",
    "    #dataframe to input top 5 recipes\n",
    "    recommendation = pd.DataFrame(columns = ['recipe', 'ingredients', 'score', 'source', 'cuisine'])\n",
    "    \n",
    "    #populate dataframe from index\n",
    "    count = 0\n",
    "    for i in top:\n",
    "        recommendation.at[count, 'recipe'] = data.name[i]\n",
    "        recommendation.at[count, 'cuisine'] = data.cuisine[i]\n",
    "        recommendation.at[count, 'ingredients'] = data.ingredientLines[i]\n",
    "        recommendation.at[count, 'source'] = data.source[i]\n",
    "        recommendation.at[count, 'score'] = \"{:.3f}\".format(float(scores[i]))\n",
    "        count += 1\n",
    "    \n",
    "    #return dataframe\n",
    "    return recommendation"
   ]
  },
  {
   "cell_type": "code",
   "execution_count": 56,
   "metadata": {},
   "outputs": [
    {
     "data": {
      "text/html": [
       "<div>\n",
       "<style scoped>\n",
       "    .dataframe tbody tr th:only-of-type {\n",
       "        vertical-align: middle;\n",
       "    }\n",
       "\n",
       "    .dataframe tbody tr th {\n",
       "        vertical-align: top;\n",
       "    }\n",
       "\n",
       "    .dataframe thead th {\n",
       "        text-align: right;\n",
       "    }\n",
       "</style>\n",
       "<table border=\"1\" class=\"dataframe\">\n",
       "  <thead>\n",
       "    <tr style=\"text-align: right;\">\n",
       "      <th></th>\n",
       "      <th>recipe</th>\n",
       "      <th>ingredients</th>\n",
       "      <th>score</th>\n",
       "      <th>source</th>\n",
       "      <th>cuisine</th>\n",
       "    </tr>\n",
       "  </thead>\n",
       "  <tbody>\n",
       "    <tr>\n",
       "      <th>0</th>\n",
       "      <td>takeout style chinese spare ribs (take 2)</td>\n",
       "      <td>[5 cloves freshly minced garlic, 1 tablespoon ...</td>\n",
       "      <td>0.000</td>\n",
       "      <td>http://thewoksoflife.com/2014/03/takeout-style...</td>\n",
       "      <td>Chinese</td>\n",
       "    </tr>\n",
       "    <tr>\n",
       "      <th>1</th>\n",
       "      <td>corned beef and vegetables</td>\n",
       "      <td>[1 whole corned beef brisket (6 to 8 pounds), ...</td>\n",
       "      <td>0.000</td>\n",
       "      <td>http://www.goingmywayz.com/corned-beef-vegetab...</td>\n",
       "      <td>Irish</td>\n",
       "    </tr>\n",
       "    <tr>\n",
       "      <th>2</th>\n",
       "      <td>kung pao chicken</td>\n",
       "      <td>[1 tablespoon soy sauce, 2 teaspoons Chinese r...</td>\n",
       "      <td>0.000</td>\n",
       "      <td>http://www.epicurious.com/recipes/food/views/k...</td>\n",
       "      <td>Chinese</td>\n",
       "    </tr>\n",
       "    <tr>\n",
       "      <th>3</th>\n",
       "      <td>pulpo gallego, spanish octopus with paprika</td>\n",
       "      <td>[2 to 3 pounds octopus, 1 bunch of parsley, To...</td>\n",
       "      <td>0.000</td>\n",
       "      <td>https://honest-food.net/pulpo-gallego-recipe-o...</td>\n",
       "      <td>Spanish</td>\n",
       "    </tr>\n",
       "    <tr>\n",
       "      <th>4</th>\n",
       "      <td>pork carnitas</td>\n",
       "      <td>[4 pound boneless pork butt, fat trimmed and c...</td>\n",
       "      <td>0.000</td>\n",
       "      <td>http://www.mykitchenescapades.com/2012/11/pork...</td>\n",
       "      <td>Mexican</td>\n",
       "    </tr>\n",
       "  </tbody>\n",
       "</table>\n",
       "</div>"
      ],
      "text/plain": [
       "                                        recipe  \\\n",
       "0    takeout style chinese spare ribs (take 2)   \n",
       "1                   corned beef and vegetables   \n",
       "2                             kung pao chicken   \n",
       "3  pulpo gallego, spanish octopus with paprika   \n",
       "4                                pork carnitas   \n",
       "\n",
       "                                         ingredients  score  \\\n",
       "0  [5 cloves freshly minced garlic, 1 tablespoon ...  0.000   \n",
       "1  [1 whole corned beef brisket (6 to 8 pounds), ...  0.000   \n",
       "2  [1 tablespoon soy sauce, 2 teaspoons Chinese r...  0.000   \n",
       "3  [2 to 3 pounds octopus, 1 bunch of parsley, To...  0.000   \n",
       "4  [4 pound boneless pork butt, fat trimmed and c...  0.000   \n",
       "\n",
       "                                              source  cuisine  \n",
       "0  http://thewoksoflife.com/2014/03/takeout-style...  Chinese  \n",
       "1  http://www.goingmywayz.com/corned-beef-vegetab...    Irish  \n",
       "2  http://www.epicurious.com/recipes/food/views/k...  Chinese  \n",
       "3  https://honest-food.net/pulpo-gallego-recipe-o...  Spanish  \n",
       "4  http://www.mykitchenescapades.com/2012/11/pork...  Mexican  "
      ]
     },
     "execution_count": 56,
     "metadata": {},
     "output_type": "execute_result"
    }
   ],
   "source": [
    "get_recipes('chicken, soy sauce, rice')"
   ]
  },
  {
   "cell_type": "code",
   "execution_count": 57,
   "metadata": {},
   "outputs": [
    {
     "data": {
      "text/html": [
       "<div>\n",
       "<style scoped>\n",
       "    .dataframe tbody tr th:only-of-type {\n",
       "        vertical-align: middle;\n",
       "    }\n",
       "\n",
       "    .dataframe tbody tr th {\n",
       "        vertical-align: top;\n",
       "    }\n",
       "\n",
       "    .dataframe thead th {\n",
       "        text-align: right;\n",
       "    }\n",
       "</style>\n",
       "<table border=\"1\" class=\"dataframe\">\n",
       "  <thead>\n",
       "    <tr style=\"text-align: right;\">\n",
       "      <th></th>\n",
       "      <th>recipe</th>\n",
       "      <th>ingredients</th>\n",
       "      <th>score</th>\n",
       "      <th>source</th>\n",
       "      <th>cuisine</th>\n",
       "    </tr>\n",
       "  </thead>\n",
       "  <tbody>\n",
       "    <tr>\n",
       "      <th>0</th>\n",
       "      <td>takeout style chinese spare ribs (take 2)</td>\n",
       "      <td>[5 cloves freshly minced garlic, 1 tablespoon ...</td>\n",
       "      <td>0.000</td>\n",
       "      <td>http://thewoksoflife.com/2014/03/takeout-style...</td>\n",
       "      <td>Chinese</td>\n",
       "    </tr>\n",
       "    <tr>\n",
       "      <th>1</th>\n",
       "      <td>corned beef and vegetables</td>\n",
       "      <td>[1 whole corned beef brisket (6 to 8 pounds), ...</td>\n",
       "      <td>0.000</td>\n",
       "      <td>http://www.goingmywayz.com/corned-beef-vegetab...</td>\n",
       "      <td>Irish</td>\n",
       "    </tr>\n",
       "    <tr>\n",
       "      <th>2</th>\n",
       "      <td>kung pao chicken</td>\n",
       "      <td>[1 tablespoon soy sauce, 2 teaspoons Chinese r...</td>\n",
       "      <td>0.000</td>\n",
       "      <td>http://www.epicurious.com/recipes/food/views/k...</td>\n",
       "      <td>Chinese</td>\n",
       "    </tr>\n",
       "    <tr>\n",
       "      <th>3</th>\n",
       "      <td>pulpo gallego, spanish octopus with paprika</td>\n",
       "      <td>[2 to 3 pounds octopus, 1 bunch of parsley, To...</td>\n",
       "      <td>0.000</td>\n",
       "      <td>https://honest-food.net/pulpo-gallego-recipe-o...</td>\n",
       "      <td>Spanish</td>\n",
       "    </tr>\n",
       "    <tr>\n",
       "      <th>4</th>\n",
       "      <td>pork carnitas</td>\n",
       "      <td>[4 pound boneless pork butt, fat trimmed and c...</td>\n",
       "      <td>0.000</td>\n",
       "      <td>http://www.mykitchenescapades.com/2012/11/pork...</td>\n",
       "      <td>Mexican</td>\n",
       "    </tr>\n",
       "  </tbody>\n",
       "</table>\n",
       "</div>"
      ],
      "text/plain": [
       "                                        recipe  \\\n",
       "0    takeout style chinese spare ribs (take 2)   \n",
       "1                   corned beef and vegetables   \n",
       "2                             kung pao chicken   \n",
       "3  pulpo gallego, spanish octopus with paprika   \n",
       "4                                pork carnitas   \n",
       "\n",
       "                                         ingredients  score  \\\n",
       "0  [5 cloves freshly minced garlic, 1 tablespoon ...  0.000   \n",
       "1  [1 whole corned beef brisket (6 to 8 pounds), ...  0.000   \n",
       "2  [1 tablespoon soy sauce, 2 teaspoons Chinese r...  0.000   \n",
       "3  [2 to 3 pounds octopus, 1 bunch of parsley, To...  0.000   \n",
       "4  [4 pound boneless pork butt, fat trimmed and c...  0.000   \n",
       "\n",
       "                                              source  cuisine  \n",
       "0  http://thewoksoflife.com/2014/03/takeout-style...  Chinese  \n",
       "1  http://www.goingmywayz.com/corned-beef-vegetab...    Irish  \n",
       "2  http://www.epicurious.com/recipes/food/views/k...  Chinese  \n",
       "3  https://honest-food.net/pulpo-gallego-recipe-o...  Spanish  \n",
       "4  http://www.mykitchenescapades.com/2012/11/pork...  Mexican  "
      ]
     },
     "execution_count": 57,
     "metadata": {},
     "output_type": "execute_result"
    }
   ],
   "source": [
    "get_recipes('pineapple, soy sauce, noodles')"
   ]
  },
  {
   "cell_type": "code",
   "execution_count": 58,
   "metadata": {},
   "outputs": [
    {
     "data": {
      "text/html": [
       "<div>\n",
       "<style scoped>\n",
       "    .dataframe tbody tr th:only-of-type {\n",
       "        vertical-align: middle;\n",
       "    }\n",
       "\n",
       "    .dataframe tbody tr th {\n",
       "        vertical-align: top;\n",
       "    }\n",
       "\n",
       "    .dataframe thead th {\n",
       "        text-align: right;\n",
       "    }\n",
       "</style>\n",
       "<table border=\"1\" class=\"dataframe\">\n",
       "  <thead>\n",
       "    <tr style=\"text-align: right;\">\n",
       "      <th></th>\n",
       "      <th>recipe</th>\n",
       "      <th>ingredients</th>\n",
       "      <th>score</th>\n",
       "      <th>source</th>\n",
       "      <th>cuisine</th>\n",
       "    </tr>\n",
       "  </thead>\n",
       "  <tbody>\n",
       "    <tr>\n",
       "      <th>0</th>\n",
       "      <td>takeout style chinese spare ribs (take 2)</td>\n",
       "      <td>[5 cloves freshly minced garlic, 1 tablespoon ...</td>\n",
       "      <td>0.000</td>\n",
       "      <td>http://thewoksoflife.com/2014/03/takeout-style...</td>\n",
       "      <td>Chinese</td>\n",
       "    </tr>\n",
       "    <tr>\n",
       "      <th>1</th>\n",
       "      <td>corned beef and vegetables</td>\n",
       "      <td>[1 whole corned beef brisket (6 to 8 pounds), ...</td>\n",
       "      <td>0.000</td>\n",
       "      <td>http://www.goingmywayz.com/corned-beef-vegetab...</td>\n",
       "      <td>Irish</td>\n",
       "    </tr>\n",
       "    <tr>\n",
       "      <th>2</th>\n",
       "      <td>kung pao chicken</td>\n",
       "      <td>[1 tablespoon soy sauce, 2 teaspoons Chinese r...</td>\n",
       "      <td>0.000</td>\n",
       "      <td>http://www.epicurious.com/recipes/food/views/k...</td>\n",
       "      <td>Chinese</td>\n",
       "    </tr>\n",
       "    <tr>\n",
       "      <th>3</th>\n",
       "      <td>pulpo gallego, spanish octopus with paprika</td>\n",
       "      <td>[2 to 3 pounds octopus, 1 bunch of parsley, To...</td>\n",
       "      <td>0.000</td>\n",
       "      <td>https://honest-food.net/pulpo-gallego-recipe-o...</td>\n",
       "      <td>Spanish</td>\n",
       "    </tr>\n",
       "    <tr>\n",
       "      <th>4</th>\n",
       "      <td>pork carnitas</td>\n",
       "      <td>[4 pound boneless pork butt, fat trimmed and c...</td>\n",
       "      <td>0.000</td>\n",
       "      <td>http://www.mykitchenescapades.com/2012/11/pork...</td>\n",
       "      <td>Mexican</td>\n",
       "    </tr>\n",
       "  </tbody>\n",
       "</table>\n",
       "</div>"
      ],
      "text/plain": [
       "                                        recipe  \\\n",
       "0    takeout style chinese spare ribs (take 2)   \n",
       "1                   corned beef and vegetables   \n",
       "2                             kung pao chicken   \n",
       "3  pulpo gallego, spanish octopus with paprika   \n",
       "4                                pork carnitas   \n",
       "\n",
       "                                         ingredients  score  \\\n",
       "0  [5 cloves freshly minced garlic, 1 tablespoon ...  0.000   \n",
       "1  [1 whole corned beef brisket (6 to 8 pounds), ...  0.000   \n",
       "2  [1 tablespoon soy sauce, 2 teaspoons Chinese r...  0.000   \n",
       "3  [2 to 3 pounds octopus, 1 bunch of parsley, To...  0.000   \n",
       "4  [4 pound boneless pork butt, fat trimmed and c...  0.000   \n",
       "\n",
       "                                              source  cuisine  \n",
       "0  http://thewoksoflife.com/2014/03/takeout-style...  Chinese  \n",
       "1  http://www.goingmywayz.com/corned-beef-vegetab...    Irish  \n",
       "2  http://www.epicurious.com/recipes/food/views/k...  Chinese  \n",
       "3  https://honest-food.net/pulpo-gallego-recipe-o...  Spanish  \n",
       "4  http://www.mykitchenescapades.com/2012/11/pork...  Mexican  "
      ]
     },
     "execution_count": 58,
     "metadata": {},
     "output_type": "execute_result"
    }
   ],
   "source": [
    "get_recipes('parmesan, fettucine')"
   ]
  }
 ],
 "metadata": {
  "kernelspec": {
   "display_name": "Python 3",
   "language": "python",
   "name": "python3"
  },
  "language_info": {
   "codemirror_mode": {
    "name": "ipython",
    "version": 3
   },
   "file_extension": ".py",
   "mimetype": "text/x-python",
   "name": "python",
   "nbconvert_exporter": "python",
   "pygments_lexer": "ipython3",
   "version": "3.8.5"
  }
 },
 "nbformat": 4,
 "nbformat_minor": 4
}
